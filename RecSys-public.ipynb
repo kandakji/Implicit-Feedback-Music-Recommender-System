{
 "cells": [
  {
   "cell_type": "code",
   "execution_count": 1,
   "metadata": {},
   "outputs": [
    {
     "name": "stdout",
     "output_type": "stream",
     "text": [
      "Requirement already satisfied: implicit in /mnt/workspace/.local/lib/python3.5/site-packages (0.3.8)\n",
      "Requirement already satisfied: numpy in /usr/local/lib/python3.5/dist-packages (from implicit) (1.14.5)\n",
      "Requirement already satisfied: tqdm in /mnt/workspace/.local/lib/python3.5/site-packages (from implicit) (4.31.1)\n",
      "Requirement already satisfied: scipy>=0.16 in /usr/local/lib/python3.5/dist-packages (from implicit) (1.1.0)\n",
      "\u001b[33mYou are using pip version 18.0, however version 19.0.3 is available.\n",
      "You should consider upgrading via the 'pip install --upgrade pip' command.\u001b[0m\n"
     ]
    }
   ],
   "source": [
    "# Install the library we need for the notebook\n",
    "!pip3 install --user 'implicit'"
   ]
  },
  {
   "cell_type": "markdown",
   "metadata": {
    "slideshow": {
     "slide_type": "slide"
    }
   },
   "source": [
    "# Building a music recommender system (Spring 2019)"
   ]
  },
  {
   "cell_type": "markdown",
   "metadata": {
    "slideshow": {
     "slide_type": "slide"
    }
   },
   "source": [
    "As its name implies, a recommender system is a tool that helps predicting what a user may or may not like among a list of given items. In some sense, you can view this as an alternative to content search, as recommendation engines help users discover products or content that they may not come across otherwise. For example, Facebook suggests friends and pages to users. Youtube recommends videos which users may be interested in. Amazon suggests the products which users may need... Recommendation engines engage users to services, can be seen as a revenue optimization process, and in general help maintaining interest in a service.\n",
    "\n",
    "In this notebook, we study how to build a simple recommender system: we focus on music recommendations, and we use a simple algorithm to predict which items users might like, that is called ALS, alternating least squares.\n",
    "\n",
    "## Goals\n",
    "\n",
    "In this lecture, we expect students to:\n",
    "\n",
    "- Revisit (or learn) recommender algorithms\n",
    "\n",
    "- Understand the idea of Matrix Factorization and the ALS algorithm\n",
    "\n",
    "- Build a simple model for a real usecase: music recommender system\n",
    "\n",
    "- Understand how to validate the results\n",
    "\n",
    "## Steps\n",
    "\n",
    "We assume students to work outside lab hours on the learning material. These are the steps by which we guide students, during labs, to build a good basis for the end-to-end development of a recommender system:\n",
    "\n",
    "* Inspect the data using Pandas, and build some basic, but very valuable knowledge about the information we have at hand\n",
    "* Formally define what is a sensible algorithm to achieve our goal: given the \"history\" of user taste for music, recommend new music to discover. Essentialy, we want to build a statistical model of user preferences such that we can use it to \"predict\" which additional music the user could like\n",
    "* With our formal definition at hand, we will learn different ways to implement such an algorithm. Our goal here is to illustrate what are the difficulties to overcome when implementing an algorithm like Matrix Factorization\n",
    "* Finally, we will focus on an existing implementation, available in ```Implicit```, which we will use out of the box to build a reliable statistical model\n",
    "\n",
    "Now, you may think at this point we will be done!\n",
    "\n",
    "Well, you'd better think twice: one important topic we will cover in all our Notebooks is **how to validate the results we obtain**, and **how to choose good parameters to train models** especially when using an \"opaque\" library for doing the job. As a consequence, we will focus on the statistical validation of our recommender system.\n"
   ]
  },
  {
   "cell_type": "markdown",
   "metadata": {
    "slideshow": {
     "slide_type": "slide"
    }
   },
   "source": [
    "# 1. Data\n",
    "\n",
    "Understanding data is one of the most important part when designing any machine learning algorithm. In this notebook, we will use a data set published by Audioscrobbler - a music recommendation system for last.fm. Audioscrobbler is also one of the first internet streaming radio sites, founded in 2002. It provided an open API for scrobbling, or recording listeners' plays of artists' songs. last.fm used this information to build a powerful music recommender engine.\n",
    "\n",
    "## 1.1. Data schema\n",
    "\n",
    "Unlike a rating dataset which contains information about users' preference for products (one star, 3 stars, and so on), the datasets from Audioscrobbler only has information about events: specifically, it keeps track of how many times a user played songs of a given artist and the names of artists. That means it carries less information than a rating: in the literature, this is called explicit vs. implicit ratings.\n",
    "\n",
    "### Reading material\n",
    "\n",
    "- [Implicit Feedback for Inferring User Preference: A Bibliography](http://people.csail.mit.edu/teevan/work/publications/papers/sigir-forum03.pdf)\n",
    "- [Comparing explicit and implicit feedback techniques for web retrieval: TREC-10 interactive track report](http://trec.nist.gov/pubs/trec10/papers/glasgow.pdf)\n",
    "- [Probabilistic Models for Data Combination in Recommender Systems](http://mlg.eng.cam.ac.uk/pub/pdf/WilGha08.pdf)\n",
    "\n",
    "The data we use in this Notebook is available in 3 files (these files are stored in our HDFS layer, in the directory  ```/datasets/lastfm```):\n",
    "\n",
    "- **`user_artist_data.txt`**: It contains about 140,000+ unique users, and 1.6 million unique artists. About 24.2 million users' plays of artists' are recorded, along with their count. It has 3 columns separated by spaces: \n",
    "\n",
    "| UserID | ArtistID | PlayCount |\n",
    "|----|----|----|\n",
    "| ...|...|...|\n",
    "\n",
    "\n",
    "- **`artist_data.txt`** : It prodives the names of each artist by their IDs. It has 2 columns separated by tab characters (`\\t`).\n",
    "\n",
    "| ArtistID | Name |\n",
    "|---|---|\n",
    "|...|...|\n",
    "\n",
    "- **`artist_alias.txt`**: Note that when plays are scrobbled, the client application submits the name of the artist being played. This name could be misspelled or nonstandard. For example, \"The Smiths\", \"Smiths, The\", and \"the smiths\" may appear as distinct artist IDs in the data set, even though they are plainly the same. `artist_alias.txt` maps artist IDs that are known misspellings or variants to the canonical ID of that artist. The data in this file has 2 columns separated by tab characters (`\\t`).\n",
    "\n",
    "| MisspelledArtistID | StandardArtistID |\n",
    "|---|---|\n",
    "|...|...|\n",
    "\n"
   ]
  },
  {
   "cell_type": "markdown",
   "metadata": {
    "slideshow": {
     "slide_type": "slide"
    }
   },
   "source": [
    "## 1.2. Understanding data: simple descriptive statistic\n",
    "\n",
    "In order to choose or design a suitable algorithm for achieving our goals, given the data we have, we should first understand data characteristics. To start, we import the necessary packages to work with regular expressions, Data Frames, and other nice features of our programming environment."
   ]
  },
  {
   "cell_type": "code",
   "execution_count": 2,
   "metadata": {
    "slideshow": {
     "slide_type": "subslide"
    }
   },
   "outputs": [],
   "source": [
    "%matplotlib inline\n",
    "import os\n",
    "import sys\n",
    "import re\n",
    "import random\n",
    "import matplotlib\n",
    "import implicit\n",
    "\n",
    "import matplotlib.pyplot as plt\n",
    "import pandas as pd\n",
    "import numpy as np\n",
    "\n",
    "from time import time\n",
    "\n",
    "os.environ[\"OPENBLAS_NUM_THREADS\"] = \"1\"   # Required by implicit\n",
    "\n",
    "base = \"/mnt/datasets/lastfm/\""
   ]
  },
  {
   "cell_type": "markdown",
   "metadata": {
    "slideshow": {
     "slide_type": "slide"
    }
   },
   "source": [
    "### Question 1\n",
    "\n",
    "#### Question 1.0 (Non-grading)\n",
    "\n",
    "Using Pandas, load data from `/datasets/lastfm/user_artist_data.txt` (407 MB) and show the first 20 entries (via function `show()`).\n",
    "\n",
    "```bash \n",
    "$ du -sh /mnt/datasets/lastfm/user_artist_data.txt\n",
    "407M     /mnt/datasets/lastfm/user_artist_data.txt\n",
    "```\n",
    "\n",
    "For this Notebook, from a programming point of view, we are given the schema for the data we use, which is as follows:\n",
    "\n",
    "```\n",
    "userID: long int\n",
    "artistID: long int\n",
    "playCount: int\n",
    "```\n",
    "\n",
    "Each line of the dataset contains the above three fields, separated by a \"white space\".\n"
   ]
  },
  {
   "cell_type": "code",
   "execution_count": 3,
   "metadata": {
    "slideshow": {
     "slide_type": "subslide"
    }
   },
   "outputs": [
    {
     "data": {
      "text/html": [
       "<div>\n",
       "<style scoped>\n",
       "    .dataframe tbody tr th:only-of-type {\n",
       "        vertical-align: middle;\n",
       "    }\n",
       "\n",
       "    .dataframe tbody tr th {\n",
       "        vertical-align: top;\n",
       "    }\n",
       "\n",
       "    .dataframe thead th {\n",
       "        text-align: right;\n",
       "    }\n",
       "</style>\n",
       "<table border=\"1\" class=\"dataframe\">\n",
       "  <thead>\n",
       "    <tr style=\"text-align: right;\">\n",
       "      <th></th>\n",
       "      <th>userID</th>\n",
       "      <th>artistID</th>\n",
       "      <th>playCount</th>\n",
       "    </tr>\n",
       "  </thead>\n",
       "  <tbody>\n",
       "    <tr>\n",
       "      <th>0</th>\n",
       "      <td>1000002</td>\n",
       "      <td>1</td>\n",
       "      <td>55</td>\n",
       "    </tr>\n",
       "    <tr>\n",
       "      <th>1</th>\n",
       "      <td>1000002</td>\n",
       "      <td>1000006</td>\n",
       "      <td>33</td>\n",
       "    </tr>\n",
       "    <tr>\n",
       "      <th>2</th>\n",
       "      <td>1000002</td>\n",
       "      <td>1000007</td>\n",
       "      <td>8</td>\n",
       "    </tr>\n",
       "    <tr>\n",
       "      <th>3</th>\n",
       "      <td>1000002</td>\n",
       "      <td>1000009</td>\n",
       "      <td>144</td>\n",
       "    </tr>\n",
       "    <tr>\n",
       "      <th>4</th>\n",
       "      <td>1000002</td>\n",
       "      <td>1000010</td>\n",
       "      <td>314</td>\n",
       "    </tr>\n",
       "    <tr>\n",
       "      <th>5</th>\n",
       "      <td>1000002</td>\n",
       "      <td>1000013</td>\n",
       "      <td>8</td>\n",
       "    </tr>\n",
       "    <tr>\n",
       "      <th>6</th>\n",
       "      <td>1000002</td>\n",
       "      <td>1000014</td>\n",
       "      <td>42</td>\n",
       "    </tr>\n",
       "    <tr>\n",
       "      <th>7</th>\n",
       "      <td>1000002</td>\n",
       "      <td>1000017</td>\n",
       "      <td>69</td>\n",
       "    </tr>\n",
       "    <tr>\n",
       "      <th>8</th>\n",
       "      <td>1000002</td>\n",
       "      <td>1000024</td>\n",
       "      <td>329</td>\n",
       "    </tr>\n",
       "    <tr>\n",
       "      <th>9</th>\n",
       "      <td>1000002</td>\n",
       "      <td>1000025</td>\n",
       "      <td>1</td>\n",
       "    </tr>\n",
       "    <tr>\n",
       "      <th>10</th>\n",
       "      <td>1000002</td>\n",
       "      <td>1000028</td>\n",
       "      <td>17</td>\n",
       "    </tr>\n",
       "    <tr>\n",
       "      <th>11</th>\n",
       "      <td>1000002</td>\n",
       "      <td>1000031</td>\n",
       "      <td>47</td>\n",
       "    </tr>\n",
       "    <tr>\n",
       "      <th>12</th>\n",
       "      <td>1000002</td>\n",
       "      <td>1000033</td>\n",
       "      <td>15</td>\n",
       "    </tr>\n",
       "    <tr>\n",
       "      <th>13</th>\n",
       "      <td>1000002</td>\n",
       "      <td>1000042</td>\n",
       "      <td>1</td>\n",
       "    </tr>\n",
       "    <tr>\n",
       "      <th>14</th>\n",
       "      <td>1000002</td>\n",
       "      <td>1000045</td>\n",
       "      <td>1</td>\n",
       "    </tr>\n",
       "    <tr>\n",
       "      <th>15</th>\n",
       "      <td>1000002</td>\n",
       "      <td>1000054</td>\n",
       "      <td>2</td>\n",
       "    </tr>\n",
       "    <tr>\n",
       "      <th>16</th>\n",
       "      <td>1000002</td>\n",
       "      <td>1000055</td>\n",
       "      <td>25</td>\n",
       "    </tr>\n",
       "    <tr>\n",
       "      <th>17</th>\n",
       "      <td>1000002</td>\n",
       "      <td>1000056</td>\n",
       "      <td>4</td>\n",
       "    </tr>\n",
       "    <tr>\n",
       "      <th>18</th>\n",
       "      <td>1000002</td>\n",
       "      <td>1000059</td>\n",
       "      <td>2</td>\n",
       "    </tr>\n",
       "    <tr>\n",
       "      <th>19</th>\n",
       "      <td>1000002</td>\n",
       "      <td>1000062</td>\n",
       "      <td>71</td>\n",
       "    </tr>\n",
       "  </tbody>\n",
       "</table>\n",
       "</div>"
      ],
      "text/plain": [
       "     userID  artistID  playCount\n",
       "0   1000002         1         55\n",
       "1   1000002   1000006         33\n",
       "2   1000002   1000007          8\n",
       "3   1000002   1000009        144\n",
       "4   1000002   1000010        314\n",
       "5   1000002   1000013          8\n",
       "6   1000002   1000014         42\n",
       "7   1000002   1000017         69\n",
       "8   1000002   1000024        329\n",
       "9   1000002   1000025          1\n",
       "10  1000002   1000028         17\n",
       "11  1000002   1000031         47\n",
       "12  1000002   1000033         15\n",
       "13  1000002   1000042          1\n",
       "14  1000002   1000045          1\n",
       "15  1000002   1000054          2\n",
       "16  1000002   1000055         25\n",
       "17  1000002   1000056          4\n",
       "18  1000002   1000059          2\n",
       "19  1000002   1000062         71"
      ]
     },
     "execution_count": 3,
     "metadata": {},
     "output_type": "execute_result"
    }
   ],
   "source": [
    "# Read the .csv file (might take a while)\n",
    "userArtistDF = pd.read_csv(base + 'user_artist_data.txt', \n",
    "                           sep=' ', \n",
    "                           header=None, \n",
    "                           names=['userID', 'artistID', 'playCount'])\n",
    "\n",
    "# Cast each column to its correct datatype\n",
    "userArtistDF['userID'] = userArtistDF['userID'].astype(np.int64, errors='ignore')\n",
    "userArtistDF['artistID'] = userArtistDF['artistID'].astype(np.int64, errors='ignore')\n",
    "userArtistDF['playCount'] = userArtistDF['playCount'].astype(np.int32, errors='ignore')\n",
    "\n",
    "# Display the first 20 records\n",
    "userArtistDF[:20]"
   ]
  },
  {
   "cell_type": "markdown",
   "metadata": {
    "slideshow": {
     "slide_type": "slide"
    }
   },
   "source": [
    "#### Question 1.1: \n",
    "<div class=\"alert alert-info\">\n",
    "How many distinct users do we have in our data? \n",
    "</div>"
   ]
  },
  {
   "cell_type": "code",
   "execution_count": 4,
   "metadata": {
    "slideshow": {
     "slide_type": "subslide"
    }
   },
   "outputs": [
    {
     "name": "stdout",
     "output_type": "stream",
     "text": [
      "Total n. of users:  148111\n"
     ]
    }
   ],
   "source": [
    "uniqueUsers = userArtistDF['userID'].nunique()\n",
    "print(\"Total n. of users: \", uniqueUsers)"
   ]
  },
  {
   "cell_type": "markdown",
   "metadata": {
    "slideshow": {
     "slide_type": "slide"
    }
   },
   "source": [
    "#### Question 1.2\n",
    "<div class=\"alert alert-info\">\n",
    "How many distinct artists do we have in our data ?\n",
    "</div>"
   ]
  },
  {
   "cell_type": "code",
   "execution_count": 5,
   "metadata": {
    "slideshow": {
     "slide_type": "subslide"
    }
   },
   "outputs": [
    {
     "name": "stdout",
     "output_type": "stream",
     "text": [
      "Total n. of artists:  1631028\n"
     ]
    }
   ],
   "source": [
    "uniqueArtists = userArtistDF['artistID'].nunique()\n",
    "print(\"Total n. of artists: \", uniqueArtists)"
   ]
  },
  {
   "cell_type": "markdown",
   "metadata": {
    "slideshow": {
     "slide_type": "-"
    }
   },
   "source": [
    "We just discovered that we have a total of 148,111 users in our dataset. Similarly, we have a total of 1,631,028 artists in our dataset. \n",
    "\n",
    "One thing we can see here is that Pandas provides very concise and powerful methods for data analytics."
   ]
  },
  {
   "cell_type": "markdown",
   "metadata": {},
   "source": [
    "#### Question 1.3 (Extra/Optional)\n",
    "<div class=\"alert alert-info\">\n",
    "What are the maximum and minimum play counts ?\n",
    "</div>"
   ]
  },
  {
   "cell_type": "code",
   "execution_count": 6,
   "metadata": {},
   "outputs": [
    {
     "name": "stdout",
     "output_type": "stream",
     "text": [
      "The user with the most plays has reached 674412  plays.\n",
      "The user with the least plays has reached 1  play.\n"
     ]
    }
   ],
   "source": [
    "# Group by user ID's and aggregate over the sum of play counts\n",
    "userActivity = userArtistDF.groupby([\"userID\"], as_index = False)[\"playCount\"].sum()\n",
    "\n",
    "print(\"The user with the most plays has reached\",userActivity[\"playCount\"].max(), \" plays.\")\n",
    "print(\"The user with the least plays has reached\",userActivity[\"playCount\"].min(), \" play.\")"
   ]
  },
  {
   "cell_type": "markdown",
   "metadata": {
    "slideshow": {
     "slide_type": "-"
    }
   },
   "source": [
    "Next, we might want to understand better user activity and artist popularity.\n",
    "\n",
    "Here is a list of simple descriptive queries that helps us reaching these purposes:\n",
    "\n",
    "* How many times each user has played a song? This is a good indicator of who are the most active users of our service. Note that a very active user with many play counts does not necessarily mean that the user is also \"curious\"! Indeed, she could have played the same song several times.\n",
    "* How many play counts for each artist? This is a good indicator of the artist popularity. Since we do not have time information associated to our data, we can only build a, e.g., top-10 ranking of the most popular artists in the dataset. Later in the notebook, we will learn that our dataset has a very \"loose\" definition about artists: very often artist IDs point to song titles as well. This means we have to be careful when establishing popular artists. Indeed, artists whose data is \"well formed\" will have the correct number of play counts associated to them. Instead, artists that appear mixed with song titles may see their play counts \"diluted\" across their songs."
   ]
  },
  {
   "cell_type": "markdown",
   "metadata": {
    "slideshow": {
     "slide_type": "slide"
    }
   },
   "source": [
    "### Question 2\n",
    "\n",
    "#### Question 2.1\n",
    "<div class=\"alert alert-info\">\n",
    "How many times each user has played a song? Show 5 samples of the result.\n",
    "</div>"
   ]
  },
  {
   "cell_type": "markdown",
   "metadata": {},
   "source": [
    "<div class=\"alert alert-success\" style=\"background-color: AliceBlue; border-color: CornflowerBlue \"> \n",
    "The needed dataframe already obtained in <b>Question 1.3</b>\n",
    "</div>"
   ]
  },
  {
   "cell_type": "code",
   "execution_count": 7,
   "metadata": {
    "slideshow": {
     "slide_type": "subslide"
    }
   },
   "outputs": [
    {
     "data": {
      "text/html": [
       "<div>\n",
       "<style scoped>\n",
       "    .dataframe tbody tr th:only-of-type {\n",
       "        vertical-align: middle;\n",
       "    }\n",
       "\n",
       "    .dataframe tbody tr th {\n",
       "        vertical-align: top;\n",
       "    }\n",
       "\n",
       "    .dataframe thead th {\n",
       "        text-align: right;\n",
       "    }\n",
       "</style>\n",
       "<table border=\"1\" class=\"dataframe\">\n",
       "  <thead>\n",
       "    <tr style=\"text-align: right;\">\n",
       "      <th></th>\n",
       "      <th>userID</th>\n",
       "      <th>playCount</th>\n",
       "    </tr>\n",
       "  </thead>\n",
       "  <tbody>\n",
       "    <tr>\n",
       "      <th>0</th>\n",
       "      <td>90</td>\n",
       "      <td>537</td>\n",
       "    </tr>\n",
       "    <tr>\n",
       "      <th>1</th>\n",
       "      <td>98</td>\n",
       "      <td>186</td>\n",
       "    </tr>\n",
       "    <tr>\n",
       "      <th>2</th>\n",
       "      <td>116</td>\n",
       "      <td>20</td>\n",
       "    </tr>\n",
       "    <tr>\n",
       "      <th>3</th>\n",
       "      <td>120</td>\n",
       "      <td>65</td>\n",
       "    </tr>\n",
       "    <tr>\n",
       "      <th>4</th>\n",
       "      <td>128</td>\n",
       "      <td>133</td>\n",
       "    </tr>\n",
       "  </tbody>\n",
       "</table>\n",
       "</div>"
      ],
      "text/plain": [
       "   userID  playCount\n",
       "0      90        537\n",
       "1      98        186\n",
       "2     116         20\n",
       "3     120         65\n",
       "4     128        133"
      ]
     },
     "execution_count": 7,
     "metadata": {},
     "output_type": "execute_result"
    }
   ],
   "source": [
    "# Compute user activity\n",
    "# We are interested in how many playcounts each user has scored.\n",
    "# Group the dataframe according to userID and then aggregate by summing over the playCount\n",
    "\n",
    "# Already obtained in 1.3\n",
    "userActivity[0:5]"
   ]
  },
  {
   "cell_type": "markdown",
   "metadata": {},
   "source": [
    "### Visualizing User Play Count Distribution"
   ]
  },
  {
   "cell_type": "code",
   "execution_count": 8,
   "metadata": {
    "scrolled": false
   },
   "outputs": [
    {
     "data": {
      "text/plain": [
       "<matplotlib.collections.PathCollection at 0x7fd593354828>"
      ]
     },
     "execution_count": 8,
     "metadata": {},
     "output_type": "execute_result"
    },
    {
     "data": {
      "image/png": "[encoded data removed]",
      "text/plain": [
       "<Figure size 864x432 with 1 Axes>"
      ]
     },
     "metadata": {},
     "output_type": "display_data"
    }
   ],
   "source": [
    "fig, ax = plt.subplots()\n",
    "fig.set_size_inches(12, 6)\n",
    "\n",
    "ax.set_xlabel(\"User ID\")\n",
    "ax.set_ylabel(\"Play Count\")\n",
    "ax.grid(True)\n",
    "ax.set_title(\"The Total Number of Play for Every User ID\", size = 15)\n",
    "ax.scatter(userActivity['userID'],userActivity['playCount'], cmap = 'magma', c = userActivity['playCount'], s = 7)"
   ]
  },
  {
   "cell_type": "markdown",
   "metadata": {},
   "source": [
    "<div class=\"alert alert-success\" style=\"background-color: AliceBlue; border-color: CornflowerBlue \"> \n",
    "When we visualize the play counts for all the user ID's, we can see that the ID's are separated where there are mostly unused ID's and we can also observe that the vast majority of the play counts are below 100K with some cases above that. However, we can observe this phenomenon in a better way by constructing the <b>Comulative distribution function</b> in the next question.\n",
    "</div>"
   ]
  },
  {
   "cell_type": "markdown",
   "metadata": {
    "slideshow": {
     "slide_type": "slide"
    }
   },
   "source": [
    "#### Question 2.2\n",
    "<div class=\"alert alert-info\">\n",
    "Plot CDF (or ECDF) of the number of play counts per User ID.  \n",
    "\n",
    "Explain and comment the figure you just created:   \n",
    "<ul>\n",
    "<li>for example, look at important percentiles (10%, 25%, median, 75%, tails such as >90%) and cross check with what you have found above to figure out if the result is plausible. </li>\n",
    "<li>discuss about your users, with respect to the application domain we target in the notebook: you will notice that for some users, there is very little interaction with the system, which means that maybe reccommending something to them is going to be more difficult than for other users who interact more with the system. </li>\n",
    "<li>look at outliers and reason about their impact on your reccommender algorithm</li>\n",
    "</ul>\n",
    "</div>"
   ]
  },
  {
   "cell_type": "code",
   "execution_count": 8,
   "metadata": {},
   "outputs": [
    {
     "data": {
      "image/png": "[encoded data removed]",
      "text/plain": [
       "<Figure size 864x432 with 1 Axes>"
      ]
     },
     "metadata": {},
     "output_type": "display_data"
    }
   ],
   "source": [
    "fig, ax = plt.subplots()\n",
    "fig.set_size_inches(12, 6)\n",
    "\n",
    "# Plot the cumulative distribution\n",
    "userActivity[\"playCount\"].hist(cumulative=True, density=1, bins='auto',ax=ax)\n",
    "\n",
    "colors = {0:\"red\", 1: \"orange\", 2:\"yellow\", 3:\"darkgreen\", 4:\"cyan\"}\n",
    "\n",
    "# Calculate and plot the 5 important percentiles\n",
    "for i, quantile in enumerate([.1, 0.25, .5, .75, .9]):\n",
    "    ax.axvline(userActivity[\"playCount\"].quantile(quantile), label='%.0fth perc.' % (quantile*100), color = colors[i])\n",
    "    ax.axhline(quantile, linestyle='-')\n",
    "    \n",
    "ax.semilogx()\n",
    "ax.set_title('ECDF of number of play counts per User ID')\n",
    "ax.set_xlabel('Play Counts')\n",
    "ax.set_ylabel('ECDF')\n",
    "ax.legend()\n",
    "ax.grid(False)\n",
    "ax.annotate('MEDIAN', (1,0.5), size = 15)\n",
    "plt.show()"
   ]
  },
  {
   "cell_type": "markdown",
   "metadata": {},
   "source": [
    "<div class=\"alert alert-success\" style=\"background-color: AliceBlue; border-color: CornflowerBlue \"> \n",
    "The obtained plot shows a <b>commulative distribution graph</b> for the <b>play count per user</b>. We hereby focus on <b>5</b> different percentiles (10%, 25%, 50%, 75%, 90%) and we can extract the following observations:<br>\n",
    "* 10% of userID's have played music about 34 times or less.<br>\n",
    "* 25% of userID's have played music about 204 times or less.<br>\n",
    "* 50% of userID's have played music about 892 times or less (<b>Median</b>).<br>\n",
    "* 75% of userID's have played music about 2800 times or less.<br>\n",
    "* 90% of userID's have played music about 6484 times or less.<br>\n",
    "This shows us that generally there is a strong overall interaction with the system as half the users actually have played music <b>around a thousand</b> times. This means that recommending music for this majority of the users should be just fine because they have provided a rich <b>implicit feedback</b> to the system. On the contrary, some users do not have this property where 10% of the total population just above 30 songs or less. The latter will make it more difficult to recommend music for them because we haven't collected a large amount of implicit feedback.<br> The users that have a high play count may reach 674412 plays. On the other hand, there are also users that have only one play count value. Such kind of outliers (<b>having very low counts</b>) can either be bots or just one-time users and cannot benifit from the potential of the recommender system.\n",
    "</div>"
   ]
  },
  {
   "cell_type": "markdown",
   "metadata": {
    "slideshow": {
     "slide_type": "slide"
    }
   },
   "source": [
    "#### Question 2.3\n",
    "\n",
    "<div class=\"alert alert-info\">\n",
    "How many play counts for each artist? Plot CDF or ECDF of the result.  \n",
    "\n",
    "Similarly to the previous question, you need to comment and interpret your result: what is the figure telling you?\n",
    "</div>"
   ]
  },
  {
   "cell_type": "code",
   "execution_count": 8,
   "metadata": {},
   "outputs": [],
   "source": [
    "# Compute artist popularity\n",
    "# We are interested in how many playcounts per artist\n",
    "# ATTENTION! Grouping by artistID may be problematic, as stated above.\n",
    "\n",
    "# First we obtain a dataframe that groups the artist and aggregates over the total play count\n",
    "artistPopularity = userArtistDF.groupby(['artistID'], as_index = False)['playCount'].sum()"
   ]
  },
  {
   "cell_type": "code",
   "execution_count": 10,
   "metadata": {
    "scrolled": false,
    "slideshow": {
     "slide_type": "subslide"
    }
   },
   "outputs": [
    {
     "data": {
      "image/png": "[encoded data removed]",
      "text/plain": [
       "<Figure size 864x432 with 1 Axes>"
      ]
     },
     "metadata": {},
     "output_type": "display_data"
    }
   ],
   "source": [
    "fig, ax = plt.subplots()\n",
    "fig.set_size_inches(12, 6)\n",
    "# Plot the cumulative distribution (100000 bins)\n",
    "artistPopularity[\"playCount\"].hist(cumulative=True, density=1, bins=100000, ax=ax)\n",
    "\n",
    "colors = {0:\"red\", 1: \"orange\", 2:\"yellow\", 3:\"darkgreen\", 4:\"cyan\"}\n",
    "\n",
    "# Calculate and plot the 5 important percentiles\n",
    "for i, quantile in enumerate([.1, 0.25, .5, .75, .9]):\n",
    "    ax.axvline(artistPopularity[\"playCount\"].quantile(quantile), label='%.0fth perc.' % (quantile*100), color = colors[i])\n",
    "    ax.axhline(quantile, linestyle='-')\n",
    "\n",
    "    \n",
    "ax.semilogx()\n",
    "ax.set_title('ECDF of number of play counts per Artist ID')\n",
    "ax.set_xlabel('Play Counts')\n",
    "ax.set_ylabel('ECDF')\n",
    "ax.grid(False)\n",
    "ax.annotate('MEDIAN', (1,0.5), size = 15)\n",
    "ax.legend(loc = 'lower right')\n",
    "plt.show()"
   ]
  },
  {
   "cell_type": "markdown",
   "metadata": {},
   "source": [
    "<div class=\"alert alert-success\" style=\"background-color: AliceBlue; border-color: CornflowerBlue \"> \n",
    "The plot above shows the <b>commulative distribution function</b> of the <b>play counts per artist ID</b>. This plot has a different shape from the one studying the user activity. Before going to the analysis of the result, lets extract the numerical data:<br>\n",
    "* 10% of artistID's have played music about 1 time or less.<br>\n",
    "* 25% of artistID's have played music about 1 time or less.<br>\n",
    "* 50% of artistID's have played music about 3 times or less (<b>Median</b>).<br>\n",
    "* 75% of artistID's have played music about 11 times or less.<br>\n",
    "* 90% of artistID's have played music about 45 times or less.<br>\n",
    "We can easily conclude that the data is <b>skewed</b> towards the lower playcount side which actually draws suspicion. And this begs the question: <b>\"can 90% of all artist actually have less than 45 plays?!\"</b> Well this is highly unlikely. But as mentioned before in <b>Question 1</b> regarding the fact that serveral artistID's may correspond to the same artist (artistID's may correspond to a song or a typo in the name of the artist) is emphasized in the plot obtained, since we have a huge portion of artistID (more than 90%) having very low play records. Thus, these artistID are most likely to represent typos and songs and hence the data we currently have is heavily diluted and hides the actual characteristics and statistics of the performance and popularity of artists on the system.<br>\n",
    "<b>NOTE</b>: it is also important to point out that we have more than <b>1.6 million artist IDs</b> where only <b>163 K</b> have more than 45 play record.\n",
    "</div>"
   ]
  },
  {
   "cell_type": "markdown",
   "metadata": {
    "slideshow": {
     "slide_type": "slide"
    }
   },
   "source": [
    "#### Question 2.4\n",
    "<div class=\"alert alert-info\">\n",
    "Plot a bar chart to show top 10 artists In terms of absolute play counts.  \n",
    "\n",
    "Comment the figure you just obtained: \n",
    "<ul>\n",
    "<li>are these reasonable results?</li>\n",
    "<li>is looking at top-10 artists enough to learn more about your data?</li>\n",
    "<li>do you see anything strange in the data?</li>\n",
    "</ul>\n",
    "</div>"
   ]
  },
  {
   "cell_type": "code",
   "execution_count": 9,
   "metadata": {
    "slideshow": {
     "slide_type": "subslide"
    }
   },
   "outputs": [
    {
     "data": {
      "image/png": "[encoded data removed]",
      "text/plain": [
       "<Figure size 864x432 with 1 Axes>"
      ]
     },
     "metadata": {},
     "output_type": "display_data"
    },
    {
     "data": {
      "image/png": "[encoded data removed]",
      "text/plain": [
       "<Figure size 864x432 with 1 Axes>"
      ]
     },
     "metadata": {},
     "output_type": "display_data"
    }
   ],
   "source": [
    "topN = 10\n",
    "\n",
    "# Sort the artistID's according to decreasing playCount\n",
    "rankedArtists = artistPopularity.sort_values(by = 'playCount', ascending=False)\n",
    "\n",
    "# Extract the top 10 artists\n",
    "topNArtists = rankedArtists[:topN]\n",
    "\n",
    "# Extract the bottom 10 artists\n",
    "bottomNArtists = rankedArtists[-topN:]\n",
    "\n",
    "\n",
    "fig, ax = plt.subplots()\n",
    "\n",
    "fig.set_size_inches(12,6)\n",
    "\n",
    "topNArtists.set_index(\"artistID\")[\"playCount\"].plot(kind = 'barh', x='playCount', y='artistID', ax=ax)\n",
    "\n",
    "ax.set_xlabel('Play Count')\n",
    "ax.set_ylabel('Artist')\n",
    "ax.set_title('Top-10 Artist ID per play counts')\n",
    "\n",
    "fig2, ax2 = plt.subplots()\n",
    "\n",
    "fig2.set_size_inches(12,6)\n",
    "\n",
    "bottomNArtists.set_index(\"artistID\")[\"playCount\"].plot(kind = 'barh', x='playCount', y='artistID', ax=ax2)\n",
    "\n",
    "ax2.set_xlabel('Play Count')\n",
    "ax2.set_ylabel('Artist')\n",
    "ax2.set_title('Bottom-10 Artist ID per play counts')\n",
    "ax2.set_xticks(bottomNArtists['playCount'])\n",
    "\n",
    "plt.show()"
   ]
  },
  {
   "cell_type": "markdown",
   "metadata": {},
   "source": [
    "<div class=\"alert alert-success\" style=\"background-color: AliceBlue; border-color: CornflowerBlue \"> \n",
    "The above plot shows the top 10 artistID's with respect to the play count. This is, to an extent, an indicator of the artist's popularity. Without any assumption about the <b>uniqueness</b> of the artist IDs, the obtained results are very reasonable as the top 10 artists have high play records ranging from <b>1 million to 2.5 million plays</b>.<br>However, merely looking at the top 10 does not give us enough information about the data. Therefore, we also plotted the bottom 10 artists and we noticed again something stange which is that all of the bottom 10 artists have a play count of <b>1</b>. This emphasized what we saw in the second CDF, which is the fact that actually unique artists may be scattered over several artistID's which is causing the play counts to be <b>diluted</b>.<br>\n",
    "<b>Therefore, we need to further inversigate data and verify this artistID's, so that if they are actually not corresponding to unique artists, we should do a cleaning procedure on the data.</b>\n",
    "</div>"
   ]
  },
  {
   "cell_type": "markdown",
   "metadata": {},
   "source": [
    "### Visualizing Artist Play Count Distribution"
   ]
  },
  {
   "cell_type": "code",
   "execution_count": 10,
   "metadata": {},
   "outputs": [
    {
     "data": {
      "text/plain": [
       "<matplotlib.collections.PathCollection at 0x7fdf17e947f0>"
      ]
     },
     "execution_count": 10,
     "metadata": {},
     "output_type": "execute_result"
    },
    {
     "data": {
      "image/png": "[encoded data removed]",
      "text/plain": [
       "<Figure size 864x432 with 1 Axes>"
      ]
     },
     "metadata": {},
     "output_type": "display_data"
    }
   ],
   "source": [
    "fig, ax = plt.subplots()\n",
    "fig.set_size_inches(12, 6)\n",
    "\n",
    "ax.set_xlabel(\"Artist ID\")\n",
    "ax.set_ylabel(\"Play Count\")\n",
    "ax.set_title(\"The Total Number of Play for Every Artist ID\", size = 15)\n",
    "ax.grid(True)\n",
    "ax.scatter(artistPopularity['artistID'],artistPopularity['playCount'], cmap = 'magma', c = artistPopularity['playCount'],  s = 7)"
   ]
  },
  {
   "cell_type": "markdown",
   "metadata": {},
   "source": [
    "<div class=\"alert alert-success\" style=\"background-color: AliceBlue; border-color: CornflowerBlue \"> \n",
    "The distribution of play counts with the artist ID's shows also that the ID's are somehow scattered and it is also important to point out (which was also observed in the comulative distribution function of artist play counts) is that there is a huge portion of users having very low play counts which are close to 1. Thus, this also emphsizes that there is quite something wrong with the artist ID's which needs to be dealt with later in the notebook.\n",
    "</div>"
   ]
  },
  {
   "cell_type": "markdown",
   "metadata": {},
   "source": [
    "All seems clear right now, but ... wait a second! What about the problems indicated above about artist \"disambiguation\"? Are these artist ID we are using referring to unique artists? How can we make sure that such \"opaque\" identifiers point to different bands? Let's try to use some additional dataset to answer this question:  `artist_data.txt` dataset. This time, the schema of the dataset consists in:\n",
    "\n",
    "```\n",
    "artist ID: long int\n",
    "name: string\n",
    "```\n",
    "\n",
    "We will try to find whether a single artist has two different IDs."
   ]
  },
  {
   "cell_type": "markdown",
   "metadata": {
    "slideshow": {
     "slide_type": "slide"
    }
   },
   "source": [
    "### Question 3\n",
    "\n",
    "#### Question 3.1\n",
    "\n",
    "<div class=\"alert alert-info\">\n",
    "Load the data ('\\t'-separated) from `/datasets/lastfm/artist_data.txt` and use the Pandas API to show 5 samples.  \n",
    "</div>\n",
    "\n",
    "**HINT**: `artist_data.txt` has malformed entries. If you encounter some error when parsing lines in data because of invalid entries, functions `pandas.DataFrame.dropna()` and `pandas.to_numeric()` will help you to eliminate these entries.\n"
   ]
  },
  {
   "cell_type": "code",
   "execution_count": 11,
   "metadata": {
    "slideshow": {
     "slide_type": "subslide"
    }
   },
   "outputs": [
    {
     "name": "stderr",
     "output_type": "stream",
     "text": [
      "/usr/local/lib/python3.5/dist-packages/IPython/core/interactiveshell.py:2785: DtypeWarning: Columns (0,1) have mixed types. Specify dtype option on import or set low_memory=False.\n",
      "  interactivity=interactivity, compiler=compiler, result=result)\n"
     ]
    },
    {
     "data": {
      "text/html": [
       "<div>\n",
       "<style scoped>\n",
       "    .dataframe tbody tr th:only-of-type {\n",
       "        vertical-align: middle;\n",
       "    }\n",
       "\n",
       "    .dataframe tbody tr th {\n",
       "        vertical-align: top;\n",
       "    }\n",
       "\n",
       "    .dataframe thead th {\n",
       "        text-align: right;\n",
       "    }\n",
       "</style>\n",
       "<table border=\"1\" class=\"dataframe\">\n",
       "  <thead>\n",
       "    <tr style=\"text-align: right;\">\n",
       "      <th></th>\n",
       "      <th>artistID</th>\n",
       "      <th>name</th>\n",
       "    </tr>\n",
       "  </thead>\n",
       "  <tbody>\n",
       "    <tr>\n",
       "      <th>0</th>\n",
       "      <td>1134999</td>\n",
       "      <td>06Crazy Life</td>\n",
       "    </tr>\n",
       "    <tr>\n",
       "      <th>1</th>\n",
       "      <td>6821360</td>\n",
       "      <td>Pang Nakarin</td>\n",
       "    </tr>\n",
       "    <tr>\n",
       "      <th>2</th>\n",
       "      <td>10113088</td>\n",
       "      <td>Terfel, Bartoli- Mozart: Don</td>\n",
       "    </tr>\n",
       "    <tr>\n",
       "      <th>3</th>\n",
       "      <td>10151459</td>\n",
       "      <td>The Flaming Sidebur</td>\n",
       "    </tr>\n",
       "    <tr>\n",
       "      <th>4</th>\n",
       "      <td>6826647</td>\n",
       "      <td>Bodenstandig 3000</td>\n",
       "    </tr>\n",
       "  </tbody>\n",
       "</table>\n",
       "</div>"
      ],
      "text/plain": [
       "   artistID                          name\n",
       "0   1134999                  06Crazy Life\n",
       "1   6821360                  Pang Nakarin\n",
       "2  10113088  Terfel, Bartoli- Mozart: Don\n",
       "3  10151459           The Flaming Sidebur\n",
       "4   6826647             Bodenstandig 3000"
      ]
     },
     "execution_count": 11,
     "metadata": {},
     "output_type": "execute_result"
    }
   ],
   "source": [
    "# Read from the .csv file\n",
    "artistDF = pd.read_csv(base + \"artist_data.txt\",\n",
    "                       sep = \"\\t\",\n",
    "                       header = None,\n",
    "                       names=['artistID', 'name'])\n",
    "\n",
    "# Filter out possible malformed entries\n",
    "\n",
    "# Change the ID's that can't be converted to NA\n",
    "artistDF['artistID'] = pd.to_numeric(artistDF['artistID'], errors = 'coerce')\n",
    "\n",
    "# Drop the rows containing NA\n",
    "artistDF = artistDF.dropna()\n",
    "\n",
    "# Cast each column to its datatype\n",
    "artistDF['name'] = artistDF['name'].astype(str, errors='ignore')\n",
    "artistDF['artistID'] = artistDF['artistID'].astype(np.int64, errors='ignore')\n",
    "\n",
    "\n",
    "artistDF[:5]"
   ]
  },
  {
   "cell_type": "markdown",
   "metadata": {},
   "source": [
    "<div class=\"alert alert-success\" style=\"background-color: AliceBlue; border-color: CornflowerBlue \"> \n",
    "We can start to see directly that some of the names of the artists have some typos for <b>\"The Flaming Sideburns\"</b> and some contain song names with the track number like <b>\"06Crazy Life\"</b>. Hence, our speculation is looking more and more consistent and relevant as artistID don't only represent merely artist names. To make it more clear, let's try to search for some famous artist in the artist name.\n",
    "</div>"
   ]
  },
  {
   "cell_type": "markdown",
   "metadata": {
    "slideshow": {
     "slide_type": "slide"
    }
   },
   "source": [
    "#### Question 3.2\n",
    "<div class=\"alert alert-info\">\n",
    "Find 20 artists whose name contains `Aerosmith`. Take a look at artists that have ID equal to `1000010` and `2082323`. In your opinion, are they pointing to the same artist?  \n",
    "</div>\n",
    "\n",
    "**HINT**: Function `contains(string)` can be useful in this case."
   ]
  },
  {
   "cell_type": "code",
   "execution_count": 12,
   "metadata": {
    "slideshow": {
     "slide_type": "subslide"
    }
   },
   "outputs": [
    {
     "data": {
      "text/html": [
       "<div>\n",
       "<style scoped>\n",
       "    .dataframe tbody tr th:only-of-type {\n",
       "        vertical-align: middle;\n",
       "    }\n",
       "\n",
       "    .dataframe tbody tr th {\n",
       "        vertical-align: top;\n",
       "    }\n",
       "\n",
       "    .dataframe thead th {\n",
       "        text-align: right;\n",
       "    }\n",
       "</style>\n",
       "<table border=\"1\" class=\"dataframe\">\n",
       "  <thead>\n",
       "    <tr style=\"text-align: right;\">\n",
       "      <th></th>\n",
       "      <th>artistID</th>\n",
       "      <th>name</th>\n",
       "    </tr>\n",
       "  </thead>\n",
       "  <tbody>\n",
       "    <tr>\n",
       "      <th>9925</th>\n",
       "      <td>10586006</td>\n",
       "      <td>Dusty Springfield/Aerosmith</td>\n",
       "    </tr>\n",
       "    <tr>\n",
       "      <th>12010</th>\n",
       "      <td>6946007</td>\n",
       "      <td>Aerosmith/RunDMC</td>\n",
       "    </tr>\n",
       "    <tr>\n",
       "      <th>12456</th>\n",
       "      <td>10475683</td>\n",
       "      <td>Aerosmith: Just Push Play</td>\n",
       "    </tr>\n",
       "    <tr>\n",
       "      <th>14567</th>\n",
       "      <td>1083031</td>\n",
       "      <td>Aerosmith/ G n R</td>\n",
       "    </tr>\n",
       "    <tr>\n",
       "      <th>15761</th>\n",
       "      <td>6872848</td>\n",
       "      <td>Britney, Nsync, Nelly, Aerosmith,Mary J Blige.</td>\n",
       "    </tr>\n",
       "    <tr>\n",
       "      <th>19409</th>\n",
       "      <td>10586963</td>\n",
       "      <td>Green Day - Oasis - Eminem - Aerosmith</td>\n",
       "    </tr>\n",
       "    <tr>\n",
       "      <th>20337</th>\n",
       "      <td>10028830</td>\n",
       "      <td>The Aerosmith Antology2</td>\n",
       "    </tr>\n",
       "    <tr>\n",
       "      <th>25166</th>\n",
       "      <td>10300357</td>\n",
       "      <td>Run-DMC + Aerosmith</td>\n",
       "    </tr>\n",
       "    <tr>\n",
       "      <th>26399</th>\n",
       "      <td>2027746</td>\n",
       "      <td>Aerosmith by MusicInter.com</td>\n",
       "    </tr>\n",
       "    <tr>\n",
       "      <th>28469</th>\n",
       "      <td>1140418</td>\n",
       "      <td>[rap]Run DMC and Aerosmith</td>\n",
       "    </tr>\n",
       "    <tr>\n",
       "      <th>30207</th>\n",
       "      <td>10237208</td>\n",
       "      <td>Aerosmith + Run DMC</td>\n",
       "    </tr>\n",
       "    <tr>\n",
       "      <th>33127</th>\n",
       "      <td>10588537</td>\n",
       "      <td>Aerosmith, Kid Rock, &amp; Run DMC</td>\n",
       "    </tr>\n",
       "    <tr>\n",
       "      <th>41891</th>\n",
       "      <td>9934757</td>\n",
       "      <td>Aerosmith - Big Ones</td>\n",
       "    </tr>\n",
       "    <tr>\n",
       "      <th>42294</th>\n",
       "      <td>10437510</td>\n",
       "      <td>Green Day ft. Oasis &amp; Aerosmith</td>\n",
       "    </tr>\n",
       "    <tr>\n",
       "      <th>48005</th>\n",
       "      <td>6936680</td>\n",
       "      <td>RUN DNC &amp; Aerosmith</td>\n",
       "    </tr>\n",
       "    <tr>\n",
       "      <th>49323</th>\n",
       "      <td>10479781</td>\n",
       "      <td>Aerosmith Hits</td>\n",
       "    </tr>\n",
       "    <tr>\n",
       "      <th>55799</th>\n",
       "      <td>10114147</td>\n",
       "      <td>Charlies Angels - Aerosmith</td>\n",
       "    </tr>\n",
       "    <tr>\n",
       "      <th>62947</th>\n",
       "      <td>1262439</td>\n",
       "      <td>Kid Rock, Run DMC &amp; Aerosmith</td>\n",
       "    </tr>\n",
       "    <tr>\n",
       "      <th>63907</th>\n",
       "      <td>7032554</td>\n",
       "      <td>Aerosmith &amp; Run-D.M.C.</td>\n",
       "    </tr>\n",
       "    <tr>\n",
       "      <th>64842</th>\n",
       "      <td>10033592</td>\n",
       "      <td>Aerosmith?</td>\n",
       "    </tr>\n",
       "  </tbody>\n",
       "</table>\n",
       "</div>"
      ],
      "text/plain": [
       "       artistID                                            name\n",
       "9925   10586006                     Dusty Springfield/Aerosmith\n",
       "12010   6946007                                Aerosmith/RunDMC\n",
       "12456  10475683                       Aerosmith: Just Push Play\n",
       "14567   1083031                                Aerosmith/ G n R\n",
       "15761   6872848  Britney, Nsync, Nelly, Aerosmith,Mary J Blige.\n",
       "19409  10586963          Green Day - Oasis - Eminem - Aerosmith\n",
       "20337  10028830                         The Aerosmith Antology2\n",
       "25166  10300357                             Run-DMC + Aerosmith\n",
       "26399   2027746                     Aerosmith by MusicInter.com\n",
       "28469   1140418                      [rap]Run DMC and Aerosmith\n",
       "30207  10237208                             Aerosmith + Run DMC\n",
       "33127  10588537                  Aerosmith, Kid Rock, & Run DMC\n",
       "41891   9934757                            Aerosmith - Big Ones\n",
       "42294  10437510                 Green Day ft. Oasis & Aerosmith\n",
       "48005   6936680                             RUN DNC & Aerosmith\n",
       "49323  10479781                                  Aerosmith Hits\n",
       "55799  10114147                     Charlies Angels - Aerosmith\n",
       "62947   1262439                   Kid Rock, Run DMC & Aerosmith\n",
       "63907   7032554                          Aerosmith & Run-D.M.C.\n",
       "64842  10033592                                      Aerosmith?"
      ]
     },
     "execution_count": 12,
     "metadata": {},
     "output_type": "execute_result"
    }
   ],
   "source": [
    "# get artists whose name contains \"Aerosmith\"\n",
    "artistDF[artistDF.name.str.contains('Aerosmith')][:20]"
   ]
  },
  {
   "cell_type": "markdown",
   "metadata": {},
   "source": [
    "<div class=\"alert alert-success\" style=\"background-color: AliceBlue; border-color: CornflowerBlue \"> \n",
    "It is evident now that actually several artistID's can correspond to one unique artist. This is causing inconsistency in our dataset which needs to be dealt with to achieve better more consistent semantics.\n",
    "</div>"
   ]
  },
  {
   "cell_type": "code",
   "execution_count": 13,
   "metadata": {},
   "outputs": [
    {
     "data": {
      "text/html": [
       "<div>\n",
       "<style scoped>\n",
       "    .dataframe tbody tr th:only-of-type {\n",
       "        vertical-align: middle;\n",
       "    }\n",
       "\n",
       "    .dataframe tbody tr th {\n",
       "        vertical-align: top;\n",
       "    }\n",
       "\n",
       "    .dataframe thead th {\n",
       "        text-align: right;\n",
       "    }\n",
       "</style>\n",
       "<table border=\"1\" class=\"dataframe\">\n",
       "  <thead>\n",
       "    <tr style=\"text-align: right;\">\n",
       "      <th></th>\n",
       "      <th>artistID</th>\n",
       "      <th>name</th>\n",
       "    </tr>\n",
       "  </thead>\n",
       "  <tbody>\n",
       "    <tr>\n",
       "      <th>958509</th>\n",
       "      <td>1000010</td>\n",
       "      <td>Aerosmith</td>\n",
       "    </tr>\n",
       "  </tbody>\n",
       "</table>\n",
       "</div>"
      ],
      "text/plain": [
       "        artistID       name\n",
       "958509   1000010  Aerosmith"
      ]
     },
     "execution_count": 13,
     "metadata": {},
     "output_type": "execute_result"
    }
   ],
   "source": [
    "artistDF[artistDF['artistID'] == 1000010]"
   ]
  },
  {
   "cell_type": "code",
   "execution_count": 14,
   "metadata": {},
   "outputs": [
    {
     "data": {
      "text/html": [
       "<div>\n",
       "<style scoped>\n",
       "    .dataframe tbody tr th:only-of-type {\n",
       "        vertical-align: middle;\n",
       "    }\n",
       "\n",
       "    .dataframe tbody tr th {\n",
       "        vertical-align: top;\n",
       "    }\n",
       "\n",
       "    .dataframe thead th {\n",
       "        text-align: right;\n",
       "    }\n",
       "</style>\n",
       "<table border=\"1\" class=\"dataframe\">\n",
       "  <thead>\n",
       "    <tr style=\"text-align: right;\">\n",
       "      <th></th>\n",
       "      <th>artistID</th>\n",
       "      <th>name</th>\n",
       "    </tr>\n",
       "  </thead>\n",
       "  <tbody>\n",
       "    <tr>\n",
       "      <th>1457634</th>\n",
       "      <td>2082323</td>\n",
       "      <td>01 Aerosmith</td>\n",
       "    </tr>\n",
       "  </tbody>\n",
       "</table>\n",
       "</div>"
      ],
      "text/plain": [
       "         artistID          name\n",
       "1457634   2082323  01 Aerosmith"
      ]
     },
     "execution_count": 14,
     "metadata": {},
     "output_type": "execute_result"
    }
   ],
   "source": [
    "artistDF[artistDF['artistID'] == 2082323]"
   ]
  },
  {
   "cell_type": "markdown",
   "metadata": {},
   "source": [
    "<div class=\"alert alert-success\" style=\"background-color: AliceBlue; border-color: CornflowerBlue \">\n",
    "The two artistID's 1000010 and 2082323 both correspond to Aerosmith.\n",
    "</div>"
   ]
  },
  {
   "cell_type": "markdown",
   "metadata": {},
   "source": [
    "To answer this question correctly, we need to use an additional dataset `artist_alias.txt` which contains the ids of mispelled artists and standard artists. The schema of the dataset consists in:\n",
    "\n",
    "```\n",
    "mispelledID ID: long int\n",
    "standard ID: long int\n",
    "```"
   ]
  },
  {
   "cell_type": "markdown",
   "metadata": {
    "slideshow": {
     "slide_type": "slide"
    }
   },
   "source": [
    "#### Question 3.3\n",
    "<div class=\"alert alert-info\">\n",
    "Using Pandas, load the dataset from `/datasets/lastfm/artist_alias.txt` then show 5 samples.\n",
    "</div>"
   ]
  },
  {
   "cell_type": "code",
   "execution_count": 15,
   "metadata": {
    "scrolled": false,
    "slideshow": {
     "slide_type": "subslide"
    }
   },
   "outputs": [
    {
     "data": {
      "text/html": [
       "<div>\n",
       "<style scoped>\n",
       "    .dataframe tbody tr th:only-of-type {\n",
       "        vertical-align: middle;\n",
       "    }\n",
       "\n",
       "    .dataframe tbody tr th {\n",
       "        vertical-align: top;\n",
       "    }\n",
       "\n",
       "    .dataframe thead th {\n",
       "        text-align: right;\n",
       "    }\n",
       "</style>\n",
       "<table border=\"1\" class=\"dataframe\">\n",
       "  <thead>\n",
       "    <tr style=\"text-align: right;\">\n",
       "      <th></th>\n",
       "      <th>misspelledArtistID</th>\n",
       "      <th>standardArtistID</th>\n",
       "    </tr>\n",
       "  </thead>\n",
       "  <tbody>\n",
       "    <tr>\n",
       "      <th>0</th>\n",
       "      <td>1092764</td>\n",
       "      <td>1000311</td>\n",
       "    </tr>\n",
       "    <tr>\n",
       "      <th>1</th>\n",
       "      <td>1095122</td>\n",
       "      <td>1000557</td>\n",
       "    </tr>\n",
       "    <tr>\n",
       "      <th>2</th>\n",
       "      <td>6708070</td>\n",
       "      <td>1007267</td>\n",
       "    </tr>\n",
       "    <tr>\n",
       "      <th>3</th>\n",
       "      <td>10088054</td>\n",
       "      <td>1042317</td>\n",
       "    </tr>\n",
       "    <tr>\n",
       "      <th>4</th>\n",
       "      <td>1195917</td>\n",
       "      <td>1042317</td>\n",
       "    </tr>\n",
       "  </tbody>\n",
       "</table>\n",
       "</div>"
      ],
      "text/plain": [
       "   misspelledArtistID  standardArtistID\n",
       "0             1092764           1000311\n",
       "1             1095122           1000557\n",
       "2             6708070           1007267\n",
       "3            10088054           1042317\n",
       "4             1195917           1042317"
      ]
     },
     "execution_count": 15,
     "metadata": {},
     "output_type": "execute_result"
    }
   ],
   "source": [
    "artistAliasDF = pd.read_csv(base + 'artist_alias.txt',\n",
    "                            sep = '\\t',\n",
    "                            header = None,\n",
    "                            names=['misspelledArtistID', 'standardArtistID'])\n",
    "\n",
    "# Filter out possible malformed entries\n",
    "\n",
    "# Change the ID's that can't be converted NA\n",
    "artistAliasDF['misspelledArtistID'] = pd.to_numeric(artistAliasDF['misspelledArtistID'], errors='coerce')\n",
    "artistAliasDF['standardArtistID'] = pd.to_numeric(artistAliasDF['standardArtistID'], errors='coerce')\n",
    "\n",
    "# Drop the rows containing NA\n",
    "artistAliasDF = artistAliasDF.dropna()\n",
    "\n",
    "# Cast each column to its datatype\n",
    "artistAliasDF['misspelledArtistID'] = artistAliasDF['misspelledArtistID'].astype(np.int64, errors='ignore')\n",
    "artistAliasDF['standardArtistID'] = artistAliasDF['standardArtistID'].astype(np.int64, errors='ignore')\n",
    "\n",
    "# Show 5 samples\n",
    "artistAliasDF[:5]"
   ]
  },
  {
   "cell_type": "markdown",
   "metadata": {},
   "source": [
    "<div class=\"alert alert-success\" style=\"background-color: AliceBlue; border-color: CornflowerBlue \"> \n",
    "We can see that the artistID's 10088054 and 1195917 actually correspond to the standard artist ID 1042317.\n",
    "</div>"
   ]
  },
  {
   "cell_type": "markdown",
   "metadata": {
    "slideshow": {
     "slide_type": "slide"
    }
   },
   "source": [
    "#### Question 3.4\n",
    "<div class=\"alert alert-info\">\n",
    "Verify the answer of question 3.2 (\"Are artists that have ID equal to `1000010` and `2082323` the same ?\") by finding the standard ids corresponding to the mispelled ids `1000010` and `2082323` respectively.\n",
    "</div>"
   ]
  },
  {
   "cell_type": "code",
   "execution_count": 16,
   "metadata": {
    "slideshow": {
     "slide_type": "subslide"
    }
   },
   "outputs": [
    {
     "data": {
      "text/html": [
       "<div>\n",
       "<style scoped>\n",
       "    .dataframe tbody tr th:only-of-type {\n",
       "        vertical-align: middle;\n",
       "    }\n",
       "\n",
       "    .dataframe tbody tr th {\n",
       "        vertical-align: top;\n",
       "    }\n",
       "\n",
       "    .dataframe thead th {\n",
       "        text-align: right;\n",
       "    }\n",
       "</style>\n",
       "<table border=\"1\" class=\"dataframe\">\n",
       "  <thead>\n",
       "    <tr style=\"text-align: right;\">\n",
       "      <th></th>\n",
       "      <th>misspelledArtistID</th>\n",
       "      <th>standardArtistID</th>\n",
       "    </tr>\n",
       "  </thead>\n",
       "  <tbody>\n",
       "    <tr>\n",
       "      <th>1135</th>\n",
       "      <td>2082323</td>\n",
       "      <td>1000010</td>\n",
       "    </tr>\n",
       "  </tbody>\n",
       "</table>\n",
       "</div>"
      ],
      "text/plain": [
       "      misspelledArtistID  standardArtistID\n",
       "1135             2082323           1000010"
      ]
     },
     "execution_count": 16,
     "metadata": {},
     "output_type": "execute_result"
    }
   ],
   "source": [
    "artistAliasDF[artistAliasDF.misspelledArtistID == 2082323]"
   ]
  },
  {
   "cell_type": "code",
   "execution_count": 17,
   "metadata": {},
   "outputs": [
    {
     "data": {
      "text/html": [
       "<div>\n",
       "<style scoped>\n",
       "    .dataframe tbody tr th:only-of-type {\n",
       "        vertical-align: middle;\n",
       "    }\n",
       "\n",
       "    .dataframe tbody tr th {\n",
       "        vertical-align: top;\n",
       "    }\n",
       "\n",
       "    .dataframe thead th {\n",
       "        text-align: right;\n",
       "    }\n",
       "</style>\n",
       "<table border=\"1\" class=\"dataframe\">\n",
       "  <thead>\n",
       "    <tr style=\"text-align: right;\">\n",
       "      <th></th>\n",
       "      <th>misspelledArtistID</th>\n",
       "      <th>standardArtistID</th>\n",
       "    </tr>\n",
       "  </thead>\n",
       "  <tbody>\n",
       "  </tbody>\n",
       "</table>\n",
       "</div>"
      ],
      "text/plain": [
       "Empty DataFrame\n",
       "Columns: [misspelledArtistID, standardArtistID]\n",
       "Index: []"
      ]
     },
     "execution_count": 17,
     "metadata": {},
     "output_type": "execute_result"
    }
   ],
   "source": [
    "artistAliasDF[artistAliasDF.misspelledArtistID == 1000010]"
   ]
  },
  {
   "cell_type": "markdown",
   "metadata": {},
   "source": [
    "<div class=\"alert alert-success\" style=\"background-color: AliceBlue; border-color: CornflowerBlue \"> \n",
    "The results obtained in <b>3.2</b> can be verified here where the consistent artistID for <b>AeroSmith</b> is 1000010 and 2082323 actually corresponds to Aerosmith (artistID = 1000010).<br>\n",
    "<b>NOTE:</b> the consistent artistID's do not exist among the misspelledArtistID column entries in the dataframe.\n",
    "</div>"
   ]
  },
  {
   "cell_type": "markdown",
   "metadata": {
    "slideshow": {
     "slide_type": "slide"
    }
   },
   "source": [
    "### Question 4\n",
    "\n",
    "The mispelled or nonstandard information about artist make our results in the previous queries a bit \"sloppy\". To overcome this problem, we can replace all mispelled artist ids by the corresponding standard ids and re-compute the basic descriptive statistics on the \"amended\" data.\n",
    "\n",
    "#### Question 4.2\n",
    "<div class=\"alert alert-info\">\n",
    "Replace the non-standard artist ids in the dataframe that was loaded from `/datasets/lastfm/user_artist_data.txt` by the corresponding standard ids then show 5 samples.\n",
    "</div>\n",
    "\n",
    "\n",
    "**NOTE 1**: If an id doesn't exist in the dictionary as a mispelled id, it is really a standard id.\n",
    "\n",
    "**NOTE 2**: be careful! you need to be able to verify that you indeed solved the problem of having bad artist IDs. In principle, for the new data to be correct, we should to have duplicate pairs (user, artist), potentially with different play counts, right? In answering the question, please **show** that you indeed fixed the problem and find a way to fix the duplicates (user, artist).\n",
    "\n",
    "**HINT**: have a look to the functions `pandas.merge()` and `pandas.Dataframe.combine_first()`."
   ]
  },
  {
   "cell_type": "code",
   "execution_count": 18,
   "metadata": {
    "slideshow": {
     "slide_type": "subslide"
    }
   },
   "outputs": [
    {
     "name": "stdout",
     "output_type": "stream",
     "text": [
      "Cleaning the dataset took 26.18 seconds\n"
     ]
    }
   ],
   "source": [
    "\n",
    "t0 = time()\n",
    "\n",
    "# Join the two dataframes based on the misspelledArtistID\n",
    "newUserArtistDF = pd.merge(userArtistDF, artistAliasDF, left_on='artistID', right_on='misspelledArtistID', how='left')\n",
    "\n",
    "# Get the final realArtistID\n",
    "'''\n",
    "    Take into consideration that the standardArtistID column \n",
    "    will not take a value after the join in case where the artistID \n",
    "    was originally correct\n",
    "'''\n",
    "newUserArtistDF['realArtistID'] = newUserArtistDF['standardArtistID'].combine_first(newUserArtistDF['artistID']).astype(np.int64)\n",
    "\n",
    "# Delete columns not required\n",
    "newUserArtistDF.drop(['artistID', 'standardArtistID', 'misspelledArtistID'], axis=1, inplace=True)\n",
    "\n",
    "# Fix duplicates of the pair (userID, realArtistID) by summing the play counts of identical artist-user-pairs\n",
    "newUserArtistDF = newUserArtistDF.groupby(['userID','realArtistID'], as_index=False).sum()\n",
    "\n",
    "print('Cleaning the dataset took %.2f seconds' % (time() - t0))"
   ]
  },
  {
   "cell_type": "code",
   "execution_count": 19,
   "metadata": {},
   "outputs": [
    {
     "name": "stdout",
     "output_type": "stream",
     "text": [
      "<class 'pandas.core.frame.DataFrame'>\n",
      "Int64Index: 24133304 entries, 0 to 24133303\n",
      "Data columns (total 3 columns):\n",
      "userID          int64\n",
      "realArtistID    int64\n",
      "playCount       int32\n",
      "dtypes: int32(1), int64(2)\n",
      "memory usage: 644.4 MB\n"
     ]
    }
   ],
   "source": [
    "# Print some details on the cleaned data\n",
    "newUserArtistDF.info()"
   ]
  },
  {
   "cell_type": "code",
   "execution_count": 20,
   "metadata": {},
   "outputs": [
    {
     "data": {
      "text/html": [
       "<div>\n",
       "<style scoped>\n",
       "    .dataframe tbody tr th:only-of-type {\n",
       "        vertical-align: middle;\n",
       "    }\n",
       "\n",
       "    .dataframe tbody tr th {\n",
       "        vertical-align: top;\n",
       "    }\n",
       "\n",
       "    .dataframe thead th {\n",
       "        text-align: right;\n",
       "    }\n",
       "</style>\n",
       "<table border=\"1\" class=\"dataframe\">\n",
       "  <thead>\n",
       "    <tr style=\"text-align: right;\">\n",
       "      <th></th>\n",
       "      <th>userID</th>\n",
       "      <th>realArtistID</th>\n",
       "      <th>playCount</th>\n",
       "    </tr>\n",
       "  </thead>\n",
       "  <tbody>\n",
       "    <tr>\n",
       "      <th>0</th>\n",
       "      <td>90</td>\n",
       "      <td>24</td>\n",
       "      <td>1</td>\n",
       "    </tr>\n",
       "    <tr>\n",
       "      <th>1</th>\n",
       "      <td>90</td>\n",
       "      <td>46</td>\n",
       "      <td>4</td>\n",
       "    </tr>\n",
       "    <tr>\n",
       "      <th>2</th>\n",
       "      <td>90</td>\n",
       "      <td>121</td>\n",
       "      <td>1</td>\n",
       "    </tr>\n",
       "    <tr>\n",
       "      <th>3</th>\n",
       "      <td>90</td>\n",
       "      <td>151</td>\n",
       "      <td>1</td>\n",
       "    </tr>\n",
       "    <tr>\n",
       "      <th>4</th>\n",
       "      <td>90</td>\n",
       "      <td>227</td>\n",
       "      <td>16</td>\n",
       "    </tr>\n",
       "  </tbody>\n",
       "</table>\n",
       "</div>"
      ],
      "text/plain": [
       "   userID  realArtistID  playCount\n",
       "0      90            24          1\n",
       "1      90            46          4\n",
       "2      90           121          1\n",
       "3      90           151          1\n",
       "4      90           227         16"
      ]
     },
     "execution_count": 20,
     "metadata": {},
     "output_type": "execute_result"
    }
   ],
   "source": [
    "# print the first 5 records\n",
    "newUserArtistDF[:5]"
   ]
  },
  {
   "cell_type": "code",
   "execution_count": 21,
   "metadata": {},
   "outputs": [],
   "source": [
    "# test the dataframe obtained to check whether all the records and duplicates are fixed\n",
    "assert (newUserArtistDF.groupby(['userID', 'realArtistID'], as_index=False).count()['playCount'] == 1).all(),  \\\n",
    "    'Each combination user/artist should appear only once'"
   ]
  },
  {
   "cell_type": "markdown",
   "metadata": {},
   "source": [
    "<div class=\"alert alert-success\" style=\"background-color: AliceBlue; border-color: CornflowerBlue \"> \n",
    "There is no printed message, so the assetion is correct and we have only unique artist-user-pairs. Therefore, our cleaning process is successful.\n",
    "</div>"
   ]
  },
  {
   "cell_type": "markdown",
   "metadata": {
    "slideshow": {
     "slide_type": "slide"
    }
   },
   "source": [
    "### Question 5\n",
    "\n",
    "Well, our data frame contains clean and \"standard\" data. We can use it to redo previous statistic queries. Now that we have all data, including the relation (`artistID`/`name`), please find a way to use the artist name instead of its ID in all required plots.\n",
    "\n",
    "#### Question 5.1\n",
    "<div class=\"alert alert-info\">\n",
    "How many unique artists? Compare with the result when using old data.\n",
    "</div>"
   ]
  },
  {
   "cell_type": "code",
   "execution_count": 22,
   "metadata": {
    "slideshow": {
     "slide_type": "subslide"
    }
   },
   "outputs": [
    {
     "name": "stdout",
     "output_type": "stream",
     "text": [
      "Total n. of artists:  1568126\n"
     ]
    }
   ],
   "source": [
    "uniqueArtists = newUserArtistDF['realArtistID'].nunique()\n",
    "\n",
    "print(\"Total n. of artists: \", uniqueArtists)"
   ]
  },
  {
   "cell_type": "markdown",
   "metadata": {},
   "source": [
    "<div class=\"alert alert-success\" style=\"background-color: AliceBlue; border-color: CornflowerBlue \"> \n",
    "The number of unique artists obtained now (1568126 artists) after cleaning is less than the number of artistID's obtained at first (1631028 artists) by about <b> 63K artist </b> which is a big deal. So the data cleaning process was essential in our work for achieving better results.\n",
    "    </div>"
   ]
  },
  {
   "cell_type": "markdown",
   "metadata": {
    "slideshow": {
     "slide_type": "slide"
    }
   },
   "source": [
    "#### Question 5.2\n",
    "\n",
    "<div class=\"alert alert-info\">\n",
    "Who are the top-10 artistis?\n",
    "<ul>\n",
    "  <li>In terms of absolute play counts</li>\n",
    "  <li>In terms of \"audience size\", that is, how many users listened to one of their track at least once</li>\n",
    "</ul>  \n",
    "\n",
    "Plot the results, and explain the figures you obtain.\n",
    "</div>"
   ]
  },
  {
   "cell_type": "code",
   "execution_count": 23,
   "metadata": {},
   "outputs": [
    {
     "data": {
      "text/plain": [
       "Text(0.5,1,'Top-10 Artist per play counts')"
      ]
     },
     "execution_count": 23,
     "metadata": {},
     "output_type": "execute_result"
    },
    {
     "data": {
      "image/png": "[encoded data removed]",
      "text/plain": [
       "<Figure size 720x432 with 1 Axes>"
      ]
     },
     "metadata": {},
     "output_type": "display_data"
    }
   ],
   "source": [
    "# calculate top-10 artists in term of play counts\n",
    "topN = 10\n",
    "\n",
    "# Group the artists by their ID's and aggregate by summing the play counts\n",
    "artistPopularity = newUserArtistDF.groupby(['realArtistID'], as_index = False)['playCount'].sum()\n",
    "\n",
    "# Get the name of the artists based on their IDs\n",
    "artistPopularity = pd.merge(artistPopularity, artistDF, right_on='artistID', left_on='realArtistID', how='left')\n",
    "\n",
    "# Get the top 10 and the bottom 10 artists with respect to the total play count\n",
    "rankedArtist = artistPopularity.sort_values('playCount', ascending=False)\n",
    "\n",
    "# Get the top 10 artists\n",
    "topNArtists = rankedArtist[:topN]\n",
    "\n",
    "fig, ax = plt.subplots()\n",
    "\n",
    "fig.set_size_inches(10,6)\n",
    "\n",
    "topNArtists['playCount'].plot(kind='barh', ax=ax)\n",
    "\n",
    "ax.set_yticklabels(zip(topNArtists['name'],topNArtists['artistID']))\n",
    "ax.set_xlabel('Play Count')\n",
    "ax.set_title('Top-10 Artist per play counts')"
   ]
  },
  {
   "cell_type": "markdown",
   "metadata": {},
   "source": [
    "<div class=\"alert alert-success\" style=\"background-color: AliceBlue; border-color: CornflowerBlue \">\n",
    "The top 10 artists with respect to the play count are identical those obtained before data cleaning. This means mostly the inconsistent ID's do not contribute largely in play counts of the artists which have high records but rather with those with the artists with smaller records.\n",
    "</div>"
   ]
  },
  {
   "cell_type": "markdown",
   "metadata": {},
   "source": [
    "<div class=\"alert alert-success\" style=\"background-color: AliceBlue; border-color: CornflowerBlue \">\n",
    "Let's now look at the bottom 10 artists.\n",
    "</div>"
   ]
  },
  {
   "cell_type": "code",
   "execution_count": 24,
   "metadata": {},
   "outputs": [
    {
     "data": {
      "text/html": [
       "<div>\n",
       "<style scoped>\n",
       "    .dataframe tbody tr th:only-of-type {\n",
       "        vertical-align: middle;\n",
       "    }\n",
       "\n",
       "    .dataframe tbody tr th {\n",
       "        vertical-align: top;\n",
       "    }\n",
       "\n",
       "    .dataframe thead th {\n",
       "        text-align: right;\n",
       "    }\n",
       "</style>\n",
       "<table border=\"1\" class=\"dataframe\">\n",
       "  <thead>\n",
       "    <tr style=\"text-align: right;\">\n",
       "      <th></th>\n",
       "      <th>name</th>\n",
       "      <th>playCount</th>\n",
       "    </tr>\n",
       "  </thead>\n",
       "  <tbody>\n",
       "    <tr>\n",
       "      <th>724712</th>\n",
       "      <td>ファニー</td>\n",
       "      <td>1</td>\n",
       "    </tr>\n",
       "    <tr>\n",
       "      <th>1186250</th>\n",
       "      <td>The Guess Who w/ Chad Allen</td>\n",
       "      <td>1</td>\n",
       "    </tr>\n",
       "    <tr>\n",
       "      <th>1186249</th>\n",
       "      <td>倖月 美和</td>\n",
       "      <td>1</td>\n",
       "    </tr>\n",
       "    <tr>\n",
       "      <th>89820</th>\n",
       "      <td>Ultra Lounge Series</td>\n",
       "      <td>1</td>\n",
       "    </tr>\n",
       "    <tr>\n",
       "      <th>724714</th>\n",
       "      <td>アバンギャルド</td>\n",
       "      <td>1</td>\n",
       "    </tr>\n",
       "    <tr>\n",
       "      <th>1186245</th>\n",
       "      <td>VA - Round Four</td>\n",
       "      <td>1</td>\n",
       "    </tr>\n",
       "    <tr>\n",
       "      <th>724715</th>\n",
       "      <td>Cherrystone</td>\n",
       "      <td>1</td>\n",
       "    </tr>\n",
       "    <tr>\n",
       "      <th>1186243</th>\n",
       "      <td>Sykeste Folkan</td>\n",
       "      <td>1</td>\n",
       "    </tr>\n",
       "    <tr>\n",
       "      <th>1186242</th>\n",
       "      <td>Sunn O))) - Candlewolf Of The Golden Chalice</td>\n",
       "      <td>1</td>\n",
       "    </tr>\n",
       "    <tr>\n",
       "      <th>1186241</th>\n",
       "      <td>Jaime 'Rantam' López</td>\n",
       "      <td>1</td>\n",
       "    </tr>\n",
       "    <tr>\n",
       "      <th>1568125</th>\n",
       "      <td>NaN</td>\n",
       "      <td>1</td>\n",
       "    </tr>\n",
       "  </tbody>\n",
       "</table>\n",
       "</div>"
      ],
      "text/plain": [
       "                                                 name  playCount\n",
       "724712                                           ファニー          1\n",
       "1186250                   The Guess Who w/ Chad Allen          1\n",
       "1186249                                         倖月 美和          1\n",
       "89820                             Ultra Lounge Series          1\n",
       "724714                                        アバンギャルド          1\n",
       "1186245                               VA - Round Four          1\n",
       "724715                                    Cherrystone          1\n",
       "1186243                                Sykeste Folkan          1\n",
       "1186242  Sunn O))) - Candlewolf Of The Golden Chalice          1\n",
       "1186241                          Jaime 'Rantam' López          1\n",
       "1568125                                           NaN          1"
      ]
     },
     "execution_count": 24,
     "metadata": {},
     "output_type": "execute_result"
    }
   ],
   "source": [
    "# Let's also display the bottom 10 artists with respect to play count\n",
    "rankedArtist[['name','playCount']][-topN-1:]"
   ]
  },
  {
   "cell_type": "markdown",
   "metadata": {},
   "source": [
    "<div class=\"alert alert-success\" style=\"background-color: AliceBlue; border-color: CornflowerBlue \">\n",
    "We still have many artists with 1 as a play count but those artists are unique even though some have names that do not exist in the dataset.</div>"
   ]
  },
  {
   "cell_type": "code",
   "execution_count": 25,
   "metadata": {
    "slideshow": {
     "slide_type": "-"
    }
   },
   "outputs": [
    {
     "data": {
      "image/png": "[encoded data removed]",
      "text/plain": [
       "<Figure size 864x432 with 1 Axes>"
      ]
     },
     "metadata": {},
     "output_type": "display_data"
    }
   ],
   "source": [
    "# calculate top-10 artists in term of audience size\n",
    "\n",
    "topN = 10\n",
    "\n",
    "artistAudience = newUserArtistDF.groupby(['realArtistID'], as_index = False)['userID'].count()\n",
    "artistAudience = pd.merge(artistAudience, artistDF, right_on='artistID', left_on='realArtistID', how='left')\n",
    "topNArtist = artistAudience.sort_values('userID', ascending=False)[:topN]\n",
    "\n",
    "fig, ax = plt.subplots()\n",
    "\n",
    "fig.set_size_inches(12,6)\n",
    "\n",
    "topNArtist['userID'].plot(kind='barh', ax=ax)\n",
    "\n",
    "ax.set_yticklabels(zip(topNArtist['name'],topNArtist['artistID']))\n",
    "ax.set_xlabel('Audience Size')\n",
    "ax.set_title('Top-10 Artist in tems of Audience Size')\n",
    "\n",
    "plt.show()"
   ]
  },
  {
   "cell_type": "markdown",
   "metadata": {},
   "source": [
    "<div class=\"alert alert-success\" style=\"background-color: AliceBlue; border-color: CornflowerBlue \">\n",
    "After displaying the top 10 artists in terms of the audience size, we can see than they are actually different from the top 10 artists with respect to absolute play counts. Hence, the <b>popularity invesitgation</b> is dependent on how we deal with it; whether its through play counts or through audience size. For example, <b>Coldplay</b> did not appear in the top 10 artist play counts but has appeared here. Thus, it has been important to differentiate between the <b>total play count</b> and the <b>audience size</b> in the same way that notebook previously discusses the difference between the <b>curiousity of the user</b> and his/her <b>absolute play count</b> because we cannot conclude one from the others. The reason is due to the fact that many users actually play tracks for a single artists a massive number of times which leads to a difference between the two aproaches.\n",
    "</div>"
   ]
  },
  {
   "cell_type": "markdown",
   "metadata": {
    "slideshow": {
     "slide_type": "slide"
    }
   },
   "source": [
    "#### Question 5.3\n",
    "\n",
    "<div class=\"alert alert-info\">\n",
    "Who are the top-10 users?\n",
    "<ul>\n",
    "  <li>In terms of absolute play counts</li>\n",
    "  <li>In terms of \"curiosity\", that is, how many different artists they listened to</li>\n",
    "\n",
    "</ul>  \n",
    "\n",
    "Plot the results\n",
    "</div>"
   ]
  },
  {
   "cell_type": "code",
   "execution_count": 26,
   "metadata": {
    "slideshow": {
     "slide_type": "subslide"
    }
   },
   "outputs": [
    {
     "data": {
      "image/png": "[encoded data removed]",
      "text/plain": [
       "<Figure size 864x432 with 1 Axes>"
      ]
     },
     "metadata": {},
     "output_type": "display_data"
    }
   ],
   "source": [
    "# calculate top-10 user in term of play counts\n",
    "topN = 10\n",
    "\n",
    "userPlayCount = newUserArtistDF.groupby('userID', as_index=False)['playCount'].sum()\n",
    "rankedUsers = userPlayCount.sort_values('playCount', ascending = False)\n",
    "topNUser = rankedUsers[:topN]\n",
    "\n",
    "fig, ax = plt.subplots()\n",
    "\n",
    "fig.set_size_inches(12,6)\n",
    "\n",
    "topNUser['playCount'].plot(kind='barh', ax=ax)\n",
    "\n",
    "ax.set_yticklabels(topNUser['userID'])\n",
    "ax.set_xlabel('Play Count')\n",
    "ax.set_ylabel('userID')\n",
    "ax.set_title('Top-10 User per play count')\n",
    "\n",
    "plt.show()"
   ]
  },
  {
   "cell_type": "code",
   "execution_count": 27,
   "metadata": {
    "scrolled": false
   },
   "outputs": [
    {
     "data": {
      "image/png": "[encoded data removed]",
      "text/plain": [
       "<Figure size 864x432 with 1 Axes>"
      ]
     },
     "metadata": {},
     "output_type": "display_data"
    }
   ],
   "source": [
    "# calculate top-10 user in term of curiosity\n",
    "topN = 10\n",
    "\n",
    "userCuriosity = newUserArtistDF.groupby('userID', as_index=False)['realArtistID'].count()\n",
    "rankedUsersCuriosity = userCuriosity.sort_values('realArtistID', ascending = False)\n",
    "topNUserCuriosity = rankedUsersCuriosity[:topN]\n",
    "fig, ax = plt.subplots()\n",
    "\n",
    "fig.set_size_inches(12,6)\n",
    "\n",
    "topNUserCuriosity['realArtistID'].plot(kind='barh', ax=ax)\n",
    "\n",
    "ax.set_yticklabels(topNUserCuriosity['userID'])\n",
    "ax.set_xlabel('Play Count')\n",
    "ax.set_title('Top-10 User per curiosity')\n",
    "\n",
    "plt.show()"
   ]
  },
  {
   "cell_type": "markdown",
   "metadata": {},
   "source": [
    "<div class=\"alert alert-success\" style=\"background-color: AliceBlue; border-color: CornflowerBlue \">\n",
    "Above, we obtained the results for the top 10 users in terms of <b>total play count</b> and <b>user curiousity</b>. We can clearly see that their is <b>no apparent correlation</b> between the two results. The most curious userID 2030067 doesn't even appear in the top 10 users in terms of play count. Therefore, it is also important to differetiate between the two measures and this also verifies our different results between the <b>top 10 play count artists</b> and the <b>top 10 audience size artists</b>. And so it is important also to take into consideration that indeed many users actually play the same music a high number of times in such a way that they disappear from the top 10 curious users.\n",
    "</div>"
   ]
  },
  {
   "cell_type": "code",
   "execution_count": 104,
   "metadata": {},
   "outputs": [
    {
     "name": "stdout",
     "output_type": "stream",
     "text": [
      "The number of users with a play count higher than 50K 151\n",
      "The 0.999th quantile of the play count per user is 39550.69700000045\n"
     ]
    }
   ],
   "source": [
    "print(\"The number of users with a play count higher than 50K\", userPlayCount[userPlayCount.playCount > 50000].count().values[0])\n",
    "users2BRemoved = userPlayCount[userPlayCount.playCount > 50000]['userID'].values\n",
    "userPlayCount = userPlayCount[userPlayCount.playCount <= 50000].sort_values('playCount', ascending = False)\n",
    "userCuriosity = userCuriosity.drop(userCuriosity.loc[userCuriosity.userID.isin(users2BRemoved)].index)\n",
    "print(\"The 0.999th quantile of the play count per user is\", newUserArtistDF.groupby('userID', as_index=False)[\"playCount\"].sum().quantile(0.999).values[1])"
   ]
  },
  {
   "cell_type": "code",
   "execution_count": 91,
   "metadata": {},
   "outputs": [],
   "source": [
    "newUserArtistDF = newUserArtistDF.drop(newUserArtistDF.loc[newUserArtistDF.userID.isin(users2BRemoved)].index)"
   ]
  },
  {
   "cell_type": "markdown",
   "metadata": {},
   "source": [
    "Now we have some valuable information about the data. It's the time to study how to build a statistical models."
   ]
  },
  {
   "cell_type": "markdown",
   "metadata": {
    "slideshow": {
     "slide_type": "slide"
    }
   },
   "source": [
    "# 2. Build a statistical models to make recommendations\n",
    "\n",
    "## 2.1 Introduction to recommender systems\n",
    "\n",
    "In a recommendation-system application there are two classes of entities, which we shall refer to as `users` and `items`. Users have preferences for certain items, and these preferences must be inferred from the data. The data itself is represented as a `preference matrix` $A$, giving for each user-item pair, a value that represents what is known about the degree of preference of that user for that item. The table below is an example for a `preference matrix` of 5 users and `k` items. The `preference matrix` is also known as `utility matrix`.\n",
    "\n",
    "| .  | IT1 | IT2 | IT3 | ... | ITk |\n",
    "|----|---|---|---|---|---|\n",
    "| U1 | 1 | na | 5 | ... | 3 |\n",
    "| U2 | na | 2 | na | ... | 2 |\n",
    "| U3 | 5 | na | 3 | ... | na |\n",
    "| U4 | 3 | 3 | na | ... | 4 |\n",
    "| U5 | na | 1 | na | ... | ... |\n",
    "\n",
    "The value of row i, column j expresses how much does user `i` like item `j`. The values are often the rating scores of users for items. An unknown value implies that we have no explicit information about the user's preference for the item. The goal of a recommendation system is to predict \"the blanks\" in the `preference matrix`. For example, assume that the rating score is from 1 (dislike) to 5 (love), would user `U5` like `IT3` ? We have two approaches:\n",
    "\n",
    "* Designing our recommendation system to take into account properties of items such as brand, category, price... or even the similarity of their names. We can denote the similarity of items `IT2` and `IT3`, and then conclude that because user `U5` did not like `IT2`, they were unlikely to enjoy SW2 either.\n",
    "\n",
    "* We might observe that the people who rated both `IT2` and `IT3` tended to give them similar ratings. Thus, we could conclude that user `U5` would also give `IT3` a low rating, similar to `U5`'s rating of `IT2`\n",
    "\n",
    "It is not necessary to predict every blank entry in a `utility matrix`. Rather, it is only necessary to discover some entries in each row that are likely to be high. In most applications, the recommendation system does not oﬀer users a ranking of all items, but rather suggests a few that the user should value highly. It may not even be necessary to ﬁnd all items with the highest expected ratings, but only to ﬁnd a large subset of those with the highest ratings.\n",
    "\n",
    "\n",
    "## 2.2 Families of recommender systems\n",
    "\n",
    "In general, recommender systems can be categorized into two groups:\n",
    "\n",
    "* **Content-Based** systems focus on properties of items. Similarity of items is determined by measuring the similarity in their properties.\n",
    "\n",
    "* **Collaborative-Filtering** systems focus on the relationship between users and items. Similarity of items is determined by the similarity of the ratings of those items by the users who have rated both items.\n",
    "\n",
    "In the usecase of this notebook, artists take the role of `items`, and `users` keep the same role as `users`.\n",
    "Since we have no information about `artists`, except their names, we cannot build a `content-based` recommender system.\n",
    "\n",
    "Therefore, in the rest of this notebook, we only focus on `Collaborative-Filtering` algorithms.\n",
    "\n",
    "## 2.3 Collaborative-Filtering \n",
    "In this section, we study a member of a broad class of algorithms called `latent-factor` models. They try to explain observed interactions between large numbers of users and products through a relatively small number of unobserved, underlying reasons. It is analogous to explaining why millions of people buy a particular few of thousands of possible albums by describing users and albums in terms of tastes for perhaps tens of genres, tastes which are **not directly observable or given** as data. \n",
    "\n",
    "First, we formulate the learning problem as a matrix completion problem. Then, we will use a type of `matrix factorization` model to \"fill in\" the blanks.  We are given implicit ratings that users have given certain items (that is, the number of times they played a particular artist) and our goal is to predict their ratings for the rest of the items. Formally, if there are $n$ users and $m$ items, we are given an $n \\times m$ matrix $R$ in which the generic entry $(u, i)$ represents the rating for item $i$ by user $u$. **Matrix $R$ has many missing entries indicating unobserved ratings, and our task is to estimate these unobserved ratings**.\n",
    "\n",
    "A popular approach to the matrix completion problem is **matrix factorization**, where we want to \"summarize\" users and items with their **latent factors**.\n",
    "\n",
    "### 2.3.1 Basic idea and an example of Matrix Factorization\n",
    "For example, given a preference matrix 5x5 as below, we want to approximate this matrix into the product of two smaller matrixes $X$ and $Y$ .\n",
    "\n",
    "$$\n",
    "M = \n",
    "\\begin{bmatrix}\n",
    " 5 & 2 & 4 & 4 & 3 \\\\\n",
    " 3 & 1 & 2 & 4 & 1 \\\\\n",
    " 2 &  & 3 & 1 & 4 \\\\\n",
    " 2 & 5 & 4 & 3 & 5 \\\\\n",
    " 4 & 4 & 5 & 4 &  \\\\\n",
    "\\end{bmatrix}\n",
    "\\approx M^\\prime =\n",
    "\\begin{bmatrix}\n",
    " x_{11} & x_{12} \\\\\n",
    " x_{21} & x_{22} \\\\\n",
    " x_{31} & x_{32} \\\\\n",
    " x_{41} & x_{42} \\\\\n",
    " x_{51} & x_{52} \\\\\n",
    "\\end{bmatrix}\n",
    "\\times\n",
    "\\begin{bmatrix}\n",
    " y_{11} & y_{12} & y_{13} & y_{14} & y_{15} \\\\\n",
    " y_{21} & y_{22} & y_{23} & y_{24} & y_{25} \\\\\n",
    "\\end{bmatrix}\n",
    "$$\n",
    "\n",
    "$M^\\prime$ is an approximation that is as close to A as possible. To calculate how far from $M$ $M^\\prime$ is, we often calculate the sum of squared distances of non-empty elements in $M$ and the corresponding elements in $M^\\prime$.\n",
    "In this way, for $M^\\prime$, besides the approximated elements in $M$, we also have the non-observed elements. Therefore, to see how much does user `i` like item `j`, we simply pick up the value of $M^\\prime_{i,j}$.\n",
    "\n",
    "The challenge is how to calculate $X$ and $Y$. The bad news is that this can't be solved directly for both the best $X$ and best $Y$ at the same time. Fortunately, if $Y$ is known, we can calculate the best of $X$, and vice versa. It means from the initial values of $X$ and $Y$ in the beginning, we calculate the best $X$ according to $Y$, and then calculate the best $Y$ according to the new $X$. This process is repeated until the distance from $XY$ to $M$ is small. It's simple, right ?\n",
    "\n",
    "Let's take an example. To compute the approximation for the above 5x5 matrix $M$, first, we initialize the value of $X$ and $Y$ as below.\n",
    "\n",
    "$$\n",
    "M^\\prime = X \\times Y =\n",
    "\\begin{bmatrix}\n",
    " 1 & 1 \\\\\n",
    " 1 & 1 \\\\\n",
    " 1 & 1 \\\\\n",
    " 1 & 1 \\\\\n",
    " 1 & 1 \\\\\n",
    "\\end{bmatrix}\n",
    "\\times\n",
    "\\begin{bmatrix}\n",
    " 1 & 1 & 1 & 1 & 1 \\\\\n",
    " 1 & 1 & 1 & 1 & 1 \\\\\n",
    "\\end{bmatrix}\n",
    "=\n",
    "\\begin{bmatrix}\n",
    " 2 & 2 & 2 & 2 & 2 \\\\\n",
    " 2 & 2 & 2 & 2 & 2 \\\\\n",
    " 2 & 2 & 2 & 2 & 2 \\\\\n",
    " 2 & 2 & 2 & 2 & 2 \\\\\n",
    " 2 & 2 & 2 & 2 & 2 \\\\\n",
    "\\end{bmatrix}\n",
    "$$\n",
    "\n",
    "With the initial iteration, we calculate the the Root-Mean-Square Error from $XY$ to $M$.\n",
    "\n",
    "Consider the ﬁrst rows of $M$ and $XY$ . We subtract the first row of $XY$ from the entries in the ﬁrst row of $M$, to get $3,0,2,2,1$. We square and sum these to get $18$. \n",
    "\n",
    "In the second row, we do the same to get $1,−1,0,2,−1$, square and sum to get $7$. \n",
    "\n",
    "In the third row, the second column is blank, so that entry is ignored when computing the RMSE. The diﬀerences are $0,1,−1,2$ and the sum of squares is $6$. \n",
    "\n",
    "For the fourth row, the diﬀerences are $0,3,2,1,3$ and the sum of squares is $23$. \n",
    "\n",
    "The ﬁfth row has a blank entry in the last column, so the diﬀerences are $2,2,3,2$ and the sum of squares is $21$. \n",
    "\n",
    "When we sum the sums from each of the ﬁve rows, we get $18+7+6+23+21 = 75$. So, $RMSE=\\sqrt{75/23}=1.806$ where $23$ is the number of non-empty values in $M$.\n",
    "\n",
    "Next, with the given value of $Y$, we calculate $X$ by finding the best value for $X_{11}$.\n",
    "\n",
    "$$\n",
    "M^\\prime = X \\times Y =\n",
    "\\begin{bmatrix}\n",
    " x & 1 \\\\\n",
    " 1 & 1 \\\\\n",
    " 1 & 1 \\\\\n",
    " 1 & 1 \\\\\n",
    " 1 & 1 \\\\\n",
    "\\end{bmatrix}\n",
    "\\times\n",
    "\\begin{bmatrix}\n",
    " 1 & 1 & 1 & 1 & 1 \\\\\n",
    " 1 & 1 & 1 & 1 & 1 \\\\\n",
    "\\end{bmatrix}\n",
    "=\n",
    "\\begin{bmatrix}\n",
    " x+1 & x+1 & x+1 & x+1 & x+1 \\\\\n",
    " 2 & 2 & 2 & 2 & 2 \\\\\n",
    " 2 & 2 & 2 & 2 & 2 \\\\\n",
    " 2 & 2 & 2 & 2 & 2 \\\\\n",
    " 2 & 2 & 2 & 2 & 2 \\\\\n",
    "\\end{bmatrix}\n",
    "$$\n",
    "\n",
    "Now, to minimize the $RMSE$  we minimize the difference of the first rows $(5−(x+1))^2 + (2−(x+1))^2 + (4−(x+1))^2 + (4−(x+1))^2 + (3−(x+1))^2$. By  taking the derivative and set that equal to 0, we pick $x=2.6$\n",
    "\n",
    "Given the new value of $X$, we can calculate the best value for $Y$.\n",
    "\n",
    "$$\n",
    "M^\\prime = X \\times Y =\n",
    "\\begin{bmatrix}\n",
    " 2.6 & 1 \\\\\n",
    " 1 & 1 \\\\\n",
    " 1 & 1 \\\\\n",
    " 1 & 1 \\\\\n",
    " 1 & 1 \\\\\n",
    "\\end{bmatrix}\n",
    "\\times\n",
    "\\begin{bmatrix}\n",
    " y & 1 & 1 & 1 & 1 \\\\\n",
    " 1 & 1 & 1 & 1 & 1 \\\\\n",
    "\\end{bmatrix}\n",
    "=\n",
    "\\begin{bmatrix}\n",
    " 3.6 & 3.6 & 3.6 & 3.6 & 3.6 \\\\\n",
    " 2 & 2 & 2 & 2 & 2 \\\\\n",
    " 2 & 2 & 2 & 2 & 2 \\\\\n",
    " 2 & 2 & 2 & 2 & 2 \\\\\n",
    " 2 & 2 & 2 & 2 & 2 \\\\\n",
    "\\end{bmatrix}\n",
    "$$\n",
    "\n",
    "By doing the same process as before, we can pick value for $y=1.617$. After that, we can check if the $RMSE$ is not converged, we continue to update $X$ by $Y$ and vice versa. In this example, for simple, we only update one element of each matrix in each iteration. In practice, we can update a full row or full matrix at once.\n"
   ]
  },
  {
   "cell_type": "markdown",
   "metadata": {},
   "source": [
    "### 2.3.2 Matrix Factorization: Objective and ALS Algorithm\n",
    "\n",
    "More formally, in general, we select $k$ latent features, and describe each user $u$ with a $k-$dimensional vector $x_u$, and each item $i$ with a $k-$dimensional vector $y_i$.\n",
    "\n",
    "Then, to predict user $u$'s rating for item $i$, we do as follows: $ r_{ui} \\approx x_{u}^{T}y_i$.\n",
    "\n",
    "This can be put, more elegantly, in a matrix form. Let $x_1, \\cdots x_n \\in \\mathbb{R}^k$ be the factors for the users, and $y_1, \\cdots y_m \\in \\mathbb{R}^k$ the factors for the items. The $k \\times n$ user matrix $X$ and the $k \\times m$ item matrix $Y$ are then defined by:\n",
    "\n",
    "$$\n",
    "X = \n",
    "\\begin{bmatrix}\n",
    " |   &         & |  \\\\\n",
    "x_1  &  \\cdots & x_n\\\\\n",
    " |   &         & |  \\\\\n",
    "\\end{bmatrix}\n",
    "$$\n",
    "\n",
    "$$\n",
    "Y = \n",
    "\\begin{bmatrix}\n",
    " |   &         & |  \\\\\n",
    "y_1  &  \\cdots & y_i\\\\\n",
    " |   &         & |  \\\\\n",
    "\\end{bmatrix}\n",
    "$$\n",
    "\n",
    "Our goal is to estimate the complete ratings matrix $R \\approx X^{T} Y$. We can formulate this problem as an optimization problem in which we aim to minimize an objective function and find optimal $X$ and $Y$ . In particular, we aim to minimize the least squares error of the observed ratings (and regularize):\n",
    "\n",
    "$$\n",
    "\\min_{X,Y} \\sum_{r_{ui} \\text{observed}}(r_{ui} - x_{u}^{T}y_i)^2 + \\lambda \\left( \\sum_{u} \\|x_u\\|^2 + \\sum_{i} \\|y_i\\|^2 \\right) \n",
    "$$\n",
    "\n",
    "Notice that this objective is non-convex (because of the $x_{u}^{T} y_i$ term); in fact it’s NP-hard to optimize. Gradient descent can be used as an approximate approach here, however it turns out to be slow and costs lots of iterations. Note however, that if we fix the set of variables $X$ and treat them as constants, then the objective is a convex function of $Y$ and vice versa. Our approach will therefore be to fix $Y$ and optimize $X$, then fix $X$ and optimize $Y$, and repeat until convergence. This approach is known as **ALS (Alternating Least Squares)**. For our objective function, the alternating least squares algorithm can be expressed with this simple pseudo-code:"
   ]
  },
  {
   "cell_type": "markdown",
   "metadata": {},
   "source": [
    "\n",
    "**Initialize** $X$, $Y$\n",
    "\n",
    "**while(convergence is not true) do**\n",
    "\n",
    "\n",
    "**for** $u = 1 \\cdots n$ **do**\n",
    "\n",
    "$x_u = \\left( \\sum_{r_ui \\in r_{u*}} y_i y_{i}^{T} + \\lambda I_k \\right)^{-1} \\sum_{r_ui \\in r_{u*}} r_{ui} y_i $ \n",
    "   \n",
    "**end for**\n",
    "\n",
    "**for** $u = 1 \\cdots n$ **do**\n",
    "\n",
    "$y_i = \\left( \\sum_{r_ui \\in r_{*i}} x_u x_{u}^{T} + \\lambda I_k \\right)^{-1} \\sum_{r_ui \\in r_{*i}} r_{ui} x_u $ \n",
    "   \n",
    "**end for**\n",
    "\n",
    "\n",
    "**end while**\n"
   ]
  },
  {
   "cell_type": "markdown",
   "metadata": {},
   "source": [
    "For a single machine, we can analyze the computational cost of this algorithm. Updating each $x_u$ will cost $O(n_u k^2 + k^3)$, where $n_u$ is the number of items rated by user $u$, and similarly updating each $y_i$ will cost $O(n_i k^2 + k^3)$, where $n_i$ is the number of users that have rated item $i$.\n",
    "\n",
    "\n",
    "Once we’ve computed the matrices $X$ and $Y$, there are several ways compute a prediction. The first is to do what was discussed before, which is to simply predict $ r_{ui} \\approx x_{u}^{T}y_i$ for each user $u$ and item $i$. \n",
    "This approach will cost $O(nmk)$ if we’d like to estimate every user-item pair. \n",
    "\n",
    "However, this approach is prohibitively expensive for most real-world datasets. A second (and more holistic) approach is to use the $x_u$ and $y_i$ as features in another learning algorithm, incorporating these features with others that are relevant to the prediction task."
   ]
  },
  {
   "cell_type": "markdown",
   "metadata": {},
   "source": [
    "### Further readings\n",
    "Other methods for matrix factorization include:\n",
    "\n",
    "* Low Rank Approximation and Regression in Input Sparsity Time, by Kenneth L. Clarkson, David P. Woodruff. http://arxiv.org/abs/1207.6365\n",
    "* Generalized Low Rank Models (GLRM), by Madeleine Udell, Corinne Horn, Reza Zadeh, Stephen Boyd. http://arxiv.org/abs/1410.0342\n",
    "* Matrix Completion and Low-Rank SVD via Fast Alternating Least Squares, by Trevor Hastie, Rahul Mazumder, Jason D. Lee, Reza Zadeh . Statistics Department and ICME, Stanford University, 2014. http://stanford.edu/~rezab/papers/fastals.pdf"
   ]
  },
  {
   "cell_type": "markdown",
   "metadata": {},
   "source": [
    "# 3. Usecase : Music recommender system\n",
    "\n",
    "In this usecase, we use the data of users and artists in the previous sections to build a statistical model to recommend artists for users.\n",
    " \n",
    "## 3.1 Requirements\n",
    "According to the properties of data, we need to choose a recommender algorithm that is suitable for this implicit feedback data. It means that the algorithm should learn without access to user or artist attributes such as age, genre,.... Therefore, an algorithm of type `collaborative filtering` is the best choice.\n",
    "\n",
    "Second, in the data, there are some users that have listened to only 1 artist. We need an algorithm that might provide decent recommendations to even these users. After all, at some point, every user starts out with just one play at some point! \n",
    "\n",
    "Third, we need an algorithm that scales, both in its ability to build large models, and to create recommendations quickly.\n",
    "\n",
    "From these requirement, we can choose using ALS algorithm in [Implicit](https://implicit.readthedocs.io/en/latest/)."
   ]
  },
  {
   "cell_type": "markdown",
   "metadata": {
    "slideshow": {
     "slide_type": "slide"
    }
   },
   "source": [
    "### Question 6\n",
    "\n",
    "The library choosen for implementing ALS has a strict requirement in terms of data format. In particular `userID` and `artistID` should be both incremetally assigned starting from 0 (e.g. the first valid `artistID` is 90 and it has to correspond to 0). In these next questions we will try to fix this issue.\n",
    "\n",
    "#### Question 6.1\n",
    "\n",
    "<div class=\"alert alert-info\">\n",
    "Create a table with incremental ID for artists and print the first 15 entries.\n",
    "</div>"
   ]
  },
  {
   "cell_type": "code",
   "execution_count": 93,
   "metadata": {
    "slideshow": {
     "slide_type": "subslide"
    }
   },
   "outputs": [
    {
     "data": {
      "text/html": [
       "<div>\n",
       "<style scoped>\n",
       "    .dataframe tbody tr th:only-of-type {\n",
       "        vertical-align: middle;\n",
       "    }\n",
       "\n",
       "    .dataframe tbody tr th {\n",
       "        vertical-align: top;\n",
       "    }\n",
       "\n",
       "    .dataframe thead th {\n",
       "        text-align: right;\n",
       "    }\n",
       "</style>\n",
       "<table border=\"1\" class=\"dataframe\">\n",
       "  <thead>\n",
       "    <tr style=\"text-align: right;\">\n",
       "      <th></th>\n",
       "      <th>originalArtistID</th>\n",
       "      <th>incrementalArtistID</th>\n",
       "    </tr>\n",
       "  </thead>\n",
       "  <tbody>\n",
       "    <tr>\n",
       "      <th>0</th>\n",
       "      <td>24</td>\n",
       "      <td>0</td>\n",
       "    </tr>\n",
       "    <tr>\n",
       "      <th>1</th>\n",
       "      <td>46</td>\n",
       "      <td>1</td>\n",
       "    </tr>\n",
       "    <tr>\n",
       "      <th>2</th>\n",
       "      <td>121</td>\n",
       "      <td>2</td>\n",
       "    </tr>\n",
       "    <tr>\n",
       "      <th>3</th>\n",
       "      <td>151</td>\n",
       "      <td>3</td>\n",
       "    </tr>\n",
       "    <tr>\n",
       "      <th>4</th>\n",
       "      <td>227</td>\n",
       "      <td>4</td>\n",
       "    </tr>\n",
       "    <tr>\n",
       "      <th>5</th>\n",
       "      <td>342</td>\n",
       "      <td>5</td>\n",
       "    </tr>\n",
       "    <tr>\n",
       "      <th>6</th>\n",
       "      <td>566</td>\n",
       "      <td>6</td>\n",
       "    </tr>\n",
       "    <tr>\n",
       "      <th>7</th>\n",
       "      <td>619</td>\n",
       "      <td>7</td>\n",
       "    </tr>\n",
       "    <tr>\n",
       "      <th>8</th>\n",
       "      <td>737</td>\n",
       "      <td>8</td>\n",
       "    </tr>\n",
       "    <tr>\n",
       "      <th>9</th>\n",
       "      <td>787</td>\n",
       "      <td>9</td>\n",
       "    </tr>\n",
       "    <tr>\n",
       "      <th>10</th>\n",
       "      <td>798</td>\n",
       "      <td>10</td>\n",
       "    </tr>\n",
       "    <tr>\n",
       "      <th>11</th>\n",
       "      <td>938</td>\n",
       "      <td>11</td>\n",
       "    </tr>\n",
       "    <tr>\n",
       "      <th>12</th>\n",
       "      <td>1208</td>\n",
       "      <td>12</td>\n",
       "    </tr>\n",
       "    <tr>\n",
       "      <th>13</th>\n",
       "      <td>1404</td>\n",
       "      <td>13</td>\n",
       "    </tr>\n",
       "    <tr>\n",
       "      <th>14</th>\n",
       "      <td>1435</td>\n",
       "      <td>14</td>\n",
       "    </tr>\n",
       "  </tbody>\n",
       "</table>\n",
       "</div>"
      ],
      "text/plain": [
       "    originalArtistID  incrementalArtistID\n",
       "0                 24                    0\n",
       "1                 46                    1\n",
       "2                121                    2\n",
       "3                151                    3\n",
       "4                227                    4\n",
       "5                342                    5\n",
       "6                566                    6\n",
       "7                619                    7\n",
       "8                737                    8\n",
       "9                787                    9\n",
       "10               798                   10\n",
       "11               938                   11\n",
       "12              1208                   12\n",
       "13              1404                   13\n",
       "14              1435                   14"
      ]
     },
     "execution_count": 93,
     "metadata": {},
     "output_type": "execute_result"
    }
   ],
   "source": [
    "# create an ID mapping DF\n",
    "artistMappingDF = pd.DataFrame()\n",
    "\n",
    "# create a column with the original unique artist ID's\n",
    "artistMappingDF['originalArtistID']  = newUserArtistDF['realArtistID'].unique()\n",
    "\n",
    "# create a column with the incremental artist ID\n",
    "artistMappingDF['incrementalArtistID'] = [i for i in range(len(newUserArtistDF['realArtistID'].unique()))]\n",
    "\n",
    "artistMappingDF[:15]"
   ]
  },
  {
   "cell_type": "markdown",
   "metadata": {
    "slideshow": {
     "slide_type": "slide"
    }
   },
   "source": [
    "#### Question 6.2 \n",
    "\n",
    "<div class=\"alert alert-info\">\n",
    "Create a table with incremental ID for users and print the first 15 entries.\n",
    "</div>"
   ]
  },
  {
   "cell_type": "code",
   "execution_count": 94,
   "metadata": {
    "slideshow": {
     "slide_type": "subslide"
    }
   },
   "outputs": [
    {
     "data": {
      "text/html": [
       "<div>\n",
       "<style scoped>\n",
       "    .dataframe tbody tr th:only-of-type {\n",
       "        vertical-align: middle;\n",
       "    }\n",
       "\n",
       "    .dataframe tbody tr th {\n",
       "        vertical-align: top;\n",
       "    }\n",
       "\n",
       "    .dataframe thead th {\n",
       "        text-align: right;\n",
       "    }\n",
       "</style>\n",
       "<table border=\"1\" class=\"dataframe\">\n",
       "  <thead>\n",
       "    <tr style=\"text-align: right;\">\n",
       "      <th></th>\n",
       "      <th>originalUserID</th>\n",
       "      <th>incrementalUserID</th>\n",
       "    </tr>\n",
       "  </thead>\n",
       "  <tbody>\n",
       "    <tr>\n",
       "      <th>0</th>\n",
       "      <td>90</td>\n",
       "      <td>0</td>\n",
       "    </tr>\n",
       "    <tr>\n",
       "      <th>1</th>\n",
       "      <td>98</td>\n",
       "      <td>1</td>\n",
       "    </tr>\n",
       "    <tr>\n",
       "      <th>2</th>\n",
       "      <td>116</td>\n",
       "      <td>2</td>\n",
       "    </tr>\n",
       "    <tr>\n",
       "      <th>3</th>\n",
       "      <td>120</td>\n",
       "      <td>3</td>\n",
       "    </tr>\n",
       "    <tr>\n",
       "      <th>4</th>\n",
       "      <td>128</td>\n",
       "      <td>4</td>\n",
       "    </tr>\n",
       "    <tr>\n",
       "      <th>5</th>\n",
       "      <td>139</td>\n",
       "      <td>5</td>\n",
       "    </tr>\n",
       "    <tr>\n",
       "      <th>6</th>\n",
       "      <td>277</td>\n",
       "      <td>6</td>\n",
       "    </tr>\n",
       "    <tr>\n",
       "      <th>7</th>\n",
       "      <td>321</td>\n",
       "      <td>7</td>\n",
       "    </tr>\n",
       "    <tr>\n",
       "      <th>8</th>\n",
       "      <td>340</td>\n",
       "      <td>8</td>\n",
       "    </tr>\n",
       "    <tr>\n",
       "      <th>9</th>\n",
       "      <td>350</td>\n",
       "      <td>9</td>\n",
       "    </tr>\n",
       "    <tr>\n",
       "      <th>10</th>\n",
       "      <td>384</td>\n",
       "      <td>10</td>\n",
       "    </tr>\n",
       "    <tr>\n",
       "      <th>11</th>\n",
       "      <td>519</td>\n",
       "      <td>11</td>\n",
       "    </tr>\n",
       "    <tr>\n",
       "      <th>12</th>\n",
       "      <td>521</td>\n",
       "      <td>12</td>\n",
       "    </tr>\n",
       "    <tr>\n",
       "      <th>13</th>\n",
       "      <td>536</td>\n",
       "      <td>13</td>\n",
       "    </tr>\n",
       "    <tr>\n",
       "      <th>14</th>\n",
       "      <td>581</td>\n",
       "      <td>14</td>\n",
       "    </tr>\n",
       "  </tbody>\n",
       "</table>\n",
       "</div>"
      ],
      "text/plain": [
       "    originalUserID  incrementalUserID\n",
       "0               90                  0\n",
       "1               98                  1\n",
       "2              116                  2\n",
       "3              120                  3\n",
       "4              128                  4\n",
       "5              139                  5\n",
       "6              277                  6\n",
       "7              321                  7\n",
       "8              340                  8\n",
       "9              350                  9\n",
       "10             384                 10\n",
       "11             519                 11\n",
       "12             521                 12\n",
       "13             536                 13\n",
       "14             581                 14"
      ]
     },
     "execution_count": 94,
     "metadata": {},
     "output_type": "execute_result"
    }
   ],
   "source": [
    "# create an ID mapping DF\n",
    "userMappingDF = pd.DataFrame()\n",
    "\n",
    "# create a column with the original unique user ID's\n",
    "userMappingDF['originalUserID'] = newUserArtistDF['userID'].unique()\n",
    "\n",
    "# create a column with the incremental user ID\n",
    "userMappingDF['incrementalUserID'] = [0 + i for i in range(len(newUserArtistDF['userID'].unique()))]\n",
    "\n",
    "userMappingDF[:15]"
   ]
  },
  {
   "cell_type": "markdown",
   "metadata": {
    "slideshow": {
     "slide_type": "slide"
    }
   },
   "source": [
    "#### Question 6.3 \n",
    "\n",
    "<div class=\"alert alert-info\">\n",
    "Starting from the clean dataset that we already have, find a way to replace the original IDs with the new ones. Print the first 15 entries in this new table.\n",
    "</div>"
   ]
  },
  {
   "cell_type": "code",
   "execution_count": 95,
   "metadata": {
    "slideshow": {
     "slide_type": "subslide"
    }
   },
   "outputs": [
    {
     "data": {
      "text/html": [
       "<div>\n",
       "<style scoped>\n",
       "    .dataframe tbody tr th:only-of-type {\n",
       "        vertical-align: middle;\n",
       "    }\n",
       "\n",
       "    .dataframe tbody tr th {\n",
       "        vertical-align: top;\n",
       "    }\n",
       "\n",
       "    .dataframe thead th {\n",
       "        text-align: right;\n",
       "    }\n",
       "</style>\n",
       "<table border=\"1\" class=\"dataframe\">\n",
       "  <thead>\n",
       "    <tr style=\"text-align: right;\">\n",
       "      <th></th>\n",
       "      <th>playCount</th>\n",
       "      <th>incrementalArtistID</th>\n",
       "      <th>incrementalUserID</th>\n",
       "    </tr>\n",
       "  </thead>\n",
       "  <tbody>\n",
       "    <tr>\n",
       "      <th>0</th>\n",
       "      <td>1</td>\n",
       "      <td>0</td>\n",
       "      <td>0</td>\n",
       "    </tr>\n",
       "    <tr>\n",
       "      <th>1</th>\n",
       "      <td>4</td>\n",
       "      <td>1</td>\n",
       "      <td>0</td>\n",
       "    </tr>\n",
       "    <tr>\n",
       "      <th>2</th>\n",
       "      <td>1</td>\n",
       "      <td>2</td>\n",
       "      <td>0</td>\n",
       "    </tr>\n",
       "    <tr>\n",
       "      <th>3</th>\n",
       "      <td>1</td>\n",
       "      <td>3</td>\n",
       "      <td>0</td>\n",
       "    </tr>\n",
       "    <tr>\n",
       "      <th>4</th>\n",
       "      <td>16</td>\n",
       "      <td>4</td>\n",
       "      <td>0</td>\n",
       "    </tr>\n",
       "    <tr>\n",
       "      <th>5</th>\n",
       "      <td>1</td>\n",
       "      <td>5</td>\n",
       "      <td>0</td>\n",
       "    </tr>\n",
       "    <tr>\n",
       "      <th>6</th>\n",
       "      <td>1</td>\n",
       "      <td>6</td>\n",
       "      <td>0</td>\n",
       "    </tr>\n",
       "    <tr>\n",
       "      <th>7</th>\n",
       "      <td>1</td>\n",
       "      <td>7</td>\n",
       "      <td>0</td>\n",
       "    </tr>\n",
       "    <tr>\n",
       "      <th>8</th>\n",
       "      <td>1</td>\n",
       "      <td>8</td>\n",
       "      <td>0</td>\n",
       "    </tr>\n",
       "    <tr>\n",
       "      <th>9</th>\n",
       "      <td>7</td>\n",
       "      <td>9</td>\n",
       "      <td>0</td>\n",
       "    </tr>\n",
       "    <tr>\n",
       "      <th>10</th>\n",
       "      <td>72</td>\n",
       "      <td>10</td>\n",
       "      <td>0</td>\n",
       "    </tr>\n",
       "    <tr>\n",
       "      <th>11</th>\n",
       "      <td>5</td>\n",
       "      <td>11</td>\n",
       "      <td>0</td>\n",
       "    </tr>\n",
       "    <tr>\n",
       "      <th>12</th>\n",
       "      <td>67</td>\n",
       "      <td>12</td>\n",
       "      <td>0</td>\n",
       "    </tr>\n",
       "    <tr>\n",
       "      <th>13</th>\n",
       "      <td>1</td>\n",
       "      <td>13</td>\n",
       "      <td>0</td>\n",
       "    </tr>\n",
       "    <tr>\n",
       "      <th>14</th>\n",
       "      <td>87</td>\n",
       "      <td>14</td>\n",
       "      <td>0</td>\n",
       "    </tr>\n",
       "  </tbody>\n",
       "</table>\n",
       "</div>"
      ],
      "text/plain": [
       "    playCount  incrementalArtistID  incrementalUserID\n",
       "0           1                    0                  0\n",
       "1           4                    1                  0\n",
       "2           1                    2                  0\n",
       "3           1                    3                  0\n",
       "4          16                    4                  0\n",
       "5           1                    5                  0\n",
       "6           1                    6                  0\n",
       "7           1                    7                  0\n",
       "8           1                    8                  0\n",
       "9           7                    9                  0\n",
       "10         72                   10                  0\n",
       "11          5                   11                  0\n",
       "12         67                   12                  0\n",
       "13          1                   13                  0\n",
       "14         87                   14                  0"
      ]
     },
     "execution_count": 95,
     "metadata": {},
     "output_type": "execute_result"
    }
   ],
   "source": [
    "# Join the cleaned dataframe with the artist ID mapping dataframe over the original artist ID's\n",
    "rescaledUserArtistDF = pd.merge(newUserArtistDF, artistMappingDF, \n",
    "                                left_on='realArtistID', \n",
    "                                right_on='originalArtistID').drop(['realArtistID','originalArtistID'], axis=1)\n",
    "\n",
    "# Join the cleaned dataframe with the user ID mapping dataframe over the original user ID's\n",
    "rescaledUserArtistDF = pd.merge(rescaledUserArtistDF, userMappingDF, \n",
    "                                left_on='userID',\n",
    "                                right_on='originalUserID').drop(['userID','originalUserID'], axis=1)\n",
    "\n",
    "rescaledUserArtistDF[:15]"
   ]
  },
  {
   "cell_type": "markdown",
   "metadata": {},
   "source": [
    "Now, we don't need no more `userArtistDF` and `newUserArtistDF`. We can delete them and free some memory"
   ]
  },
  {
   "cell_type": "code",
   "execution_count": 28,
   "metadata": {},
   "outputs": [],
   "source": [
    "del userArtistDF\n",
    "del newUserArtistDF"
   ]
  },
  {
   "cell_type": "markdown",
   "metadata": {
    "slideshow": {
     "slide_type": "slide"
    }
   },
   "source": [
    "## 3.4 Training our statistical model\n",
    "To train a model using ALS, we must use a sparse matrix as an input. Implicit uses the class sparse matrix to support the construction of a distributed preference matrix."
   ]
  },
  {
   "cell_type": "markdown",
   "metadata": {},
   "source": [
    "### Question 7\n",
    "\n",
    "The implicit library expects data as a item-user sparse matrix. Now we create two matricies, one for fitting the model (item-user) and one for recommendations (the transpose of item-user -- user-item)."
   ]
  },
  {
   "cell_type": "code",
   "execution_count": 96,
   "metadata": {
    "slideshow": {
     "slide_type": "fragment"
    }
   },
   "outputs": [],
   "source": [
    "import scipy.sparse as sparse\n",
    "import implicit\n",
    "\n",
    "def to_sparse(userArtistDF):\n",
    "    playCount = userArtistDF['playCount'].astype(float)\n",
    "    artistID = userArtistDF['incrementalArtistID']\n",
    "    userID = userArtistDF['incrementalUserID']\n",
    "    sparse_item_user = sparse.csr_matrix((playCount, (artistID, userID)))\n",
    "\n",
    "    return sparse_item_user\n",
    "\n",
    "sparse_item_user = to_sparse(rescaledUserArtistDF)\n",
    "sparse_user_item = sparse_item_user.T"
   ]
  },
  {
   "cell_type": "markdown",
   "metadata": {
    "slideshow": {
     "slide_type": "slide"
    }
   },
   "source": [
    "#### Question 7.1\n",
    "<div class=\"alert alert-info\">\n",
    "Train a model trained by using `implicit.als.AlternatingLeastSquares()`.\n",
    "</div>\n",
    "\n",
    "Read **carefully** the documentation of this class."
   ]
  },
  {
   "cell_type": "markdown",
   "metadata": {},
   "source": [
    "We can also use some additional parameters to adjust the quality of the model. For now, let's set \n",
    "\n",
    "- `factors = 10`\n",
    "- `iterations = 5`\n",
    "- `regularization = 0.01`\n",
    "- `alpha = 1.0`\n",
    "\n",
    "to build the model."
   ]
  },
  {
   "cell_type": "code",
   "execution_count": 97,
   "metadata": {
    "slideshow": {
     "slide_type": "subslide"
    }
   },
   "outputs": [
    {
     "name": "stderr",
     "output_type": "stream",
     "text": [
      "100%|██████████| 5.0/5 [00:35<00:00,  8.05s/it]\n"
     ]
    }
   ],
   "source": [
    "# Calculate the confidence matrix by multiplying the item/user matrix by our alpha value.\n",
    "data_conf = (sparse_item_user * 1.0).astype('double')\n",
    "\n",
    "# Create the model according to the given parameters\n",
    "model = implicit.als.AlternatingLeastSquares(factors=10, regularization=0.01, iterations=5)\n",
    "\n",
    "# Fit the model\n",
    "model.fit(data_conf, show_progress = True)"
   ]
  },
  {
   "cell_type": "markdown",
   "metadata": {
    "slideshow": {
     "slide_type": "slide"
    }
   },
   "source": [
    "#### Question 7.5\n",
    "<div class=\"alert alert-info\">\n",
    "Print the user features for the first user\n",
    "</div>"
   ]
  },
  {
   "cell_type": "code",
   "execution_count": 98,
   "metadata": {
    "slideshow": {
     "slide_type": "subslide"
    }
   },
   "outputs": [
    {
     "data": {
      "text/plain": [
       "array([-0.00682594,  0.49205855,  0.03019511,  0.01725622, -0.31710687,\n",
       "       -0.15663357,  0.10828613, -0.20233256,  0.24350643,  0.1440268 ],\n",
       "      dtype=float32)"
      ]
     },
     "execution_count": 98,
     "metadata": {},
     "output_type": "execute_result"
    }
   ],
   "source": [
    "# display the k = 10 latent features for the first user\n",
    "model.user_factors[0]"
   ]
  },
  {
   "cell_type": "markdown",
   "metadata": {
    "slideshow": {
     "slide_type": "slide"
    }
   },
   "source": [
    "### Question 8\n",
    "<div class=\"alert alert-info\">\n",
    "Show the top-5 artist names recommendated for a given user, for example: `2093760` (please, try also with different users!).\n",
    "</div>\n",
    "\n",
    "**HINT**: The recommendations can be given by function `recommend()`. These recommendations are only artist ids. You have to map them to artist names by using data in `artist_data.txt`. Remember that we have transformed our IDs, so what you need to do is `userID -> incrementalUserID -> recommend() -> incrementalArtistID -> artistID -> name`"
   ]
  },
  {
   "cell_type": "code",
   "execution_count": 99,
   "metadata": {
    "slideshow": {
     "slide_type": "subslide"
    }
   },
   "outputs": [],
   "source": [
    "# Retrieve the incrementalUserID from a userID\n",
    "def get_incrementalUserID(userID):\n",
    "    return userMappingDF[userMappingDF.originalUserID == userID]['incrementalUserID'].iloc[0]\n",
    "\n",
    "# Retrieve the original userID from an incrementalUserID\n",
    "def get_userID(incrementalUserID):\n",
    "    return userMappingDF[userMappingDF.incrementalUserID == incrementalUserID]['originalUserID'].iloc[0]\n",
    "\n",
    "# Retrieve the incrementalArtistID from an artistID\n",
    "def get_incrementalArtistID(artisID):\n",
    "    return artistMappingDF[artistMappingDF.originalArtistID == artisID]['incrementalArtistID'].iloc[0]\n",
    "\n",
    "# Retrieve the original artistID from an incrementalArtistID\n",
    "def get_artistID(incrementalArtistID):\n",
    "    return artistMappingDF[artistMappingDF.incrementalArtistID == incrementalArtistID]['originalArtistID'].iloc[0]\n",
    "\n",
    "# Retrive the artist name\n",
    "def get_artist_name(artistID):\n",
    "    return artistDF[artistDF.artistID == artistID]['name'].iloc[0]"
   ]
  },
  {
   "cell_type": "markdown",
   "metadata": {},
   "source": [
    "### Testing Recommendations for Different Types of Users"
   ]
  },
  {
   "cell_type": "code",
   "execution_count": 107,
   "metadata": {
    "scrolled": false
   },
   "outputs": [
    {
     "name": "stdout",
     "output_type": "stream",
     "text": [
      "User  2093760\n",
      "Play Count: 14\n",
      "Top 1\n",
      "Artist Name: 50 Cent\n",
      "Score: 0.022041637\n",
      "===========================\n",
      "Top 2\n",
      "Artist Name: 2Pac\n",
      "Score: 0.021421568\n",
      "===========================\n",
      "Top 3\n",
      "Artist Name: Snoop Dogg\n",
      "Score: 0.021306906\n",
      "===========================\n",
      "Top 4\n",
      "Artist Name: Dr. Dre\n",
      "Score: 0.0208239\n",
      "===========================\n",
      "Top 5\n",
      "Artist Name: Jay-Z\n",
      "Score: 0.02076098\n",
      "===========================\n",
      "===========================\n",
      "\n",
      "User  1040331 -> Top play count user\n",
      "Top 1\n",
      "Artist Name: Jurassic 5\n",
      "Score: 1.3356354\n",
      "===========================\n",
      "Top 2\n",
      "Artist Name: DJ Danger Mouse\n",
      "Score: 1.3007516\n",
      "===========================\n",
      "Top 3\n",
      "Artist Name: Blind Melon\n",
      "Score: 1.2764741\n",
      "===========================\n",
      "Top 4\n",
      "Artist Name: Mitch Hedberg\n",
      "Score: 1.2702206\n",
      "===========================\n",
      "Top 5\n",
      "Artist Name: Soul Coughing\n",
      "Score: 1.2673836\n",
      "===========================\n",
      "===========================\n",
      "\n",
      "User  2443548 -> Bottom play count user\n",
      "1\n",
      "Top 1\n",
      "Artist Name: Mae\n",
      "Score: 0.0031595451\n",
      "===========================\n",
      "Top 2\n",
      "Artist Name: The Starting Line\n",
      "Score: 0.0030924124\n",
      "===========================\n",
      "Top 3\n",
      "Artist Name: Copeland\n",
      "Score: 0.0030714208\n",
      "===========================\n",
      "Top 4\n",
      "Artist Name: Fall Out Boy\n",
      "Score: 0.0030710357\n",
      "===========================\n",
      "Top 5\n",
      "Artist Name: The Academy Is...\n",
      "Score: 0.0030355891\n",
      "===========================\n",
      "===========================\n",
      "\n",
      "User  90 -> Top curious user\n",
      "Top 1\n",
      "Artist Name: Miles Davis\n",
      "Score: 0.37792236\n",
      "===========================\n",
      "Top 2\n",
      "Artist Name: Amon Tobin\n",
      "Score: 0.37310824\n",
      "===========================\n",
      "Top 3\n",
      "Artist Name: Thievery Corporation\n",
      "Score: 0.37303177\n",
      "===========================\n",
      "Top 4\n",
      "Artist Name: Prefuse 73\n",
      "Score: 0.36196524\n",
      "===========================\n",
      "Top 5\n",
      "Artist Name: RJD2\n",
      "Score: 0.36110282\n",
      "===========================\n",
      "===========================\n",
      "\n"
     ]
    }
   ],
   "source": [
    "# Recommend artists for user with ID 2093760\n",
    "user_id = 2093760\n",
    "top = 1\n",
    "print(\"User \",2093760)\n",
    "print(\"Play Count:\", rankedUsers[rankedUsers.userID == 2093760]['playCount'].values[0])\n",
    "for incremental_artist_id, score in model.recommend(userid = get_incrementalUserID(user_id), user_items = sparse_user_item, N =5):\n",
    "    print(\"Top\",top)\n",
    "    top += 1\n",
    "    print(\"Artist Name:\",get_artist_name(get_artistID(incremental_artist_id)))\n",
    "    print(\"Score:\",score)\n",
    "    print(\"===========================\")\n",
    "print(\"===========================\\n\")\n",
    "\n",
    "# Recommend artists for user with highest play count\n",
    "user_id = userPlayCount.iloc[0]['userID']\n",
    "top = 1\n",
    "print(\"User \", user_id, \"-> Top play count user\")\n",
    "for incremental_artist_id, score in model.recommend(userid = get_incrementalUserID(user_id), user_items = sparse_user_item, N =5):\n",
    "    print(\"Top\",top)\n",
    "    top += 1\n",
    "    print(\"Artist Name:\",get_artist_name(get_artistID(incremental_artist_id)))\n",
    "    print(\"Score:\",score)\n",
    "    print(\"===========================\")\n",
    "print(\"===========================\\n\")\n",
    "\n",
    "# Recommend artists for user with lowest play count\n",
    "user_id = rankedUsers.iloc[-1]['userID']\n",
    "top = 1\n",
    "print(\"User \", user_id, \"-> Bottom play count user\")\n",
    "print(rankedUsers.iloc[-1]['playCount'])\n",
    "for incremental_artist_id, score in model.recommend(userid = get_incrementalUserID(user_id), user_items = sparse_user_item, N =5):\n",
    "    print(\"Top\",top)\n",
    "    top += 1\n",
    "    print(\"Artist Name:\",get_artist_name(get_artistID(incremental_artist_id)))\n",
    "    print(\"Score:\",score)\n",
    "    print(\"===========================\")\n",
    "print(\"===========================\\n\")\n",
    " \n",
    "# Recommend artists for user with highest curiosity\n",
    "user_id = userCuriosity.iloc[0]['userID']\n",
    "top = 1\n",
    "print(\"User \",user_id, \"-> Top curious user\")\n",
    "for incremental_artist_id, score in model.recommend(userid = get_incrementalUserID(user_id), user_items = sparse_user_item, N =5):\n",
    "    print(\"Top\",top)\n",
    "    top += 1\n",
    "    print(\"Artist Name:\",get_artist_name(get_artistID(incremental_artist_id)))\n",
    "    print(\"Score:\",score)\n",
    "    print(\"===========================\")\n",
    "print(\"===========================\\n\")\n"
   ]
  },
  {
   "cell_type": "markdown",
   "metadata": {},
   "source": [
    "<div class=\"alert alert-success\" style=\"background-color: AliceBlue; border-color: CornflowerBlue \">\n",
    "Above, we have used our trained model to recommend artists for different kinds of users in order to observe the different recommendations along with the confidence of these recommendations.<br>\n",
    "* With the user having an ID <b>2093760</b> and a play count <b>14</b>, we can see that the confidence of the recommendations are just around <b>0.02</b>.<br>\n",
    "* With the user having the <b>top play count</b> in our data, we can see that the confidence of the recommendations can reach approximately <b>22</b>. Thus we can start to see the impact of the <b>implicit feedback</b> on the recommendation confidence and quality.<br>\n",
    "* With the user having the <b>least play count</b> in our data, we can see that the confidence of the recommendations has significantly dropped to <b>0.002</b>. Thus can be explained by the fact that this user has not given sufficient feedback to the system to obtain good recommendations.<br>\n",
    "* Finnaly we have tested the recommendations with the <b>most curious user</b> in our dataset, and we can see that the confidence obtained was <b>1.5</b> which is lower that the that of the users with the highest play count but way higher than users with small feedback to the system.\n",
    "</div>"
   ]
  },
  {
   "cell_type": "markdown",
   "metadata": {},
   "source": [
    "### Extra: Plot the Relationships between the Recommendation Confidence and each of the User Curiosity and Play Count"
   ]
  },
  {
   "cell_type": "code",
   "execution_count": 109,
   "metadata": {},
   "outputs": [
    {
     "data": {
      "text/plain": [
       "147960"
      ]
     },
     "execution_count": 109,
     "metadata": {},
     "output_type": "execute_result"
    }
   ],
   "source": [
    "userPlayCount.count().values[0]"
   ]
  },
  {
   "cell_type": "code",
   "execution_count": 110,
   "metadata": {},
   "outputs": [
    {
     "data": {
      "image/png": "[encoded data removed]",
      "text/plain": [
       "<Figure size 864x864 with 2 Axes>"
      ]
     },
     "metadata": {},
     "output_type": "display_data"
    }
   ],
   "source": [
    "# Create tuples (number of play counts, confidence of the 1st recomendation) for 149 users ranging from top to bottom play count\n",
    "'''\n",
    "The top ranked users were removed\n",
    "for the sake of making the plot more clear\n",
    "as their confidence ruins the confidence scale\n",
    "but such users' recommendations with their confidence\n",
    "can be viewed in the previous part\n",
    "'''\n",
    "playCount_Confidence = [(rankedUsers.iloc[i]['playCount'], model.recommend(userid = get_incrementalUserID(userPlayCount.iloc[i]['userID']), user_items = sparse_user_item, N =1)[0][1])  for i in range(0, userPlayCount.count().values[0]-1, 1000)]\n",
    "\n",
    "\n",
    "# Plot PlayCounts and accuracy of the recommendation per user\n",
    "\n",
    "fig = plt.figure(1)\n",
    "\n",
    "\n",
    "ax1 = plt.subplot(2, 1, 1)\n",
    "\n",
    "ax1.semilogx()\n",
    "plt.scatter(*zip(*playCount_Confidence))\n",
    "ax1.set_xlabel('Number of Plays')\n",
    "ax1.set_ylabel('Recommendation Confidence')\n",
    "ax1.set_title('Relation between Play Count and Confidence in the Recommendation per User')\n",
    "\n",
    "\n",
    "#Create tuples (number of diferent artist the user has search, confidence of the 1st recomendation) for the 149 users ranging from top to bottom curiosity\n",
    "curiosity_Confidence = [(rankedUsersCuriosity.iloc[i]['realArtistID'], model.recommend(userid = get_incrementalUserID(rankedUsersCuriosity.iloc[i]['userID']), user_items = sparse_user_item, N =1)[0][1])  for i in range(0, userPlayCount.count().values[0]-1, 1000)]\n",
    "\n",
    "\n",
    "\n",
    "ax2 = plt.subplot(2, 1, 2)\n",
    "\n",
    "ax2.semilogx()\n",
    "plt.scatter(*zip(*curiosity_Confidence))\n",
    "ax2.set_xlabel('Number of Artists a User has Searched')\n",
    "ax2.set_ylabel('Recommendation Confidence')\n",
    "ax2.set_title('Relation between the Curiosity and Confidence in the Recommendation per User')\n",
    "\n",
    "fig.set_size_inches(w=12,h=12)\n",
    "\n",
    "plt.show()"
   ]
  },
  {
   "cell_type": "markdown",
   "metadata": {},
   "source": [
    "<div class=\"alert alert-success\" style=\"background-color: AliceBlue; border-color: CornflowerBlue \"> \n",
    "As we can see in the <b>first plot above</b>, there is a relation between the play counts of users, and the score of the recommendations offered by the model (<b>confidence</b>). If we have know more information about this user, we can recommend something better to him/her, a higher play count implies a stronger interaction with the system, thus, more information and feedback, and as a result, more confident recommendations.\n",
    "    \n",
    "In the <b>second plot</b> where we visualize the recommendation confidence as a function of the curiosity of the user. We can also see that confidence increases with increasing curiosity. Therefore, we can say that also if the user is more curious, the recommendations will be better.\n",
    "</div>"
   ]
  },
  {
   "cell_type": "markdown",
   "metadata": {
    "slideshow": {
     "slide_type": "slide"
    }
   },
   "source": [
    "## 3.5 Evaluating Recommendation Quality \n",
    "\n",
    "In this section, we study how to evaluate the quality of our model. It's hard to say how good the recommendations are.\n",
    "One of serveral methods approach to evaluate  a recommender based on its ability to rank good items (artists) high in a list of recommendations. The problem is how to define \"good artists\". Currently, by training all data, \"good artists\" is defined as \"artists the user has listened to\", and the recommender system has already received all of this information as input. It could trivially return the users previously-listened artists as top recommendations and score perfectly. Indeed, this is not useful, because the recommender's is used to recommend artists that the user has **never** listened to. \n",
    "\n",
    "To overcome that problem, we can hide the some of the artist play data and only use the rest to train model. Then, this held-out data can be interpreted as a collection of \"good\" recommendations for each user. The recommender is asked to rank all items in the model, and the rank of the held-out artists are examined. Ideally the recommender places all of them at or near the top of the list.\n",
    "\n",
    "The recommender's score can then be computed by comparing all held-out artists' ranks to the rest.  The fraction of pairs where the held-out artist is ranked higher is its score. 1.0 is perfect, 0.0 is the worst possible score, and 0.5 is the expected value achieved from randomly ranking artists. \n",
    "\n",
    "AUC(Area Under the Curve) can be used as a metric to evaluate model. It is also viewed as the probability that a randomly-chosen \"good\" artist ranks above a randomly-chosen \"bad\" artist.\n",
    "\n",
    "Next, we split the training data into 2 parts: `trainData` and `cvData` with ratio 0.9:0.1 respectively, where `trainData` is the dataset that will be used to train model. Then we write a function to calculate AUC to evaluate the quality of our model.\n"
   ]
  },
  {
   "cell_type": "markdown",
   "metadata": {},
   "source": [
    "### Question 9\n",
    "\n",
    "#### Question 9.1\n",
    "<div class=\"alert alert-info\">\n",
    "Split the data into `trainData` and `cvData` with ratio 0.9:0.1 and use the first part to train a statistic model with:\n",
    "<ul>\n",
    "<li>`rank`=10</li>\n",
    "<li>`iterations`=5</li>\n",
    "<li>`lambda_`=0.01</li>\n",
    "<li>`alpha`=1.0</li>\n",
    "</ul>\n",
    "</div>\n",
    "\n",
    "***Hint***: have a look to `train_test_split()` in `sklearn.model_selection`"
   ]
  },
  {
   "cell_type": "code",
   "execution_count": 113,
   "metadata": {
    "slideshow": {
     "slide_type": "subslide"
    }
   },
   "outputs": [
    {
     "name": "stderr",
     "output_type": "stream",
     "text": [
      "/usr/local/lib/python3.5/dist-packages/sklearn/model_selection/_split.py:2026: FutureWarning: From version 0.21, test_size will always complement train_size unless both are specified.\n",
      "  FutureWarning)\n",
      "100%|██████████| 5.0/5 [00:33<00:00,  7.44s/it]\n"
     ]
    }
   ],
   "source": [
    "from sklearn.model_selection import train_test_split\n",
    "\n",
    "# Create train/test split 0.9:0.1\n",
    "trainUserArtistDF, testUserArtistDF = train_test_split(rescaledUserArtistDF, train_size = 0.9)\n",
    "\n",
    "# Transform to sparse matrix\n",
    "train_sparse_item_user = to_sparse(trainUserArtistDF)\n",
    "train_sparse_user_item = train_sparse_item_user.T\n",
    "\n",
    "# Compute the confidence matrix\n",
    "data_conf = (train_sparse_item_user * 1.0 ).astype('double')\n",
    "\n",
    "# Create the model\n",
    "model = implicit.als.AlternatingLeastSquares(factors=10, regularization=0.01, iterations=5)\n",
    "\n",
    "# Train\n",
    "model.fit(data_conf, show_progress = True)"
   ]
  },
  {
   "cell_type": "markdown",
   "metadata": {},
   "source": [
    "#### Area under the ROC curve: a function to compute it"
   ]
  },
  {
   "cell_type": "code",
   "execution_count": 114,
   "metadata": {
    "slideshow": {
     "slide_type": "slide"
    }
   },
   "outputs": [],
   "source": [
    "from multiprocessing import Pool\n",
    "import warnings\n",
    "from sklearn.metrics import roc_auc_score\n",
    "import random\n",
    "from tqdm import tqdm\n",
    "\n",
    "\n",
    "def findNumElementsSmallerThan(arr, x, start=0):\n",
    "        left = start\n",
    "        right = len(arr) -1\n",
    "        # if x is bigger than the biggest element in arr\n",
    "        if start > right or x > arr[right]:\n",
    "            return right + 1\n",
    "        mid = -1\n",
    "        while left <= right:\n",
    "            mid = (left + right) // 2\n",
    "            if arr[mid] < x:\n",
    "                left = mid + 1\n",
    "            elif arr[mid] > x:\n",
    "                right = mid - 1\n",
    "            else:\n",
    "                while mid-1 >= start and arr[mid-1] == x:\n",
    "                    mid -= 1\n",
    "                return mid\n",
    "        return mid if arr[mid] > x else mid + 1\n",
    "\n",
    "def _compute_auc(incremental_user_id):\n",
    "    positive_products = testUserArtistDF[testUserArtistDF['incrementalUserID'] == incremental_user_id]['incrementalArtistID'].values\n",
    "    positive_ranking = model.rank_items(incremental_user_id, \n",
    "                                        train_sparse_user_item, \n",
    "                                        positive_products)\n",
    "    positive_ranking = list(map(lambda x: x[1], positive_ranking))\n",
    "    if len(positive_products) <= 1: return \n",
    "        \n",
    "    train_data_user = trainUserArtistDF[trainUserArtistDF['incrementalUserID'] == incremental_user_id]['incrementalArtistID'].values\n",
    "    \n",
    "    if len(train_data_user) < 1: return\n",
    "    negative_products = np.random.choice(train_data_user, len(positive_products))  \n",
    "    if len(negative_products) <= 1: return\n",
    "        \n",
    "    if len(negative_products) != len(positive_products): return \n",
    "    \n",
    "    negative_ranking = model.rank_items(incremental_user_id, \n",
    "                                        train_sparse_user_item, \n",
    "                                        negative_products)\n",
    "    \n",
    "    negative_ranking = list(map(lambda x: x[1], negative_ranking))\n",
    "   \n",
    "    correct = 0\n",
    "    total = len(positive_ranking)*len(negative_ranking)\n",
    "\n",
    "    for positive in positive_ranking:\n",
    "        correct += findNumElementsSmallerThan(negative_ranking, positive)\n",
    "    return float(correct) / total\n",
    "\n",
    "def compute_auc(test_users_ratio=1, parallelism=4):  \n",
    "    \"\"\"\n",
    "        Computes the AUC of a train/test split\n",
    "        Note:\n",
    "            It assumes `trainUserArtistDF`, `testUserArtistDf` and `model` to be defined \n",
    "            globally\n",
    "        Arguments:\n",
    "            test_users_ratio (float): Ratio of users to be tested (0, 1]\n",
    "    \"\"\"\n",
    "    if test_users_ratio <=0 or test_users_ratio > 1:\n",
    "        warnings.warn('Parameter test_users_ratio has to be in (0, 1]. Setting test_users_ratio=1...')\n",
    "        test_users_ratio = 1\n",
    "    \n",
    "    pool = Pool(parallelism)\n",
    "    roc_auc = []\n",
    "    list_of_users = testUserArtistDF['incrementalUserID'].unique()[::int(1/test_users_ratio)]\n",
    "    for res in tqdm(pool.imap_unordered(_compute_auc, list_of_users, 64), total=len(list_of_users)):\n",
    "        roc_auc.append(res)\n",
    "    \n",
    "    pool.close()\n",
    "    pool.join()\n",
    "\n",
    "    return np.array(list(filter(None.__ne__, roc_auc)))"
   ]
  },
  {
   "cell_type": "markdown",
   "metadata": {},
   "source": [
    "####  Question 9.2\n",
    "<div class=\"alert alert-info\">\n",
    "Using `compute_auc()`, compute the AUC of the trained model.\n",
    "</div>\n",
    "\n",
    "***Note***: `compute_auc()` is computational expensive. To test if everything works, try to first compute the AUC for a small subset of users (10%) and than move to the entire set."
   ]
  },
  {
   "cell_type": "code",
   "execution_count": 40,
   "metadata": {
    "slideshow": {
     "slide_type": "subslide"
    }
   },
   "outputs": [
    {
     "name": "stderr",
     "output_type": "stream",
     "text": [
      "100%|██████████| 134535/134535 [21:54<00:00, 102.35it/s]\n"
     ]
    },
    {
     "name": "stdout",
     "output_type": "stream",
     "text": [
      "Average AUC = 0.8677\n"
     ]
    }
   ],
   "source": [
    "roc_auc = compute_auc(test_users_ratio = 1)\n",
    "print('Average AUC = %.4f' % roc_auc.mean())"
   ]
  },
  {
   "cell_type": "markdown",
   "metadata": {
    "slideshow": {
     "slide_type": "slide"
    }
   },
   "source": [
    "#### Question 9.3 \n",
    "\n",
    "The average AUC doesn't give the full picture here. Try to plot the distribution and the cumulative distribution of the AUC for all the users. Can you comment on these plots? "
   ]
  },
  {
   "cell_type": "code",
   "execution_count": 54,
   "metadata": {
    "slideshow": {
     "slide_type": "subslide"
    }
   },
   "outputs": [
    {
     "data": {
      "image/png": "[encoded data removed]",
      "text/plain": [
       "<Figure size 864x432 with 2 Axes>"
      ]
     },
     "metadata": {},
     "output_type": "display_data"
    }
   ],
   "source": [
    "fig, (ax0, ax1) = plt.subplots(2,1)\n",
    "\n",
    "fig.set_size_inches(12,6)\n",
    "colors = {0:\"red\", 1: \"orange\", 2:\"yellow\", 3:\"darkgreen\", 4:\"cyan\"}\n",
    "\n",
    "# Plot distribution\n",
    "ax0.hist(roc_auc, bins='auto', density=True)\n",
    "\n",
    "# Plot cumulative distribution\n",
    "ax1.hist(roc_auc, bins='auto', density=True, cumulative=True)\n",
    "\n",
    "# Plot a vertical line on the average (distribution plot)\n",
    "ax0.axvline(roc_auc.mean(), label='Average AUC = %.3f' % (roc_auc.mean()*100), color = 'yellow')\n",
    "\n",
    "# Plot some percentile on the cumulative distribution\n",
    "for i, quantile in enumerate([.05, 0.25, .5, .75, .95]):\n",
    "    ax1.axvline(np.percentile(roc_auc, quantile*100), label='%.0fth perc.' % (quantile*100), color = colors[i])\n",
    "    ax1.axhline(quantile, linestyle='-')\n",
    "    \n",
    "ax0.grid(True)\n",
    "ax0.set_title('Distribution of AUC for all the users')\n",
    "ax1.set_title('Cumulative distribution of AUC for all the users')\n",
    "ax1.annotate('MEDIAN', (0.2,0.5), size = 15)     \n",
    "ax0.legend()\n",
    "ax1.legend()\n",
    "plt.show()"
   ]
  },
  {
   "cell_type": "markdown",
   "metadata": {},
   "source": [
    "<div class=\"alert alert-success\" style=\"background-color: AliceBlue; border-color: CornflowerBlue \"> \n",
    "Above, we obtain 2 plots for the the Area Under the Curve distribution for our test data. The <b>first plot</b> shows that a high number of users (aroud 58 users) in our test data actually have received a <b>100% AUC</b>. This result actually shows good potential for our recommender system as it is providing good rankings for the artist of the test data for the corresponding uers in the test data. Other values to point out for AUC are for example 50% and 67% which ranges over about 6 users. But also it is apparent values of AUC for our test data are somehow <b>skewed to the right</b> towards the higher values of AUC and this is also signified by the value of the <b>mean</b> which is <b>86.77%</b>.<br><br>\n",
    "\n",
    "In the <b>second plot</b> we can see the AUC distribution in a <b>Comulative</b> fashion. We've pointed out <b>5</b> percentiles (5%, 25%, 50%, 75%, 95%) as show in the plot above and we can extract the following observations:<br>\n",
    "* only 10% of AUC values are 50% or less.<br>\n",
    "* 25% of AUC values are 82% or less.<br>\n",
    "* 50% of AUC values are 93% or less. (<b>Median</b>).<br>\n",
    "* 75% of AUC values are at 100% or less which means that also all the following percentiles are at this AUC value or less.<br>\n",
    "Thus, also from the comulative distribution of the area under the curve for our test data, we can see that our recommender system is quite performing well as more than half the users in our test data have more than 90% pair-proportion where the ranked artists are ranking higher than the other artists in the training set.<br>\n",
    "<b> BUT CAN WE IMPROVE THE PERFORMANCE EVEN FURTHER?</b>\n",
    "</div>"
   ]
  },
  {
   "cell_type": "markdown",
   "metadata": {
    "slideshow": {
     "slide_type": "slide"
    }
   },
   "source": [
    "## 3.6 Personalized recommendations with ALS\n",
    "\n",
    "In the previous section, we build our models with some given paramters without any knowledge about them. Actually, choosing the best parameters' values is very important. It can significantly affect the quality of models. Especially, with the current implementation of ALS in MLLIB, these parameters are not learned by the algorithm, and must be chosen by the caller. The following parameters should get consideration before training models:\n",
    "\n",
    "* `rank = 10`: the number of latent factors in the model, or equivalently, the number of columns $k$ in the user-feature and product-feature matrices. In non-trivial cases, this is also their rank. \n",
    "\n",
    "* `iterations = 5`: the number of iterations that the factorization runs. Instead of runing the algorithm until RMSE converged which actually takes very long time to finish with large datasets, we only let it run in a given number of iterations. More iterations take more time but may produce a better factorization.\n",
    "\n",
    "* `lambda_ = 0.01`: a standard overfitting parameter. Higher values resist overfitting, but values that are too high hurt the factorization's accuracy.\n",
    "\n",
    "*  `alpha = 1.0`: controls the relative weight of observed versus unobserved userproduct interactions in the factorization. \n",
    "\n",
    "Although all of them have impact on the models' quality, `iterations` is more of a constraint on resources used in the factorization. So, `rank`, `lambda_` and `alpha` can be considered hyperparameters to the model. \n",
    "We will try to find \"good\" values for them. Indeed, the values of hyperparameter are not necessarily optimal. Choosing good hyperparameter values is a common problem in machine learning. The most basic way to choose values is to simply try combinations of values and evaluate a metric for each of them, and choose the combination that produces the best value of the metric. \n"
   ]
  },
  {
   "cell_type": "markdown",
   "metadata": {
    "slideshow": {
     "slide_type": "slide"
    }
   },
   "source": [
    "### Question 10\n",
    "\n",
    "#### Question 10.1\n",
    "<div class=\"alert alert-info\">\n",
    "For simplicity, assume that we want to explore the following parameter space: $ rank \\in \\{10, 50\\}$, $lambda\\_ \\in \\{1.0, 0.0001\\}$ and $alpha \\in \\{1.0, 40.0\\}$.\n",
    "\n",
    "Find the best combination of them in terms of the highest AUC value.\n",
    "</div>\n",
    "\n",
    "***Hint***: have a look to `ParameterGrid()` in `sklearn.model_selection` "
   ]
  },
  {
   "cell_type": "code",
   "execution_count": 37,
   "metadata": {
    "scrolled": true,
    "slideshow": {
     "slide_type": "subslide"
    }
   },
   "outputs": [
    {
     "name": "stdout",
     "output_type": "stream",
     "text": [
      "Combination 1\n",
      "==========================================\n",
      "Factors = 10\n",
      "Regularization = 1\n",
      "Alpha = 1\n"
     ]
    },
    {
     "name": "stderr",
     "output_type": "stream",
     "text": [
      "100%|██████████| 5.0/5 [01:08<00:00, 15.28s/it]\n",
      "100%|██████████| 13460/13460 [02:08<00:00, 104.59it/s]\n"
     ]
    },
    {
     "name": "stdout",
     "output_type": "stream",
     "text": [
      "Average AUC =  0.8679575985359057\n",
      "==========================================\n",
      "Combination 2\n",
      "==========================================\n",
      "Factors = 10\n",
      "Regularization = 0.01\n",
      "Alpha = 1\n"
     ]
    },
    {
     "name": "stderr",
     "output_type": "stream",
     "text": [
      "100%|██████████| 5.0/5 [01:06<00:00, 14.70s/it]\n",
      "100%|██████████| 13460/13460 [02:13<00:00, 101.08it/s]\n"
     ]
    },
    {
     "name": "stdout",
     "output_type": "stream",
     "text": [
      "Average AUC =  0.8675695595504007\n",
      "==========================================\n",
      "Combination 3\n",
      "==========================================\n",
      "Factors = 10\n",
      "Regularization = 0.0001\n",
      "Alpha = 1\n"
     ]
    },
    {
     "name": "stderr",
     "output_type": "stream",
     "text": [
      "100%|██████████| 5.0/5 [01:09<00:00, 15.33s/it]\n",
      "100%|██████████| 13460/13460 [02:09<00:00, 104.32it/s]\n"
     ]
    },
    {
     "name": "stdout",
     "output_type": "stream",
     "text": [
      "Average AUC =  0.8676492875697928\n",
      "==========================================\n",
      "Combination 4\n",
      "==========================================\n",
      "Factors = 25\n",
      "Regularization = 1\n",
      "Alpha = 1\n"
     ]
    },
    {
     "name": "stderr",
     "output_type": "stream",
     "text": [
      "100%|██████████| 5.0/5 [02:22<00:00, 31.85s/it]\n",
      "100%|██████████| 13460/13460 [02:13<00:00, 100.62it/s]\n"
     ]
    },
    {
     "name": "stdout",
     "output_type": "stream",
     "text": [
      "Average AUC =  0.8682167959572555\n",
      "==========================================\n",
      "Combination 5\n",
      "==========================================\n",
      "Factors = 25\n",
      "Regularization = 0.01\n",
      "Alpha = 1\n"
     ]
    },
    {
     "name": "stderr",
     "output_type": "stream",
     "text": [
      "100%|██████████| 5.0/5 [02:16<00:00, 29.93s/it]\n",
      "100%|██████████| 13460/13460 [02:13<00:00, 100.81it/s]\n"
     ]
    },
    {
     "name": "stdout",
     "output_type": "stream",
     "text": [
      "Average AUC =  0.8665391246995592\n",
      "==========================================\n",
      "Combination 6\n",
      "==========================================\n",
      "Factors = 25\n",
      "Regularization = 0.0001\n",
      "Alpha = 1\n"
     ]
    },
    {
     "name": "stderr",
     "output_type": "stream",
     "text": [
      "100%|██████████| 5.0/5 [02:22<00:00, 31.73s/it]\n",
      "100%|██████████| 13460/13460 [02:13<00:00, 100.74it/s]\n"
     ]
    },
    {
     "name": "stdout",
     "output_type": "stream",
     "text": [
      "Average AUC =  0.8700820419307032\n",
      "==========================================\n",
      "Combination 7\n",
      "==========================================\n",
      "Factors = 50\n",
      "Regularization = 1\n",
      "Alpha = 1\n"
     ]
    },
    {
     "name": "stderr",
     "output_type": "stream",
     "text": [
      "100%|██████████| 5.0/5 [03:27<00:00, 44.86s/it]\n",
      "100%|██████████| 13460/13460 [02:14<00:00, 100.27it/s]\n"
     ]
    },
    {
     "name": "stdout",
     "output_type": "stream",
     "text": [
      "Average AUC =  0.8594690601135792\n",
      "==========================================\n",
      "Combination 8\n",
      "==========================================\n",
      "Factors = 50\n",
      "Regularization = 0.01\n",
      "Alpha = 1\n"
     ]
    },
    {
     "name": "stderr",
     "output_type": "stream",
     "text": [
      "100%|██████████| 5.0/5 [03:31<00:00, 46.50s/it]\n",
      "100%|██████████| 13460/13460 [02:16<00:00, 98.61it/s] \n"
     ]
    },
    {
     "name": "stdout",
     "output_type": "stream",
     "text": [
      "Average AUC =  0.8603935501458251\n",
      "==========================================\n",
      "Combination 9\n",
      "==========================================\n",
      "Factors = 50\n",
      "Regularization = 0.0001\n",
      "Alpha = 1\n"
     ]
    },
    {
     "name": "stderr",
     "output_type": "stream",
     "text": [
      "100%|██████████| 5.0/5 [03:50<00:00, 50.36s/it]\n",
      "100%|██████████| 13460/13460 [02:17<00:00, 97.67it/s] \n"
     ]
    },
    {
     "name": "stdout",
     "output_type": "stream",
     "text": [
      "Average AUC =  0.8613427420547696\n",
      "==========================================\n",
      "Combination 10\n",
      "==========================================\n",
      "Factors = 10\n",
      "Regularization = 1\n",
      "Alpha = 15\n"
     ]
    },
    {
     "name": "stderr",
     "output_type": "stream",
     "text": [
      "100%|██████████| 5.0/5 [01:07<00:00, 14.83s/it]\n",
      "100%|██████████| 13460/13460 [02:04<00:00, 107.83it/s]\n"
     ]
    },
    {
     "name": "stdout",
     "output_type": "stream",
     "text": [
      "Average AUC =  0.8670100017144682\n",
      "==========================================\n",
      "Combination 11\n",
      "==========================================\n",
      "Factors = 10\n",
      "Regularization = 0.01\n",
      "Alpha = 15\n"
     ]
    },
    {
     "name": "stderr",
     "output_type": "stream",
     "text": [
      "100%|██████████| 5.0/5 [01:09<00:00, 15.05s/it]\n",
      "100%|██████████| 13460/13460 [02:07<00:00, 105.55it/s]\n"
     ]
    },
    {
     "name": "stdout",
     "output_type": "stream",
     "text": [
      "Average AUC =  0.8660394282536671\n",
      "==========================================\n",
      "Combination 12\n",
      "==========================================\n",
      "Factors = 10\n",
      "Regularization = 0.0001\n",
      "Alpha = 15\n"
     ]
    },
    {
     "name": "stderr",
     "output_type": "stream",
     "text": [
      "100%|██████████| 5.0/5 [01:08<00:00, 15.28s/it]\n",
      "100%|██████████| 13460/13460 [02:13<00:00, 100.98it/s]\n"
     ]
    },
    {
     "name": "stdout",
     "output_type": "stream",
     "text": [
      "Average AUC =  0.8651136206186315\n",
      "==========================================\n",
      "Combination 13\n",
      "==========================================\n",
      "Factors = 25\n",
      "Regularization = 1\n",
      "Alpha = 15\n"
     ]
    },
    {
     "name": "stderr",
     "output_type": "stream",
     "text": [
      "100%|██████████| 5.0/5 [02:27<00:00, 32.22s/it]\n",
      "100%|██████████| 13460/13460 [02:13<00:00, 100.47it/s]\n"
     ]
    },
    {
     "name": "stdout",
     "output_type": "stream",
     "text": [
      "Average AUC =  0.8591587643592021\n",
      "==========================================\n",
      "Combination 14\n",
      "==========================================\n",
      "Factors = 25\n",
      "Regularization = 0.01\n",
      "Alpha = 15\n"
     ]
    },
    {
     "name": "stderr",
     "output_type": "stream",
     "text": [
      "100%|██████████| 5.0/5 [02:25<00:00, 32.27s/it]\n",
      "100%|██████████| 13460/13460 [02:09<00:00, 103.61it/s]\n"
     ]
    },
    {
     "name": "stdout",
     "output_type": "stream",
     "text": [
      "Average AUC =  0.8614165440549005\n",
      "==========================================\n",
      "Combination 15\n",
      "==========================================\n",
      "Factors = 25\n",
      "Regularization = 0.0001\n",
      "Alpha = 15\n"
     ]
    },
    {
     "name": "stderr",
     "output_type": "stream",
     "text": [
      "100%|██████████| 5.0/5 [02:25<00:00, 31.81s/it]\n",
      "100%|██████████| 13460/13460 [02:13<00:00, 100.72it/s]\n"
     ]
    },
    {
     "name": "stdout",
     "output_type": "stream",
     "text": [
      "Average AUC =  0.8589305193053804\n",
      "==========================================\n",
      "Combination 16\n",
      "==========================================\n",
      "Factors = 50\n",
      "Regularization = 1\n",
      "Alpha = 15\n"
     ]
    },
    {
     "name": "stderr",
     "output_type": "stream",
     "text": [
      "100%|██████████| 5.0/5 [03:43<00:00, 48.28s/it]\n",
      "100%|██████████| 13460/13460 [02:14<00:00, 100.24it/s]\n"
     ]
    },
    {
     "name": "stdout",
     "output_type": "stream",
     "text": [
      "Average AUC =  0.8494841810372491\n",
      "==========================================\n",
      "Combination 17\n",
      "==========================================\n",
      "Factors = 50\n",
      "Regularization = 0.01\n",
      "Alpha = 15\n"
     ]
    },
    {
     "name": "stderr",
     "output_type": "stream",
     "text": [
      "100%|██████████| 5.0/5 [03:41<00:00, 48.62s/it]\n",
      "100%|██████████| 13460/13460 [02:16<00:00, 98.54it/s] \n"
     ]
    },
    {
     "name": "stdout",
     "output_type": "stream",
     "text": [
      "Average AUC =  0.8482920178801152\n",
      "==========================================\n",
      "Combination 18\n",
      "==========================================\n",
      "Factors = 50\n",
      "Regularization = 0.0001\n",
      "Alpha = 15\n"
     ]
    },
    {
     "name": "stderr",
     "output_type": "stream",
     "text": [
      "100%|██████████| 5.0/5 [03:43<00:00, 49.13s/it]\n",
      "100%|██████████| 13460/13460 [02:13<00:00, 100.55it/s]\n"
     ]
    },
    {
     "name": "stdout",
     "output_type": "stream",
     "text": [
      "Average AUC =  0.8459094452272459\n",
      "==========================================\n",
      "Combination 19\n",
      "==========================================\n",
      "Factors = 10\n",
      "Regularization = 1\n",
      "Alpha = 30\n"
     ]
    },
    {
     "name": "stderr",
     "output_type": "stream",
     "text": [
      "100%|██████████| 5.0/5 [01:07<00:00, 14.93s/it]\n",
      "100%|██████████| 13460/13460 [02:10<00:00, 103.00it/s]\n"
     ]
    },
    {
     "name": "stdout",
     "output_type": "stream",
     "text": [
      "Average AUC =  0.8635626771941356\n",
      "==========================================\n",
      "Combination 20\n",
      "==========================================\n",
      "Factors = 10\n",
      "Regularization = 0.01\n",
      "Alpha = 30\n"
     ]
    },
    {
     "name": "stderr",
     "output_type": "stream",
     "text": [
      "100%|██████████| 5.0/5 [01:09<00:00, 15.18s/it]\n",
      "100%|██████████| 13460/13460 [02:13<00:00, 101.02it/s]\n"
     ]
    },
    {
     "name": "stdout",
     "output_type": "stream",
     "text": [
      "Average AUC =  0.8650352261288408\n",
      "==========================================\n",
      "Combination 21\n",
      "==========================================\n",
      "Factors = 10\n",
      "Regularization = 0.0001\n",
      "Alpha = 30\n"
     ]
    },
    {
     "name": "stderr",
     "output_type": "stream",
     "text": [
      "100%|██████████| 5.0/5 [01:09<00:00, 15.08s/it]\n",
      "100%|██████████| 13460/13460 [02:11<00:00, 102.71it/s]\n"
     ]
    },
    {
     "name": "stdout",
     "output_type": "stream",
     "text": [
      "Average AUC =  0.864138731558585\n",
      "==========================================\n",
      "Combination 22\n",
      "==========================================\n",
      "Factors = 25\n",
      "Regularization = 1\n",
      "Alpha = 30\n"
     ]
    },
    {
     "name": "stderr",
     "output_type": "stream",
     "text": [
      "100%|██████████| 5.0/5 [02:26<00:00, 32.43s/it]\n",
      "100%|██████████| 13460/13460 [02:16<00:00, 98.53it/s] \n"
     ]
    },
    {
     "name": "stdout",
     "output_type": "stream",
     "text": [
      "Average AUC =  0.8558336201581241\n",
      "==========================================\n",
      "Combination 23\n",
      "==========================================\n",
      "Factors = 25\n",
      "Regularization = 0.01\n",
      "Alpha = 30\n"
     ]
    },
    {
     "name": "stderr",
     "output_type": "stream",
     "text": [
      "100%|██████████| 5.0/5 [02:27<00:00, 32.13s/it]\n",
      "100%|██████████| 13460/13460 [02:06<00:00, 106.39it/s]\n"
     ]
    },
    {
     "name": "stdout",
     "output_type": "stream",
     "text": [
      "Average AUC =  0.8565223269989986\n",
      "==========================================\n",
      "Combination 24\n",
      "==========================================\n",
      "Factors = 25\n",
      "Regularization = 0.0001\n",
      "Alpha = 30\n"
     ]
    },
    {
     "name": "stderr",
     "output_type": "stream",
     "text": [
      "100%|██████████| 5.0/5 [02:28<00:00, 32.89s/it]\n",
      "100%|██████████| 13460/13460 [02:14<00:00, 100.04it/s]\n"
     ]
    },
    {
     "name": "stdout",
     "output_type": "stream",
     "text": [
      "Average AUC =  0.8562263225637959\n",
      "==========================================\n",
      "Combination 25\n",
      "==========================================\n",
      "Factors = 50\n",
      "Regularization = 1\n",
      "Alpha = 30\n"
     ]
    },
    {
     "name": "stderr",
     "output_type": "stream",
     "text": [
      "100%|██████████| 5.0/5 [03:46<00:00, 49.26s/it]\n",
      "100%|██████████| 13460/13460 [02:13<00:00, 100.50it/s]\n"
     ]
    },
    {
     "name": "stdout",
     "output_type": "stream",
     "text": [
      "Average AUC =  0.8454478508300567\n",
      "==========================================\n",
      "Combination 26\n",
      "==========================================\n",
      "Factors = 50\n",
      "Regularization = 0.01\n",
      "Alpha = 30\n"
     ]
    },
    {
     "name": "stderr",
     "output_type": "stream",
     "text": [
      "100%|██████████| 5.0/5 [03:30<00:00, 47.70s/it]\n",
      "100%|██████████| 13460/13460 [02:12<00:00, 101.33it/s]\n"
     ]
    },
    {
     "name": "stdout",
     "output_type": "stream",
     "text": [
      "Average AUC =  0.8445484662988277\n",
      "==========================================\n",
      "Combination 27\n",
      "==========================================\n",
      "Factors = 50\n",
      "Regularization = 0.0001\n",
      "Alpha = 30\n"
     ]
    },
    {
     "name": "stderr",
     "output_type": "stream",
     "text": [
      "100%|██████████| 5.0/5 [03:25<00:00, 45.49s/it]\n",
      "100%|██████████| 13460/13460 [02:14<00:00, 99.87it/s] \n"
     ]
    },
    {
     "name": "stdout",
     "output_type": "stream",
     "text": [
      "Average AUC =  0.846365914172028\n",
      "==========================================\n",
      "Combination 28\n",
      "==========================================\n",
      "Factors = 10\n",
      "Regularization = 1\n",
      "Alpha = 40\n"
     ]
    },
    {
     "name": "stderr",
     "output_type": "stream",
     "text": [
      "100%|██████████| 5.0/5 [01:09<00:00, 15.46s/it]\n",
      "100%|██████████| 13460/13460 [02:12<00:00, 101.88it/s]\n"
     ]
    },
    {
     "name": "stdout",
     "output_type": "stream",
     "text": [
      "Average AUC =  0.8647323884567009\n",
      "==========================================\n",
      "Combination 29\n",
      "==========================================\n",
      "Factors = 10\n",
      "Regularization = 0.01\n",
      "Alpha = 40\n"
     ]
    },
    {
     "name": "stderr",
     "output_type": "stream",
     "text": [
      "100%|██████████| 5.0/5 [01:08<00:00, 15.03s/it]\n",
      "100%|██████████| 13460/13460 [02:10<00:00, 102.93it/s]\n"
     ]
    },
    {
     "name": "stdout",
     "output_type": "stream",
     "text": [
      "Average AUC =  0.8638726688495644\n",
      "==========================================\n",
      "Combination 30\n",
      "==========================================\n",
      "Factors = 10\n",
      "Regularization = 0.0001\n",
      "Alpha = 40\n"
     ]
    },
    {
     "name": "stderr",
     "output_type": "stream",
     "text": [
      "100%|██████████| 5.0/5 [01:08<00:00, 14.69s/it]\n",
      "100%|██████████| 13460/13460 [01:56<00:00, 115.55it/s]\n"
     ]
    },
    {
     "name": "stdout",
     "output_type": "stream",
     "text": [
      "Average AUC =  0.8653938523497438\n",
      "==========================================\n",
      "Combination 31\n",
      "==========================================\n",
      "Factors = 25\n",
      "Regularization = 1\n",
      "Alpha = 40\n"
     ]
    },
    {
     "name": "stderr",
     "output_type": "stream",
     "text": [
      "100%|██████████| 5.0/5 [02:30<00:00, 32.28s/it]\n",
      "100%|██████████| 13460/13460 [02:12<00:00, 101.33it/s]\n"
     ]
    },
    {
     "name": "stdout",
     "output_type": "stream",
     "text": [
      "Average AUC =  0.854681478686493\n",
      "==========================================\n",
      "Combination 32\n",
      "==========================================\n",
      "Factors = 25\n",
      "Regularization = 0.01\n",
      "Alpha = 40\n"
     ]
    },
    {
     "name": "stderr",
     "output_type": "stream",
     "text": [
      "100%|██████████| 5.0/5 [02:26<00:00, 32.14s/it]\n",
      "100%|██████████| 13460/13460 [02:14<00:00, 100.01it/s]\n"
     ]
    },
    {
     "name": "stdout",
     "output_type": "stream",
     "text": [
      "Average AUC =  0.8543539364788071\n",
      "==========================================\n",
      "Combination 33\n",
      "==========================================\n",
      "Factors = 25\n",
      "Regularization = 0.0001\n",
      "Alpha = 40\n"
     ]
    },
    {
     "name": "stderr",
     "output_type": "stream",
     "text": [
      "100%|██████████| 5.0/5 [02:28<00:00, 33.06s/it]\n",
      "100%|██████████| 13460/13460 [02:12<00:00, 101.65it/s]\n"
     ]
    },
    {
     "name": "stdout",
     "output_type": "stream",
     "text": [
      "Average AUC =  0.8555122540772739\n",
      "==========================================\n",
      "Combination 34\n",
      "==========================================\n",
      "Factors = 50\n",
      "Regularization = 1\n",
      "Alpha = 40\n"
     ]
    },
    {
     "name": "stderr",
     "output_type": "stream",
     "text": [
      "100%|██████████| 5.0/5 [03:37<00:00, 46.92s/it]\n",
      "100%|██████████| 13460/13460 [02:15<00:00, 99.37it/s] \n"
     ]
    },
    {
     "name": "stdout",
     "output_type": "stream",
     "text": [
      "Average AUC =  0.8436847699365719\n",
      "==========================================\n",
      "Combination 35\n",
      "==========================================\n",
      "Factors = 50\n",
      "Regularization = 0.01\n",
      "Alpha = 40\n"
     ]
    },
    {
     "name": "stderr",
     "output_type": "stream",
     "text": [
      "100%|██████████| 5.0/5 [03:30<00:00, 47.32s/it]\n",
      "100%|██████████| 13460/13460 [02:13<00:00, 100.98it/s]\n"
     ]
    },
    {
     "name": "stdout",
     "output_type": "stream",
     "text": [
      "Average AUC =  0.844001177659708\n",
      "==========================================\n",
      "Combination 36\n",
      "==========================================\n",
      "Factors = 50\n",
      "Regularization = 0.0001\n",
      "Alpha = 40\n"
     ]
    },
    {
     "name": "stderr",
     "output_type": "stream",
     "text": [
      "100%|██████████| 5.0/5 [03:27<00:00, 44.67s/it]\n",
      "100%|██████████| 13460/13460 [02:18<00:00, 97.33it/s] "
     ]
    },
    {
     "name": "stdout",
     "output_type": "stream",
     "text": [
      "Average AUC =  0.8432389334531324\n",
      "==========================================\n"
     ]
    },
    {
     "name": "stderr",
     "output_type": "stream",
     "text": [
      "\n"
     ]
    },
    {
     "data": {
      "text/html": [
       "<div>\n",
       "<style scoped>\n",
       "    .dataframe tbody tr th:only-of-type {\n",
       "        vertical-align: middle;\n",
       "    }\n",
       "\n",
       "    .dataframe tbody tr th {\n",
       "        vertical-align: top;\n",
       "    }\n",
       "\n",
       "    .dataframe thead th {\n",
       "        text-align: right;\n",
       "    }\n",
       "</style>\n",
       "<table border=\"1\" class=\"dataframe\">\n",
       "  <thead>\n",
       "    <tr style=\"text-align: right;\">\n",
       "      <th></th>\n",
       "      <th>factors</th>\n",
       "      <th>regularization</th>\n",
       "      <th>alpha</th>\n",
       "      <th>auc</th>\n",
       "    </tr>\n",
       "  </thead>\n",
       "  <tbody>\n",
       "    <tr>\n",
       "      <th>5</th>\n",
       "      <td>25.0</td>\n",
       "      <td>0.0001</td>\n",
       "      <td>1.0</td>\n",
       "      <td>0.870082</td>\n",
       "    </tr>\n",
       "    <tr>\n",
       "      <th>3</th>\n",
       "      <td>25.0</td>\n",
       "      <td>1.0000</td>\n",
       "      <td>1.0</td>\n",
       "      <td>0.868217</td>\n",
       "    </tr>\n",
       "    <tr>\n",
       "      <th>0</th>\n",
       "      <td>10.0</td>\n",
       "      <td>1.0000</td>\n",
       "      <td>1.0</td>\n",
       "      <td>0.867958</td>\n",
       "    </tr>\n",
       "    <tr>\n",
       "      <th>2</th>\n",
       "      <td>10.0</td>\n",
       "      <td>0.0001</td>\n",
       "      <td>1.0</td>\n",
       "      <td>0.867649</td>\n",
       "    </tr>\n",
       "    <tr>\n",
       "      <th>1</th>\n",
       "      <td>10.0</td>\n",
       "      <td>0.0100</td>\n",
       "      <td>1.0</td>\n",
       "      <td>0.867570</td>\n",
       "    </tr>\n",
       "    <tr>\n",
       "      <th>9</th>\n",
       "      <td>10.0</td>\n",
       "      <td>1.0000</td>\n",
       "      <td>15.0</td>\n",
       "      <td>0.867010</td>\n",
       "    </tr>\n",
       "    <tr>\n",
       "      <th>4</th>\n",
       "      <td>25.0</td>\n",
       "      <td>0.0100</td>\n",
       "      <td>1.0</td>\n",
       "      <td>0.866539</td>\n",
       "    </tr>\n",
       "    <tr>\n",
       "      <th>10</th>\n",
       "      <td>10.0</td>\n",
       "      <td>0.0100</td>\n",
       "      <td>15.0</td>\n",
       "      <td>0.866039</td>\n",
       "    </tr>\n",
       "    <tr>\n",
       "      <th>29</th>\n",
       "      <td>10.0</td>\n",
       "      <td>0.0001</td>\n",
       "      <td>40.0</td>\n",
       "      <td>0.865394</td>\n",
       "    </tr>\n",
       "    <tr>\n",
       "      <th>11</th>\n",
       "      <td>10.0</td>\n",
       "      <td>0.0001</td>\n",
       "      <td>15.0</td>\n",
       "      <td>0.865114</td>\n",
       "    </tr>\n",
       "    <tr>\n",
       "      <th>19</th>\n",
       "      <td>10.0</td>\n",
       "      <td>0.0100</td>\n",
       "      <td>30.0</td>\n",
       "      <td>0.865035</td>\n",
       "    </tr>\n",
       "    <tr>\n",
       "      <th>27</th>\n",
       "      <td>10.0</td>\n",
       "      <td>1.0000</td>\n",
       "      <td>40.0</td>\n",
       "      <td>0.864732</td>\n",
       "    </tr>\n",
       "    <tr>\n",
       "      <th>20</th>\n",
       "      <td>10.0</td>\n",
       "      <td>0.0001</td>\n",
       "      <td>30.0</td>\n",
       "      <td>0.864139</td>\n",
       "    </tr>\n",
       "    <tr>\n",
       "      <th>28</th>\n",
       "      <td>10.0</td>\n",
       "      <td>0.0100</td>\n",
       "      <td>40.0</td>\n",
       "      <td>0.863873</td>\n",
       "    </tr>\n",
       "    <tr>\n",
       "      <th>18</th>\n",
       "      <td>10.0</td>\n",
       "      <td>1.0000</td>\n",
       "      <td>30.0</td>\n",
       "      <td>0.863563</td>\n",
       "    </tr>\n",
       "    <tr>\n",
       "      <th>13</th>\n",
       "      <td>25.0</td>\n",
       "      <td>0.0100</td>\n",
       "      <td>15.0</td>\n",
       "      <td>0.861417</td>\n",
       "    </tr>\n",
       "    <tr>\n",
       "      <th>8</th>\n",
       "      <td>50.0</td>\n",
       "      <td>0.0001</td>\n",
       "      <td>1.0</td>\n",
       "      <td>0.861343</td>\n",
       "    </tr>\n",
       "    <tr>\n",
       "      <th>7</th>\n",
       "      <td>50.0</td>\n",
       "      <td>0.0100</td>\n",
       "      <td>1.0</td>\n",
       "      <td>0.860394</td>\n",
       "    </tr>\n",
       "    <tr>\n",
       "      <th>6</th>\n",
       "      <td>50.0</td>\n",
       "      <td>1.0000</td>\n",
       "      <td>1.0</td>\n",
       "      <td>0.859469</td>\n",
       "    </tr>\n",
       "    <tr>\n",
       "      <th>12</th>\n",
       "      <td>25.0</td>\n",
       "      <td>1.0000</td>\n",
       "      <td>15.0</td>\n",
       "      <td>0.859159</td>\n",
       "    </tr>\n",
       "    <tr>\n",
       "      <th>14</th>\n",
       "      <td>25.0</td>\n",
       "      <td>0.0001</td>\n",
       "      <td>15.0</td>\n",
       "      <td>0.858931</td>\n",
       "    </tr>\n",
       "    <tr>\n",
       "      <th>22</th>\n",
       "      <td>25.0</td>\n",
       "      <td>0.0100</td>\n",
       "      <td>30.0</td>\n",
       "      <td>0.856522</td>\n",
       "    </tr>\n",
       "    <tr>\n",
       "      <th>23</th>\n",
       "      <td>25.0</td>\n",
       "      <td>0.0001</td>\n",
       "      <td>30.0</td>\n",
       "      <td>0.856226</td>\n",
       "    </tr>\n",
       "    <tr>\n",
       "      <th>21</th>\n",
       "      <td>25.0</td>\n",
       "      <td>1.0000</td>\n",
       "      <td>30.0</td>\n",
       "      <td>0.855834</td>\n",
       "    </tr>\n",
       "    <tr>\n",
       "      <th>32</th>\n",
       "      <td>25.0</td>\n",
       "      <td>0.0001</td>\n",
       "      <td>40.0</td>\n",
       "      <td>0.855512</td>\n",
       "    </tr>\n",
       "    <tr>\n",
       "      <th>30</th>\n",
       "      <td>25.0</td>\n",
       "      <td>1.0000</td>\n",
       "      <td>40.0</td>\n",
       "      <td>0.854681</td>\n",
       "    </tr>\n",
       "    <tr>\n",
       "      <th>31</th>\n",
       "      <td>25.0</td>\n",
       "      <td>0.0100</td>\n",
       "      <td>40.0</td>\n",
       "      <td>0.854354</td>\n",
       "    </tr>\n",
       "    <tr>\n",
       "      <th>15</th>\n",
       "      <td>50.0</td>\n",
       "      <td>1.0000</td>\n",
       "      <td>15.0</td>\n",
       "      <td>0.849484</td>\n",
       "    </tr>\n",
       "    <tr>\n",
       "      <th>16</th>\n",
       "      <td>50.0</td>\n",
       "      <td>0.0100</td>\n",
       "      <td>15.0</td>\n",
       "      <td>0.848292</td>\n",
       "    </tr>\n",
       "    <tr>\n",
       "      <th>26</th>\n",
       "      <td>50.0</td>\n",
       "      <td>0.0001</td>\n",
       "      <td>30.0</td>\n",
       "      <td>0.846366</td>\n",
       "    </tr>\n",
       "    <tr>\n",
       "      <th>17</th>\n",
       "      <td>50.0</td>\n",
       "      <td>0.0001</td>\n",
       "      <td>15.0</td>\n",
       "      <td>0.845909</td>\n",
       "    </tr>\n",
       "    <tr>\n",
       "      <th>24</th>\n",
       "      <td>50.0</td>\n",
       "      <td>1.0000</td>\n",
       "      <td>30.0</td>\n",
       "      <td>0.845448</td>\n",
       "    </tr>\n",
       "    <tr>\n",
       "      <th>25</th>\n",
       "      <td>50.0</td>\n",
       "      <td>0.0100</td>\n",
       "      <td>30.0</td>\n",
       "      <td>0.844548</td>\n",
       "    </tr>\n",
       "    <tr>\n",
       "      <th>34</th>\n",
       "      <td>50.0</td>\n",
       "      <td>0.0100</td>\n",
       "      <td>40.0</td>\n",
       "      <td>0.844001</td>\n",
       "    </tr>\n",
       "    <tr>\n",
       "      <th>33</th>\n",
       "      <td>50.0</td>\n",
       "      <td>1.0000</td>\n",
       "      <td>40.0</td>\n",
       "      <td>0.843685</td>\n",
       "    </tr>\n",
       "    <tr>\n",
       "      <th>35</th>\n",
       "      <td>50.0</td>\n",
       "      <td>0.0001</td>\n",
       "      <td>40.0</td>\n",
       "      <td>0.843239</td>\n",
       "    </tr>\n",
       "  </tbody>\n",
       "</table>\n",
       "</div>"
      ],
      "text/plain": [
       "    factors  regularization  alpha       auc\n",
       "5      25.0          0.0001    1.0  0.870082\n",
       "3      25.0          1.0000    1.0  0.868217\n",
       "0      10.0          1.0000    1.0  0.867958\n",
       "2      10.0          0.0001    1.0  0.867649\n",
       "1      10.0          0.0100    1.0  0.867570\n",
       "9      10.0          1.0000   15.0  0.867010\n",
       "4      25.0          0.0100    1.0  0.866539\n",
       "10     10.0          0.0100   15.0  0.866039\n",
       "29     10.0          0.0001   40.0  0.865394\n",
       "11     10.0          0.0001   15.0  0.865114\n",
       "19     10.0          0.0100   30.0  0.865035\n",
       "27     10.0          1.0000   40.0  0.864732\n",
       "20     10.0          0.0001   30.0  0.864139\n",
       "28     10.0          0.0100   40.0  0.863873\n",
       "18     10.0          1.0000   30.0  0.863563\n",
       "13     25.0          0.0100   15.0  0.861417\n",
       "8      50.0          0.0001    1.0  0.861343\n",
       "7      50.0          0.0100    1.0  0.860394\n",
       "6      50.0          1.0000    1.0  0.859469\n",
       "12     25.0          1.0000   15.0  0.859159\n",
       "14     25.0          0.0001   15.0  0.858931\n",
       "22     25.0          0.0100   30.0  0.856522\n",
       "23     25.0          0.0001   30.0  0.856226\n",
       "21     25.0          1.0000   30.0  0.855834\n",
       "32     25.0          0.0001   40.0  0.855512\n",
       "30     25.0          1.0000   40.0  0.854681\n",
       "31     25.0          0.0100   40.0  0.854354\n",
       "15     50.0          1.0000   15.0  0.849484\n",
       "16     50.0          0.0100   15.0  0.848292\n",
       "26     50.0          0.0001   30.0  0.846366\n",
       "17     50.0          0.0001   15.0  0.845909\n",
       "24     50.0          1.0000   30.0  0.845448\n",
       "25     50.0          0.0100   30.0  0.844548\n",
       "34     50.0          0.0100   40.0  0.844001\n",
       "33     50.0          1.0000   40.0  0.843685\n",
       "35     50.0          0.0001   40.0  0.843239"
      ]
     },
     "execution_count": 37,
     "metadata": {},
     "output_type": "execute_result"
    }
   ],
   "source": [
    "from sklearn.model_selection import ParameterGrid\n",
    "\n",
    "# Define the hyperparameters\n",
    "hyperparameters = {\n",
    "    'factors': [10, 25, 50], \n",
    "    'regularization' : [1, 0.01,0.0001], \n",
    "    'alpha' : [1, 15, 30, 40]}\n",
    "\n",
    "# Compute all combinations\n",
    "parameter_grid = list(ParameterGrid(hyperparameters))\n",
    "\n",
    "# Just a table to save the results\n",
    "resultsDF = pd.DataFrame(columns=['factors', 'regularization', 'alpha', 'auc'])\n",
    "\n",
    "iter = 1\n",
    "\n",
    "for parameter_combination in parameter_grid:    \n",
    "    print(\"Combination\", iter)\n",
    "    print(\"==========================================\")\n",
    "    iter += 1\n",
    "    print(\"Factors =\",parameter_combination['factors'])\n",
    "    print(\"Regularization =\",parameter_combination['regularization'])\n",
    "    print(\"Alpha =\",parameter_combination['alpha'])\n",
    "\n",
    "    # Create the model\n",
    "    model = implicit.als.AlternatingLeastSquares(factors=parameter_combination['factors'], regularization=parameter_combination['regularization'], iterations=5)\n",
    "\n",
    "    # Apply alpha to the item_user matrix\n",
    "    train_data_conf = (train_sparse_item_user * parameter_combination['alpha'] ).astype('double')\n",
    "\n",
    "    # Fit the model\n",
    "    model.fit(train_data_conf)\n",
    "    \n",
    "    # Compute AUC distribution\n",
    "    # 10% ratio was used because the calculation of auc for 100% of test users takes more than 20 mins \n",
    "    auc = compute_auc(test_users_ratio = 0.1)\n",
    "    \n",
    "    parameter_combination['auc'] = auc.mean()\n",
    "    \n",
    "    resultsDF = resultsDF.append(parameter_combination, ignore_index=True)\n",
    "    \n",
    "    print(\"Average AUC = \", parameter_combination['auc'])\n",
    "    print(\"==========================================\")\n",
    "    \n",
    "resultsDF.sort_values('auc', ascending = False)"
   ]
  },
  {
   "cell_type": "code",
   "execution_count": 39,
   "metadata": {
    "scrolled": true
   },
   "outputs": [
    {
     "data": {
      "text/html": [
       "<div>\n",
       "<style scoped>\n",
       "    .dataframe tbody tr th:only-of-type {\n",
       "        vertical-align: middle;\n",
       "    }\n",
       "\n",
       "    .dataframe tbody tr th {\n",
       "        vertical-align: top;\n",
       "    }\n",
       "\n",
       "    .dataframe thead th {\n",
       "        text-align: right;\n",
       "    }\n",
       "</style>\n",
       "<table border=\"1\" class=\"dataframe\">\n",
       "  <thead>\n",
       "    <tr style=\"text-align: right;\">\n",
       "      <th></th>\n",
       "      <th>factors</th>\n",
       "      <th>regularization</th>\n",
       "      <th>alpha</th>\n",
       "      <th>auc</th>\n",
       "    </tr>\n",
       "  </thead>\n",
       "  <tbody>\n",
       "    <tr>\n",
       "      <th>5</th>\n",
       "      <td>25.0</td>\n",
       "      <td>0.0001</td>\n",
       "      <td>1.0</td>\n",
       "      <td>0.870082</td>\n",
       "    </tr>\n",
       "    <tr>\n",
       "      <th>3</th>\n",
       "      <td>25.0</td>\n",
       "      <td>1.0000</td>\n",
       "      <td>1.0</td>\n",
       "      <td>0.868217</td>\n",
       "    </tr>\n",
       "    <tr>\n",
       "      <th>0</th>\n",
       "      <td>10.0</td>\n",
       "      <td>1.0000</td>\n",
       "      <td>1.0</td>\n",
       "      <td>0.867958</td>\n",
       "    </tr>\n",
       "    <tr>\n",
       "      <th>2</th>\n",
       "      <td>10.0</td>\n",
       "      <td>0.0001</td>\n",
       "      <td>1.0</td>\n",
       "      <td>0.867649</td>\n",
       "    </tr>\n",
       "    <tr>\n",
       "      <th>1</th>\n",
       "      <td>10.0</td>\n",
       "      <td>0.0100</td>\n",
       "      <td>1.0</td>\n",
       "      <td>0.867570</td>\n",
       "    </tr>\n",
       "    <tr>\n",
       "      <th>9</th>\n",
       "      <td>10.0</td>\n",
       "      <td>1.0000</td>\n",
       "      <td>15.0</td>\n",
       "      <td>0.867010</td>\n",
       "    </tr>\n",
       "    <tr>\n",
       "      <th>4</th>\n",
       "      <td>25.0</td>\n",
       "      <td>0.0100</td>\n",
       "      <td>1.0</td>\n",
       "      <td>0.866539</td>\n",
       "    </tr>\n",
       "    <tr>\n",
       "      <th>10</th>\n",
       "      <td>10.0</td>\n",
       "      <td>0.0100</td>\n",
       "      <td>15.0</td>\n",
       "      <td>0.866039</td>\n",
       "    </tr>\n",
       "    <tr>\n",
       "      <th>29</th>\n",
       "      <td>10.0</td>\n",
       "      <td>0.0001</td>\n",
       "      <td>40.0</td>\n",
       "      <td>0.865394</td>\n",
       "    </tr>\n",
       "    <tr>\n",
       "      <th>11</th>\n",
       "      <td>10.0</td>\n",
       "      <td>0.0001</td>\n",
       "      <td>15.0</td>\n",
       "      <td>0.865114</td>\n",
       "    </tr>\n",
       "    <tr>\n",
       "      <th>19</th>\n",
       "      <td>10.0</td>\n",
       "      <td>0.0100</td>\n",
       "      <td>30.0</td>\n",
       "      <td>0.865035</td>\n",
       "    </tr>\n",
       "    <tr>\n",
       "      <th>27</th>\n",
       "      <td>10.0</td>\n",
       "      <td>1.0000</td>\n",
       "      <td>40.0</td>\n",
       "      <td>0.864732</td>\n",
       "    </tr>\n",
       "    <tr>\n",
       "      <th>20</th>\n",
       "      <td>10.0</td>\n",
       "      <td>0.0001</td>\n",
       "      <td>30.0</td>\n",
       "      <td>0.864139</td>\n",
       "    </tr>\n",
       "    <tr>\n",
       "      <th>28</th>\n",
       "      <td>10.0</td>\n",
       "      <td>0.0100</td>\n",
       "      <td>40.0</td>\n",
       "      <td>0.863873</td>\n",
       "    </tr>\n",
       "    <tr>\n",
       "      <th>18</th>\n",
       "      <td>10.0</td>\n",
       "      <td>1.0000</td>\n",
       "      <td>30.0</td>\n",
       "      <td>0.863563</td>\n",
       "    </tr>\n",
       "    <tr>\n",
       "      <th>13</th>\n",
       "      <td>25.0</td>\n",
       "      <td>0.0100</td>\n",
       "      <td>15.0</td>\n",
       "      <td>0.861417</td>\n",
       "    </tr>\n",
       "    <tr>\n",
       "      <th>8</th>\n",
       "      <td>50.0</td>\n",
       "      <td>0.0001</td>\n",
       "      <td>1.0</td>\n",
       "      <td>0.861343</td>\n",
       "    </tr>\n",
       "    <tr>\n",
       "      <th>7</th>\n",
       "      <td>50.0</td>\n",
       "      <td>0.0100</td>\n",
       "      <td>1.0</td>\n",
       "      <td>0.860394</td>\n",
       "    </tr>\n",
       "    <tr>\n",
       "      <th>6</th>\n",
       "      <td>50.0</td>\n",
       "      <td>1.0000</td>\n",
       "      <td>1.0</td>\n",
       "      <td>0.859469</td>\n",
       "    </tr>\n",
       "    <tr>\n",
       "      <th>12</th>\n",
       "      <td>25.0</td>\n",
       "      <td>1.0000</td>\n",
       "      <td>15.0</td>\n",
       "      <td>0.859159</td>\n",
       "    </tr>\n",
       "    <tr>\n",
       "      <th>14</th>\n",
       "      <td>25.0</td>\n",
       "      <td>0.0001</td>\n",
       "      <td>15.0</td>\n",
       "      <td>0.858931</td>\n",
       "    </tr>\n",
       "    <tr>\n",
       "      <th>22</th>\n",
       "      <td>25.0</td>\n",
       "      <td>0.0100</td>\n",
       "      <td>30.0</td>\n",
       "      <td>0.856522</td>\n",
       "    </tr>\n",
       "    <tr>\n",
       "      <th>23</th>\n",
       "      <td>25.0</td>\n",
       "      <td>0.0001</td>\n",
       "      <td>30.0</td>\n",
       "      <td>0.856226</td>\n",
       "    </tr>\n",
       "    <tr>\n",
       "      <th>21</th>\n",
       "      <td>25.0</td>\n",
       "      <td>1.0000</td>\n",
       "      <td>30.0</td>\n",
       "      <td>0.855834</td>\n",
       "    </tr>\n",
       "    <tr>\n",
       "      <th>32</th>\n",
       "      <td>25.0</td>\n",
       "      <td>0.0001</td>\n",
       "      <td>40.0</td>\n",
       "      <td>0.855512</td>\n",
       "    </tr>\n",
       "    <tr>\n",
       "      <th>30</th>\n",
       "      <td>25.0</td>\n",
       "      <td>1.0000</td>\n",
       "      <td>40.0</td>\n",
       "      <td>0.854681</td>\n",
       "    </tr>\n",
       "    <tr>\n",
       "      <th>31</th>\n",
       "      <td>25.0</td>\n",
       "      <td>0.0100</td>\n",
       "      <td>40.0</td>\n",
       "      <td>0.854354</td>\n",
       "    </tr>\n",
       "    <tr>\n",
       "      <th>15</th>\n",
       "      <td>50.0</td>\n",
       "      <td>1.0000</td>\n",
       "      <td>15.0</td>\n",
       "      <td>0.849484</td>\n",
       "    </tr>\n",
       "    <tr>\n",
       "      <th>16</th>\n",
       "      <td>50.0</td>\n",
       "      <td>0.0100</td>\n",
       "      <td>15.0</td>\n",
       "      <td>0.848292</td>\n",
       "    </tr>\n",
       "    <tr>\n",
       "      <th>26</th>\n",
       "      <td>50.0</td>\n",
       "      <td>0.0001</td>\n",
       "      <td>30.0</td>\n",
       "      <td>0.846366</td>\n",
       "    </tr>\n",
       "    <tr>\n",
       "      <th>17</th>\n",
       "      <td>50.0</td>\n",
       "      <td>0.0001</td>\n",
       "      <td>15.0</td>\n",
       "      <td>0.845909</td>\n",
       "    </tr>\n",
       "    <tr>\n",
       "      <th>24</th>\n",
       "      <td>50.0</td>\n",
       "      <td>1.0000</td>\n",
       "      <td>30.0</td>\n",
       "      <td>0.845448</td>\n",
       "    </tr>\n",
       "    <tr>\n",
       "      <th>25</th>\n",
       "      <td>50.0</td>\n",
       "      <td>0.0100</td>\n",
       "      <td>30.0</td>\n",
       "      <td>0.844548</td>\n",
       "    </tr>\n",
       "    <tr>\n",
       "      <th>34</th>\n",
       "      <td>50.0</td>\n",
       "      <td>0.0100</td>\n",
       "      <td>40.0</td>\n",
       "      <td>0.844001</td>\n",
       "    </tr>\n",
       "    <tr>\n",
       "      <th>33</th>\n",
       "      <td>50.0</td>\n",
       "      <td>1.0000</td>\n",
       "      <td>40.0</td>\n",
       "      <td>0.843685</td>\n",
       "    </tr>\n",
       "    <tr>\n",
       "      <th>35</th>\n",
       "      <td>50.0</td>\n",
       "      <td>0.0001</td>\n",
       "      <td>40.0</td>\n",
       "      <td>0.843239</td>\n",
       "    </tr>\n",
       "  </tbody>\n",
       "</table>\n",
       "</div>"
      ],
      "text/plain": [
       "    factors  regularization  alpha       auc\n",
       "5      25.0          0.0001    1.0  0.870082\n",
       "3      25.0          1.0000    1.0  0.868217\n",
       "0      10.0          1.0000    1.0  0.867958\n",
       "2      10.0          0.0001    1.0  0.867649\n",
       "1      10.0          0.0100    1.0  0.867570\n",
       "9      10.0          1.0000   15.0  0.867010\n",
       "4      25.0          0.0100    1.0  0.866539\n",
       "10     10.0          0.0100   15.0  0.866039\n",
       "29     10.0          0.0001   40.0  0.865394\n",
       "11     10.0          0.0001   15.0  0.865114\n",
       "19     10.0          0.0100   30.0  0.865035\n",
       "27     10.0          1.0000   40.0  0.864732\n",
       "20     10.0          0.0001   30.0  0.864139\n",
       "28     10.0          0.0100   40.0  0.863873\n",
       "18     10.0          1.0000   30.0  0.863563\n",
       "13     25.0          0.0100   15.0  0.861417\n",
       "8      50.0          0.0001    1.0  0.861343\n",
       "7      50.0          0.0100    1.0  0.860394\n",
       "6      50.0          1.0000    1.0  0.859469\n",
       "12     25.0          1.0000   15.0  0.859159\n",
       "14     25.0          0.0001   15.0  0.858931\n",
       "22     25.0          0.0100   30.0  0.856522\n",
       "23     25.0          0.0001   30.0  0.856226\n",
       "21     25.0          1.0000   30.0  0.855834\n",
       "32     25.0          0.0001   40.0  0.855512\n",
       "30     25.0          1.0000   40.0  0.854681\n",
       "31     25.0          0.0100   40.0  0.854354\n",
       "15     50.0          1.0000   15.0  0.849484\n",
       "16     50.0          0.0100   15.0  0.848292\n",
       "26     50.0          0.0001   30.0  0.846366\n",
       "17     50.0          0.0001   15.0  0.845909\n",
       "24     50.0          1.0000   30.0  0.845448\n",
       "25     50.0          0.0100   30.0  0.844548\n",
       "34     50.0          0.0100   40.0  0.844001\n",
       "33     50.0          1.0000   40.0  0.843685\n",
       "35     50.0          0.0001   40.0  0.843239"
      ]
     },
     "execution_count": 39,
     "metadata": {},
     "output_type": "execute_result"
    }
   ],
   "source": [
    "resultsDF = resultsDF.sort_values('auc', ascending = False)\n",
    "resultsDF"
   ]
  },
  {
   "cell_type": "markdown",
   "metadata": {
    "slideshow": {
     "slide_type": "slide"
    }
   },
   "source": [
    "### Question 10.2\n",
    "\n",
    "Sometimes an exhaustive search in the hyperparameter space is a waste of time and resources.\n",
    "There are a lot of research questions open that deal with automating the end-to-end process of applying machine learning to real-world problems (e.g. **AutoML**).\n",
    "\n",
    "Random sampling in the hyperparameter space is a possible -- very simple but yet quite powerfull -- technique.\n",
    "\n",
    "Implement a simple parameter sampler and try a bunch of different configurations.\n",
    "\n",
    "***Hint***: have a look to `ParameterSampler()` in `sklearn.model_selection` "
   ]
  },
  {
   "cell_type": "code",
   "execution_count": 40,
   "metadata": {
    "scrolled": true,
    "slideshow": {
     "slide_type": "subslide"
    }
   },
   "outputs": [
    {
     "name": "stdout",
     "output_type": "stream",
     "text": [
      "Combination 37\n",
      "==========================================\n",
      "Factors = 47\n",
      "Regularization = 0.42119743435482593\n",
      "Alpha = 3.3256130350593374\n"
     ]
    },
    {
     "name": "stderr",
     "output_type": "stream",
     "text": [
      "100%|██████████| 5.0/5 [03:09<00:00, 41.32s/it]\n",
      "100%|██████████| 13460/13460 [02:17<00:00, 97.78it/s] \n"
     ]
    },
    {
     "name": "stdout",
     "output_type": "stream",
     "text": [
      "Average AUC =  0.8562689132890848\n",
      "==========================================\n",
      "Combination 38\n",
      "==========================================\n",
      "Factors = 31\n",
      "Regularization = 0.013217574417221722\n",
      "Alpha = 38.6623228652102\n"
     ]
    },
    {
     "name": "stderr",
     "output_type": "stream",
     "text": [
      "100%|██████████| 5.0/5 [02:30<00:00, 32.63s/it]\n",
      "100%|██████████| 13460/13460 [02:16<00:00, 98.51it/s] \n"
     ]
    },
    {
     "name": "stdout",
     "output_type": "stream",
     "text": [
      "Average AUC =  0.8505830263628311\n",
      "==========================================\n",
      "Combination 39\n",
      "==========================================\n",
      "Factors = 24\n",
      "Regularization = 0.3819369943970108\n",
      "Alpha = 23.055279869638657\n"
     ]
    },
    {
     "name": "stderr",
     "output_type": "stream",
     "text": [
      "100%|██████████| 5.0/5 [02:07<00:00, 28.28s/it]\n",
      "100%|██████████| 13460/13460 [02:15<00:00, 99.08it/s] \n"
     ]
    },
    {
     "name": "stdout",
     "output_type": "stream",
     "text": [
      "Average AUC =  0.8594750974140464\n",
      "==========================================\n",
      "Combination 40\n",
      "==========================================\n",
      "Factors = 32\n",
      "Regularization = 0.7776179787050381\n",
      "Alpha = 10.383272838714394\n"
     ]
    },
    {
     "name": "stderr",
     "output_type": "stream",
     "text": [
      "100%|██████████| 5.0/5 [02:06<00:00, 27.66s/it]\n",
      "100%|██████████| 13460/13460 [02:09<00:00, 104.04it/s]\n"
     ]
    },
    {
     "name": "stdout",
     "output_type": "stream",
     "text": [
      "Average AUC =  0.8584786046082057\n",
      "==========================================\n",
      "Combination 41\n",
      "==========================================\n",
      "Factors = 30\n",
      "Regularization = 0.1046259474719279\n",
      "Alpha = 30.460252740693498\n"
     ]
    },
    {
     "name": "stderr",
     "output_type": "stream",
     "text": [
      "100%|██████████| 5.0/5 [02:32<00:00, 32.95s/it]\n",
      "100%|██████████| 13460/13460 [02:16<00:00, 98.28it/s] \n"
     ]
    },
    {
     "name": "stdout",
     "output_type": "stream",
     "text": [
      "Average AUC =  0.8549759520344696\n",
      "==========================================\n",
      "Combination 42\n",
      "==========================================\n",
      "Factors = 48\n",
      "Regularization = 0.8186496505993194\n",
      "Alpha = 33.26413210025606\n"
     ]
    },
    {
     "name": "stderr",
     "output_type": "stream",
     "text": [
      "100%|██████████| 5.0/5 [03:05<00:00, 40.44s/it]\n",
      "100%|██████████| 13460/13460 [02:14<00:00, 100.44it/s]\n"
     ]
    },
    {
     "name": "stdout",
     "output_type": "stream",
     "text": [
      "Average AUC =  0.8474135385373943\n",
      "==========================================\n",
      "Combination 43\n",
      "==========================================\n",
      "Factors = 40\n",
      "Regularization = 0.053052241357943744\n",
      "Alpha = 40.12990615265874\n"
     ]
    },
    {
     "name": "stderr",
     "output_type": "stream",
     "text": [
      "100%|██████████| 5.0/5 [02:37<00:00, 35.59s/it]\n",
      "100%|██████████| 13460/13460 [02:14<00:00, 100.08it/s]\n"
     ]
    },
    {
     "name": "stdout",
     "output_type": "stream",
     "text": [
      "Average AUC =  0.8516436346468906\n",
      "==========================================\n",
      "Combination 44\n",
      "==========================================\n",
      "Factors = 31\n",
      "Regularization = 0.5887050687472363\n",
      "Alpha = 17.116074207072494\n"
     ]
    },
    {
     "name": "stderr",
     "output_type": "stream",
     "text": [
      "100%|██████████| 5.0/5 [02:39<00:00, 34.73s/it]\n",
      "100%|██████████| 13460/13460 [02:13<00:00, 100.91it/s]\n"
     ]
    },
    {
     "name": "stdout",
     "output_type": "stream",
     "text": [
      "Average AUC =  0.8556486806479168\n",
      "==========================================\n",
      "Combination 45\n",
      "==========================================\n",
      "Factors = 22\n",
      "Regularization = 0.6358296629077513\n",
      "Alpha = 23.529467384309854\n"
     ]
    },
    {
     "name": "stderr",
     "output_type": "stream",
     "text": [
      "100%|██████████| 5.0/5 [02:08<00:00, 28.06s/it]\n",
      "100%|██████████| 13460/13460 [02:12<00:00, 101.91it/s]\n"
     ]
    },
    {
     "name": "stdout",
     "output_type": "stream",
     "text": [
      "Average AUC =  0.8581941422683669\n",
      "==========================================\n",
      "Combination 46\n",
      "==========================================\n",
      "Factors = 19\n",
      "Regularization = 0.5749603526375375\n",
      "Alpha = 5.197703869519018\n"
     ]
    },
    {
     "name": "stderr",
     "output_type": "stream",
     "text": [
      "100%|██████████| 5.0/5 [01:52<00:00, 25.08s/it]\n",
      "100%|██████████| 13460/13460 [02:18<00:00, 97.50it/s] \n"
     ]
    },
    {
     "name": "stdout",
     "output_type": "stream",
     "text": [
      "Average AUC =  0.8623566839003826\n",
      "==========================================\n",
      "Combination 47\n",
      "==========================================\n",
      "Factors = 23\n",
      "Regularization = 0.5628305296353057\n",
      "Alpha = 8.646115197662372\n"
     ]
    },
    {
     "name": "stderr",
     "output_type": "stream",
     "text": [
      "100%|██████████| 5.0/5 [02:08<00:00, 28.74s/it]\n",
      "100%|██████████| 13460/13460 [02:20<00:00, 95.86it/s] \n"
     ]
    },
    {
     "name": "stdout",
     "output_type": "stream",
     "text": [
      "Average AUC =  0.8610572054358611\n",
      "==========================================\n",
      "Combination 48\n",
      "==========================================\n",
      "Factors = 28\n",
      "Regularization = 0.5732089438078\n",
      "Alpha = 35.403291462994\n"
     ]
    },
    {
     "name": "stderr",
     "output_type": "stream",
     "text": [
      "100%|██████████| 5.0/5 [02:29<00:00, 33.00s/it]\n",
      "100%|██████████| 13460/13460 [02:12<00:00, 101.22it/s]\n"
     ]
    },
    {
     "name": "stdout",
     "output_type": "stream",
     "text": [
      "Average AUC =  0.8537814043250005\n",
      "==========================================\n"
     ]
    },
    {
     "data": {
      "text/html": [
       "<div>\n",
       "<style scoped>\n",
       "    .dataframe tbody tr th:only-of-type {\n",
       "        vertical-align: middle;\n",
       "    }\n",
       "\n",
       "    .dataframe tbody tr th {\n",
       "        vertical-align: top;\n",
       "    }\n",
       "\n",
       "    .dataframe thead th {\n",
       "        text-align: right;\n",
       "    }\n",
       "</style>\n",
       "<table border=\"1\" class=\"dataframe\">\n",
       "  <thead>\n",
       "    <tr style=\"text-align: right;\">\n",
       "      <th></th>\n",
       "      <th>factors</th>\n",
       "      <th>regularization</th>\n",
       "      <th>alpha</th>\n",
       "      <th>auc</th>\n",
       "    </tr>\n",
       "  </thead>\n",
       "  <tbody>\n",
       "    <tr>\n",
       "      <th>0</th>\n",
       "      <td>25.0</td>\n",
       "      <td>0.000100</td>\n",
       "      <td>1.000000</td>\n",
       "      <td>0.870082</td>\n",
       "    </tr>\n",
       "    <tr>\n",
       "      <th>1</th>\n",
       "      <td>25.0</td>\n",
       "      <td>1.000000</td>\n",
       "      <td>1.000000</td>\n",
       "      <td>0.868217</td>\n",
       "    </tr>\n",
       "    <tr>\n",
       "      <th>2</th>\n",
       "      <td>10.0</td>\n",
       "      <td>1.000000</td>\n",
       "      <td>1.000000</td>\n",
       "      <td>0.867958</td>\n",
       "    </tr>\n",
       "    <tr>\n",
       "      <th>3</th>\n",
       "      <td>10.0</td>\n",
       "      <td>0.000100</td>\n",
       "      <td>1.000000</td>\n",
       "      <td>0.867649</td>\n",
       "    </tr>\n",
       "    <tr>\n",
       "      <th>4</th>\n",
       "      <td>10.0</td>\n",
       "      <td>0.010000</td>\n",
       "      <td>1.000000</td>\n",
       "      <td>0.867570</td>\n",
       "    </tr>\n",
       "    <tr>\n",
       "      <th>5</th>\n",
       "      <td>10.0</td>\n",
       "      <td>1.000000</td>\n",
       "      <td>15.000000</td>\n",
       "      <td>0.867010</td>\n",
       "    </tr>\n",
       "    <tr>\n",
       "      <th>6</th>\n",
       "      <td>25.0</td>\n",
       "      <td>0.010000</td>\n",
       "      <td>1.000000</td>\n",
       "      <td>0.866539</td>\n",
       "    </tr>\n",
       "    <tr>\n",
       "      <th>7</th>\n",
       "      <td>10.0</td>\n",
       "      <td>0.010000</td>\n",
       "      <td>15.000000</td>\n",
       "      <td>0.866039</td>\n",
       "    </tr>\n",
       "    <tr>\n",
       "      <th>8</th>\n",
       "      <td>10.0</td>\n",
       "      <td>0.000100</td>\n",
       "      <td>40.000000</td>\n",
       "      <td>0.865394</td>\n",
       "    </tr>\n",
       "    <tr>\n",
       "      <th>9</th>\n",
       "      <td>10.0</td>\n",
       "      <td>0.000100</td>\n",
       "      <td>15.000000</td>\n",
       "      <td>0.865114</td>\n",
       "    </tr>\n",
       "    <tr>\n",
       "      <th>10</th>\n",
       "      <td>10.0</td>\n",
       "      <td>0.010000</td>\n",
       "      <td>30.000000</td>\n",
       "      <td>0.865035</td>\n",
       "    </tr>\n",
       "    <tr>\n",
       "      <th>11</th>\n",
       "      <td>10.0</td>\n",
       "      <td>1.000000</td>\n",
       "      <td>40.000000</td>\n",
       "      <td>0.864732</td>\n",
       "    </tr>\n",
       "    <tr>\n",
       "      <th>12</th>\n",
       "      <td>10.0</td>\n",
       "      <td>0.000100</td>\n",
       "      <td>30.000000</td>\n",
       "      <td>0.864139</td>\n",
       "    </tr>\n",
       "    <tr>\n",
       "      <th>13</th>\n",
       "      <td>10.0</td>\n",
       "      <td>0.010000</td>\n",
       "      <td>40.000000</td>\n",
       "      <td>0.863873</td>\n",
       "    </tr>\n",
       "    <tr>\n",
       "      <th>14</th>\n",
       "      <td>10.0</td>\n",
       "      <td>1.000000</td>\n",
       "      <td>30.000000</td>\n",
       "      <td>0.863563</td>\n",
       "    </tr>\n",
       "    <tr>\n",
       "      <th>45</th>\n",
       "      <td>19.0</td>\n",
       "      <td>0.574960</td>\n",
       "      <td>5.197704</td>\n",
       "      <td>0.862357</td>\n",
       "    </tr>\n",
       "    <tr>\n",
       "      <th>15</th>\n",
       "      <td>25.0</td>\n",
       "      <td>0.010000</td>\n",
       "      <td>15.000000</td>\n",
       "      <td>0.861417</td>\n",
       "    </tr>\n",
       "    <tr>\n",
       "      <th>16</th>\n",
       "      <td>50.0</td>\n",
       "      <td>0.000100</td>\n",
       "      <td>1.000000</td>\n",
       "      <td>0.861343</td>\n",
       "    </tr>\n",
       "    <tr>\n",
       "      <th>46</th>\n",
       "      <td>23.0</td>\n",
       "      <td>0.562831</td>\n",
       "      <td>8.646115</td>\n",
       "      <td>0.861057</td>\n",
       "    </tr>\n",
       "    <tr>\n",
       "      <th>17</th>\n",
       "      <td>50.0</td>\n",
       "      <td>0.010000</td>\n",
       "      <td>1.000000</td>\n",
       "      <td>0.860394</td>\n",
       "    </tr>\n",
       "    <tr>\n",
       "      <th>38</th>\n",
       "      <td>24.0</td>\n",
       "      <td>0.381937</td>\n",
       "      <td>23.055280</td>\n",
       "      <td>0.859475</td>\n",
       "    </tr>\n",
       "    <tr>\n",
       "      <th>18</th>\n",
       "      <td>50.0</td>\n",
       "      <td>1.000000</td>\n",
       "      <td>1.000000</td>\n",
       "      <td>0.859469</td>\n",
       "    </tr>\n",
       "    <tr>\n",
       "      <th>19</th>\n",
       "      <td>25.0</td>\n",
       "      <td>1.000000</td>\n",
       "      <td>15.000000</td>\n",
       "      <td>0.859159</td>\n",
       "    </tr>\n",
       "    <tr>\n",
       "      <th>20</th>\n",
       "      <td>25.0</td>\n",
       "      <td>0.000100</td>\n",
       "      <td>15.000000</td>\n",
       "      <td>0.858931</td>\n",
       "    </tr>\n",
       "    <tr>\n",
       "      <th>39</th>\n",
       "      <td>32.0</td>\n",
       "      <td>0.777618</td>\n",
       "      <td>10.383273</td>\n",
       "      <td>0.858479</td>\n",
       "    </tr>\n",
       "    <tr>\n",
       "      <th>44</th>\n",
       "      <td>22.0</td>\n",
       "      <td>0.635830</td>\n",
       "      <td>23.529467</td>\n",
       "      <td>0.858194</td>\n",
       "    </tr>\n",
       "    <tr>\n",
       "      <th>21</th>\n",
       "      <td>25.0</td>\n",
       "      <td>0.010000</td>\n",
       "      <td>30.000000</td>\n",
       "      <td>0.856522</td>\n",
       "    </tr>\n",
       "    <tr>\n",
       "      <th>36</th>\n",
       "      <td>47.0</td>\n",
       "      <td>0.421197</td>\n",
       "      <td>3.325613</td>\n",
       "      <td>0.856269</td>\n",
       "    </tr>\n",
       "    <tr>\n",
       "      <th>22</th>\n",
       "      <td>25.0</td>\n",
       "      <td>0.000100</td>\n",
       "      <td>30.000000</td>\n",
       "      <td>0.856226</td>\n",
       "    </tr>\n",
       "    <tr>\n",
       "      <th>23</th>\n",
       "      <td>25.0</td>\n",
       "      <td>1.000000</td>\n",
       "      <td>30.000000</td>\n",
       "      <td>0.855834</td>\n",
       "    </tr>\n",
       "    <tr>\n",
       "      <th>43</th>\n",
       "      <td>31.0</td>\n",
       "      <td>0.588705</td>\n",
       "      <td>17.116074</td>\n",
       "      <td>0.855649</td>\n",
       "    </tr>\n",
       "    <tr>\n",
       "      <th>24</th>\n",
       "      <td>25.0</td>\n",
       "      <td>0.000100</td>\n",
       "      <td>40.000000</td>\n",
       "      <td>0.855512</td>\n",
       "    </tr>\n",
       "    <tr>\n",
       "      <th>40</th>\n",
       "      <td>30.0</td>\n",
       "      <td>0.104626</td>\n",
       "      <td>30.460253</td>\n",
       "      <td>0.854976</td>\n",
       "    </tr>\n",
       "    <tr>\n",
       "      <th>25</th>\n",
       "      <td>25.0</td>\n",
       "      <td>1.000000</td>\n",
       "      <td>40.000000</td>\n",
       "      <td>0.854681</td>\n",
       "    </tr>\n",
       "    <tr>\n",
       "      <th>26</th>\n",
       "      <td>25.0</td>\n",
       "      <td>0.010000</td>\n",
       "      <td>40.000000</td>\n",
       "      <td>0.854354</td>\n",
       "    </tr>\n",
       "    <tr>\n",
       "      <th>47</th>\n",
       "      <td>28.0</td>\n",
       "      <td>0.573209</td>\n",
       "      <td>35.403291</td>\n",
       "      <td>0.853781</td>\n",
       "    </tr>\n",
       "    <tr>\n",
       "      <th>42</th>\n",
       "      <td>40.0</td>\n",
       "      <td>0.053052</td>\n",
       "      <td>40.129906</td>\n",
       "      <td>0.851644</td>\n",
       "    </tr>\n",
       "    <tr>\n",
       "      <th>37</th>\n",
       "      <td>31.0</td>\n",
       "      <td>0.013218</td>\n",
       "      <td>38.662323</td>\n",
       "      <td>0.850583</td>\n",
       "    </tr>\n",
       "    <tr>\n",
       "      <th>27</th>\n",
       "      <td>50.0</td>\n",
       "      <td>1.000000</td>\n",
       "      <td>15.000000</td>\n",
       "      <td>0.849484</td>\n",
       "    </tr>\n",
       "    <tr>\n",
       "      <th>28</th>\n",
       "      <td>50.0</td>\n",
       "      <td>0.010000</td>\n",
       "      <td>15.000000</td>\n",
       "      <td>0.848292</td>\n",
       "    </tr>\n",
       "    <tr>\n",
       "      <th>41</th>\n",
       "      <td>48.0</td>\n",
       "      <td>0.818650</td>\n",
       "      <td>33.264132</td>\n",
       "      <td>0.847414</td>\n",
       "    </tr>\n",
       "    <tr>\n",
       "      <th>29</th>\n",
       "      <td>50.0</td>\n",
       "      <td>0.000100</td>\n",
       "      <td>30.000000</td>\n",
       "      <td>0.846366</td>\n",
       "    </tr>\n",
       "    <tr>\n",
       "      <th>30</th>\n",
       "      <td>50.0</td>\n",
       "      <td>0.000100</td>\n",
       "      <td>15.000000</td>\n",
       "      <td>0.845909</td>\n",
       "    </tr>\n",
       "    <tr>\n",
       "      <th>31</th>\n",
       "      <td>50.0</td>\n",
       "      <td>1.000000</td>\n",
       "      <td>30.000000</td>\n",
       "      <td>0.845448</td>\n",
       "    </tr>\n",
       "    <tr>\n",
       "      <th>32</th>\n",
       "      <td>50.0</td>\n",
       "      <td>0.010000</td>\n",
       "      <td>30.000000</td>\n",
       "      <td>0.844548</td>\n",
       "    </tr>\n",
       "    <tr>\n",
       "      <th>33</th>\n",
       "      <td>50.0</td>\n",
       "      <td>0.010000</td>\n",
       "      <td>40.000000</td>\n",
       "      <td>0.844001</td>\n",
       "    </tr>\n",
       "    <tr>\n",
       "      <th>34</th>\n",
       "      <td>50.0</td>\n",
       "      <td>1.000000</td>\n",
       "      <td>40.000000</td>\n",
       "      <td>0.843685</td>\n",
       "    </tr>\n",
       "    <tr>\n",
       "      <th>35</th>\n",
       "      <td>50.0</td>\n",
       "      <td>0.000100</td>\n",
       "      <td>40.000000</td>\n",
       "      <td>0.843239</td>\n",
       "    </tr>\n",
       "  </tbody>\n",
       "</table>\n",
       "</div>"
      ],
      "text/plain": [
       "    factors  regularization      alpha       auc\n",
       "0      25.0        0.000100   1.000000  0.870082\n",
       "1      25.0        1.000000   1.000000  0.868217\n",
       "2      10.0        1.000000   1.000000  0.867958\n",
       "3      10.0        0.000100   1.000000  0.867649\n",
       "4      10.0        0.010000   1.000000  0.867570\n",
       "5      10.0        1.000000  15.000000  0.867010\n",
       "6      25.0        0.010000   1.000000  0.866539\n",
       "7      10.0        0.010000  15.000000  0.866039\n",
       "8      10.0        0.000100  40.000000  0.865394\n",
       "9      10.0        0.000100  15.000000  0.865114\n",
       "10     10.0        0.010000  30.000000  0.865035\n",
       "11     10.0        1.000000  40.000000  0.864732\n",
       "12     10.0        0.000100  30.000000  0.864139\n",
       "13     10.0        0.010000  40.000000  0.863873\n",
       "14     10.0        1.000000  30.000000  0.863563\n",
       "45     19.0        0.574960   5.197704  0.862357\n",
       "15     25.0        0.010000  15.000000  0.861417\n",
       "16     50.0        0.000100   1.000000  0.861343\n",
       "46     23.0        0.562831   8.646115  0.861057\n",
       "17     50.0        0.010000   1.000000  0.860394\n",
       "38     24.0        0.381937  23.055280  0.859475\n",
       "18     50.0        1.000000   1.000000  0.859469\n",
       "19     25.0        1.000000  15.000000  0.859159\n",
       "20     25.0        0.000100  15.000000  0.858931\n",
       "39     32.0        0.777618  10.383273  0.858479\n",
       "44     22.0        0.635830  23.529467  0.858194\n",
       "21     25.0        0.010000  30.000000  0.856522\n",
       "36     47.0        0.421197   3.325613  0.856269\n",
       "22     25.0        0.000100  30.000000  0.856226\n",
       "23     25.0        1.000000  30.000000  0.855834\n",
       "43     31.0        0.588705  17.116074  0.855649\n",
       "24     25.0        0.000100  40.000000  0.855512\n",
       "40     30.0        0.104626  30.460253  0.854976\n",
       "25     25.0        1.000000  40.000000  0.854681\n",
       "26     25.0        0.010000  40.000000  0.854354\n",
       "47     28.0        0.573209  35.403291  0.853781\n",
       "42     40.0        0.053052  40.129906  0.851644\n",
       "37     31.0        0.013218  38.662323  0.850583\n",
       "27     50.0        1.000000  15.000000  0.849484\n",
       "28     50.0        0.010000  15.000000  0.848292\n",
       "41     48.0        0.818650  33.264132  0.847414\n",
       "29     50.0        0.000100  30.000000  0.846366\n",
       "30     50.0        0.000100  15.000000  0.845909\n",
       "31     50.0        1.000000  30.000000  0.845448\n",
       "32     50.0        0.010000  30.000000  0.844548\n",
       "33     50.0        0.010000  40.000000  0.844001\n",
       "34     50.0        1.000000  40.000000  0.843685\n",
       "35     50.0        0.000100  40.000000  0.843239"
      ]
     },
     "execution_count": 40,
     "metadata": {},
     "output_type": "execute_result"
    }
   ],
   "source": [
    "import scipy.stats \n",
    "from sklearn.model_selection import ParameterSampler\n",
    "\n",
    "# Hyperparameters are now definded by probability densities\n",
    "hyperparameters = {\n",
    "    'factors': scipy.stats.randint(10, 50), \n",
    "    'regularization' : scipy.stats.uniform(0.0001, 1.), \n",
    "    'alpha' : scipy.stats.uniform(1., 40.)}\n",
    "\n",
    "parameter_grid = list(ParameterSampler(hyperparameters, 12))\n",
    "\n",
    "# You can either append the results to the previous table or create a new one\n",
    "# resultsDF_sampling = pd.DataFrame(columns=['factors', 'regularization', 'alpha', 'auc'])\n",
    "\n",
    "for parameter_combination in parameter_grid:  \n",
    "    \n",
    "    print(\"Combination\", iter)\n",
    "    print(\"==========================================\")\n",
    "    iter += 1\n",
    "    print(\"Factors =\",parameter_combination['factors'])\n",
    "    print(\"Regularization =\",parameter_combination['regularization'])\n",
    "    print(\"Alpha =\",parameter_combination['alpha'])\n",
    "    \n",
    "    # Create the model\n",
    "    model = implicit.als.AlternatingLeastSquares(factors=parameter_combination['factors'], regularization=parameter_combination['regularization'], iterations=5)\n",
    "    \n",
    "    # Apply alpha to the item_user matrix\n",
    "    train_data_conf = (train_sparse_item_user * parameter_combination['alpha'] ).astype('double')\n",
    "\n",
    "    # Fit the model\n",
    "    model.fit(train_data_conf)\n",
    "    \n",
    "    # Compute AUC distribution\n",
    "    auc = compute_auc(test_users_ratio = 0.1)\n",
    "    \n",
    "    parameter_combination['auc'] = auc.mean()\n",
    "    \n",
    "    resultsDF = resultsDF.append(parameter_combination, ignore_index=True)\n",
    "    \n",
    "    print(\"Average AUC = \", parameter_combination['auc'])\n",
    "    print(\"==========================================\")\n",
    " \n",
    "    \n",
    "resultsDF.sort_values('auc', ascending = False)"
   ]
  },
  {
   "cell_type": "code",
   "execution_count": 42,
   "metadata": {
    "scrolled": true
   },
   "outputs": [
    {
     "data": {
      "text/html": [
       "<div>\n",
       "<style scoped>\n",
       "    .dataframe tbody tr th:only-of-type {\n",
       "        vertical-align: middle;\n",
       "    }\n",
       "\n",
       "    .dataframe tbody tr th {\n",
       "        vertical-align: top;\n",
       "    }\n",
       "\n",
       "    .dataframe thead th {\n",
       "        text-align: right;\n",
       "    }\n",
       "</style>\n",
       "<table border=\"1\" class=\"dataframe\">\n",
       "  <thead>\n",
       "    <tr style=\"text-align: right;\">\n",
       "      <th></th>\n",
       "      <th>factors</th>\n",
       "      <th>regularization</th>\n",
       "      <th>alpha</th>\n",
       "      <th>auc</th>\n",
       "    </tr>\n",
       "  </thead>\n",
       "  <tbody>\n",
       "    <tr>\n",
       "      <th>0</th>\n",
       "      <td>25.0</td>\n",
       "      <td>0.000100</td>\n",
       "      <td>1.000000</td>\n",
       "      <td>0.870082</td>\n",
       "    </tr>\n",
       "    <tr>\n",
       "      <th>1</th>\n",
       "      <td>25.0</td>\n",
       "      <td>1.000000</td>\n",
       "      <td>1.000000</td>\n",
       "      <td>0.868217</td>\n",
       "    </tr>\n",
       "    <tr>\n",
       "      <th>2</th>\n",
       "      <td>10.0</td>\n",
       "      <td>1.000000</td>\n",
       "      <td>1.000000</td>\n",
       "      <td>0.867958</td>\n",
       "    </tr>\n",
       "    <tr>\n",
       "      <th>3</th>\n",
       "      <td>10.0</td>\n",
       "      <td>0.000100</td>\n",
       "      <td>1.000000</td>\n",
       "      <td>0.867649</td>\n",
       "    </tr>\n",
       "    <tr>\n",
       "      <th>4</th>\n",
       "      <td>10.0</td>\n",
       "      <td>0.010000</td>\n",
       "      <td>1.000000</td>\n",
       "      <td>0.867570</td>\n",
       "    </tr>\n",
       "    <tr>\n",
       "      <th>5</th>\n",
       "      <td>10.0</td>\n",
       "      <td>1.000000</td>\n",
       "      <td>15.000000</td>\n",
       "      <td>0.867010</td>\n",
       "    </tr>\n",
       "    <tr>\n",
       "      <th>6</th>\n",
       "      <td>25.0</td>\n",
       "      <td>0.010000</td>\n",
       "      <td>1.000000</td>\n",
       "      <td>0.866539</td>\n",
       "    </tr>\n",
       "    <tr>\n",
       "      <th>7</th>\n",
       "      <td>10.0</td>\n",
       "      <td>0.010000</td>\n",
       "      <td>15.000000</td>\n",
       "      <td>0.866039</td>\n",
       "    </tr>\n",
       "    <tr>\n",
       "      <th>8</th>\n",
       "      <td>10.0</td>\n",
       "      <td>0.000100</td>\n",
       "      <td>40.000000</td>\n",
       "      <td>0.865394</td>\n",
       "    </tr>\n",
       "    <tr>\n",
       "      <th>9</th>\n",
       "      <td>10.0</td>\n",
       "      <td>0.000100</td>\n",
       "      <td>15.000000</td>\n",
       "      <td>0.865114</td>\n",
       "    </tr>\n",
       "    <tr>\n",
       "      <th>10</th>\n",
       "      <td>10.0</td>\n",
       "      <td>0.010000</td>\n",
       "      <td>30.000000</td>\n",
       "      <td>0.865035</td>\n",
       "    </tr>\n",
       "    <tr>\n",
       "      <th>11</th>\n",
       "      <td>10.0</td>\n",
       "      <td>1.000000</td>\n",
       "      <td>40.000000</td>\n",
       "      <td>0.864732</td>\n",
       "    </tr>\n",
       "    <tr>\n",
       "      <th>12</th>\n",
       "      <td>10.0</td>\n",
       "      <td>0.000100</td>\n",
       "      <td>30.000000</td>\n",
       "      <td>0.864139</td>\n",
       "    </tr>\n",
       "    <tr>\n",
       "      <th>13</th>\n",
       "      <td>10.0</td>\n",
       "      <td>0.010000</td>\n",
       "      <td>40.000000</td>\n",
       "      <td>0.863873</td>\n",
       "    </tr>\n",
       "    <tr>\n",
       "      <th>14</th>\n",
       "      <td>10.0</td>\n",
       "      <td>1.000000</td>\n",
       "      <td>30.000000</td>\n",
       "      <td>0.863563</td>\n",
       "    </tr>\n",
       "    <tr>\n",
       "      <th>45</th>\n",
       "      <td>19.0</td>\n",
       "      <td>0.574960</td>\n",
       "      <td>5.197704</td>\n",
       "      <td>0.862357</td>\n",
       "    </tr>\n",
       "    <tr>\n",
       "      <th>15</th>\n",
       "      <td>25.0</td>\n",
       "      <td>0.010000</td>\n",
       "      <td>15.000000</td>\n",
       "      <td>0.861417</td>\n",
       "    </tr>\n",
       "    <tr>\n",
       "      <th>16</th>\n",
       "      <td>50.0</td>\n",
       "      <td>0.000100</td>\n",
       "      <td>1.000000</td>\n",
       "      <td>0.861343</td>\n",
       "    </tr>\n",
       "    <tr>\n",
       "      <th>46</th>\n",
       "      <td>23.0</td>\n",
       "      <td>0.562831</td>\n",
       "      <td>8.646115</td>\n",
       "      <td>0.861057</td>\n",
       "    </tr>\n",
       "    <tr>\n",
       "      <th>17</th>\n",
       "      <td>50.0</td>\n",
       "      <td>0.010000</td>\n",
       "      <td>1.000000</td>\n",
       "      <td>0.860394</td>\n",
       "    </tr>\n",
       "    <tr>\n",
       "      <th>38</th>\n",
       "      <td>24.0</td>\n",
       "      <td>0.381937</td>\n",
       "      <td>23.055280</td>\n",
       "      <td>0.859475</td>\n",
       "    </tr>\n",
       "    <tr>\n",
       "      <th>18</th>\n",
       "      <td>50.0</td>\n",
       "      <td>1.000000</td>\n",
       "      <td>1.000000</td>\n",
       "      <td>0.859469</td>\n",
       "    </tr>\n",
       "    <tr>\n",
       "      <th>19</th>\n",
       "      <td>25.0</td>\n",
       "      <td>1.000000</td>\n",
       "      <td>15.000000</td>\n",
       "      <td>0.859159</td>\n",
       "    </tr>\n",
       "    <tr>\n",
       "      <th>20</th>\n",
       "      <td>25.0</td>\n",
       "      <td>0.000100</td>\n",
       "      <td>15.000000</td>\n",
       "      <td>0.858931</td>\n",
       "    </tr>\n",
       "    <tr>\n",
       "      <th>39</th>\n",
       "      <td>32.0</td>\n",
       "      <td>0.777618</td>\n",
       "      <td>10.383273</td>\n",
       "      <td>0.858479</td>\n",
       "    </tr>\n",
       "    <tr>\n",
       "      <th>44</th>\n",
       "      <td>22.0</td>\n",
       "      <td>0.635830</td>\n",
       "      <td>23.529467</td>\n",
       "      <td>0.858194</td>\n",
       "    </tr>\n",
       "    <tr>\n",
       "      <th>21</th>\n",
       "      <td>25.0</td>\n",
       "      <td>0.010000</td>\n",
       "      <td>30.000000</td>\n",
       "      <td>0.856522</td>\n",
       "    </tr>\n",
       "    <tr>\n",
       "      <th>36</th>\n",
       "      <td>47.0</td>\n",
       "      <td>0.421197</td>\n",
       "      <td>3.325613</td>\n",
       "      <td>0.856269</td>\n",
       "    </tr>\n",
       "    <tr>\n",
       "      <th>22</th>\n",
       "      <td>25.0</td>\n",
       "      <td>0.000100</td>\n",
       "      <td>30.000000</td>\n",
       "      <td>0.856226</td>\n",
       "    </tr>\n",
       "    <tr>\n",
       "      <th>23</th>\n",
       "      <td>25.0</td>\n",
       "      <td>1.000000</td>\n",
       "      <td>30.000000</td>\n",
       "      <td>0.855834</td>\n",
       "    </tr>\n",
       "    <tr>\n",
       "      <th>43</th>\n",
       "      <td>31.0</td>\n",
       "      <td>0.588705</td>\n",
       "      <td>17.116074</td>\n",
       "      <td>0.855649</td>\n",
       "    </tr>\n",
       "    <tr>\n",
       "      <th>24</th>\n",
       "      <td>25.0</td>\n",
       "      <td>0.000100</td>\n",
       "      <td>40.000000</td>\n",
       "      <td>0.855512</td>\n",
       "    </tr>\n",
       "    <tr>\n",
       "      <th>40</th>\n",
       "      <td>30.0</td>\n",
       "      <td>0.104626</td>\n",
       "      <td>30.460253</td>\n",
       "      <td>0.854976</td>\n",
       "    </tr>\n",
       "    <tr>\n",
       "      <th>25</th>\n",
       "      <td>25.0</td>\n",
       "      <td>1.000000</td>\n",
       "      <td>40.000000</td>\n",
       "      <td>0.854681</td>\n",
       "    </tr>\n",
       "    <tr>\n",
       "      <th>26</th>\n",
       "      <td>25.0</td>\n",
       "      <td>0.010000</td>\n",
       "      <td>40.000000</td>\n",
       "      <td>0.854354</td>\n",
       "    </tr>\n",
       "    <tr>\n",
       "      <th>47</th>\n",
       "      <td>28.0</td>\n",
       "      <td>0.573209</td>\n",
       "      <td>35.403291</td>\n",
       "      <td>0.853781</td>\n",
       "    </tr>\n",
       "    <tr>\n",
       "      <th>42</th>\n",
       "      <td>40.0</td>\n",
       "      <td>0.053052</td>\n",
       "      <td>40.129906</td>\n",
       "      <td>0.851644</td>\n",
       "    </tr>\n",
       "    <tr>\n",
       "      <th>37</th>\n",
       "      <td>31.0</td>\n",
       "      <td>0.013218</td>\n",
       "      <td>38.662323</td>\n",
       "      <td>0.850583</td>\n",
       "    </tr>\n",
       "    <tr>\n",
       "      <th>27</th>\n",
       "      <td>50.0</td>\n",
       "      <td>1.000000</td>\n",
       "      <td>15.000000</td>\n",
       "      <td>0.849484</td>\n",
       "    </tr>\n",
       "    <tr>\n",
       "      <th>28</th>\n",
       "      <td>50.0</td>\n",
       "      <td>0.010000</td>\n",
       "      <td>15.000000</td>\n",
       "      <td>0.848292</td>\n",
       "    </tr>\n",
       "    <tr>\n",
       "      <th>41</th>\n",
       "      <td>48.0</td>\n",
       "      <td>0.818650</td>\n",
       "      <td>33.264132</td>\n",
       "      <td>0.847414</td>\n",
       "    </tr>\n",
       "    <tr>\n",
       "      <th>29</th>\n",
       "      <td>50.0</td>\n",
       "      <td>0.000100</td>\n",
       "      <td>30.000000</td>\n",
       "      <td>0.846366</td>\n",
       "    </tr>\n",
       "    <tr>\n",
       "      <th>30</th>\n",
       "      <td>50.0</td>\n",
       "      <td>0.000100</td>\n",
       "      <td>15.000000</td>\n",
       "      <td>0.845909</td>\n",
       "    </tr>\n",
       "    <tr>\n",
       "      <th>31</th>\n",
       "      <td>50.0</td>\n",
       "      <td>1.000000</td>\n",
       "      <td>30.000000</td>\n",
       "      <td>0.845448</td>\n",
       "    </tr>\n",
       "    <tr>\n",
       "      <th>32</th>\n",
       "      <td>50.0</td>\n",
       "      <td>0.010000</td>\n",
       "      <td>30.000000</td>\n",
       "      <td>0.844548</td>\n",
       "    </tr>\n",
       "    <tr>\n",
       "      <th>33</th>\n",
       "      <td>50.0</td>\n",
       "      <td>0.010000</td>\n",
       "      <td>40.000000</td>\n",
       "      <td>0.844001</td>\n",
       "    </tr>\n",
       "    <tr>\n",
       "      <th>34</th>\n",
       "      <td>50.0</td>\n",
       "      <td>1.000000</td>\n",
       "      <td>40.000000</td>\n",
       "      <td>0.843685</td>\n",
       "    </tr>\n",
       "    <tr>\n",
       "      <th>35</th>\n",
       "      <td>50.0</td>\n",
       "      <td>0.000100</td>\n",
       "      <td>40.000000</td>\n",
       "      <td>0.843239</td>\n",
       "    </tr>\n",
       "  </tbody>\n",
       "</table>\n",
       "</div>"
      ],
      "text/plain": [
       "    factors  regularization      alpha       auc\n",
       "0      25.0        0.000100   1.000000  0.870082\n",
       "1      25.0        1.000000   1.000000  0.868217\n",
       "2      10.0        1.000000   1.000000  0.867958\n",
       "3      10.0        0.000100   1.000000  0.867649\n",
       "4      10.0        0.010000   1.000000  0.867570\n",
       "5      10.0        1.000000  15.000000  0.867010\n",
       "6      25.0        0.010000   1.000000  0.866539\n",
       "7      10.0        0.010000  15.000000  0.866039\n",
       "8      10.0        0.000100  40.000000  0.865394\n",
       "9      10.0        0.000100  15.000000  0.865114\n",
       "10     10.0        0.010000  30.000000  0.865035\n",
       "11     10.0        1.000000  40.000000  0.864732\n",
       "12     10.0        0.000100  30.000000  0.864139\n",
       "13     10.0        0.010000  40.000000  0.863873\n",
       "14     10.0        1.000000  30.000000  0.863563\n",
       "45     19.0        0.574960   5.197704  0.862357\n",
       "15     25.0        0.010000  15.000000  0.861417\n",
       "16     50.0        0.000100   1.000000  0.861343\n",
       "46     23.0        0.562831   8.646115  0.861057\n",
       "17     50.0        0.010000   1.000000  0.860394\n",
       "38     24.0        0.381937  23.055280  0.859475\n",
       "18     50.0        1.000000   1.000000  0.859469\n",
       "19     25.0        1.000000  15.000000  0.859159\n",
       "20     25.0        0.000100  15.000000  0.858931\n",
       "39     32.0        0.777618  10.383273  0.858479\n",
       "44     22.0        0.635830  23.529467  0.858194\n",
       "21     25.0        0.010000  30.000000  0.856522\n",
       "36     47.0        0.421197   3.325613  0.856269\n",
       "22     25.0        0.000100  30.000000  0.856226\n",
       "23     25.0        1.000000  30.000000  0.855834\n",
       "43     31.0        0.588705  17.116074  0.855649\n",
       "24     25.0        0.000100  40.000000  0.855512\n",
       "40     30.0        0.104626  30.460253  0.854976\n",
       "25     25.0        1.000000  40.000000  0.854681\n",
       "26     25.0        0.010000  40.000000  0.854354\n",
       "47     28.0        0.573209  35.403291  0.853781\n",
       "42     40.0        0.053052  40.129906  0.851644\n",
       "37     31.0        0.013218  38.662323  0.850583\n",
       "27     50.0        1.000000  15.000000  0.849484\n",
       "28     50.0        0.010000  15.000000  0.848292\n",
       "41     48.0        0.818650  33.264132  0.847414\n",
       "29     50.0        0.000100  30.000000  0.846366\n",
       "30     50.0        0.000100  15.000000  0.845909\n",
       "31     50.0        1.000000  30.000000  0.845448\n",
       "32     50.0        0.010000  30.000000  0.844548\n",
       "33     50.0        0.010000  40.000000  0.844001\n",
       "34     50.0        1.000000  40.000000  0.843685\n",
       "35     50.0        0.000100  40.000000  0.843239"
      ]
     },
     "execution_count": 42,
     "metadata": {},
     "output_type": "execute_result"
    }
   ],
   "source": [
    "resultsDF = resultsDF.sort_values('auc', ascending = False)\n",
    "resultsDF"
   ]
  },
  {
   "cell_type": "markdown",
   "metadata": {},
   "source": []
  },
  {
   "cell_type": "markdown",
   "metadata": {
    "slideshow": {
     "slide_type": "slide"
    }
   },
   "source": [
    "#### Question 10.2 \n",
    "<div class=\"alert alert-info\">\n",
    "Using \"optimal\" hyper-parameters in question 10.1, re-train the model and show top-5 artist names recommendated for user `2093760`.\n",
    "</div>"
   ]
  },
  {
   "cell_type": "markdown",
   "metadata": {},
   "source": [
    "<div class=\"alert alert-success\" style=\"background-color: AliceBlue; border-color: CornflowerBlue \"> \n",
    "\n",
    "After testing the model's parameters for achieving the best perforamance represented the the AUC, we obtained the maximum at <b>0.870082</b> for the parameters<br>\n",
    "factors = 25<br>\n",
    "regularization = 0.0001<br>\n",
    "alpha = 1<br>\n",
    "</div>"
   ]
  },
  {
   "cell_type": "code",
   "execution_count": 112,
   "metadata": {
    "slideshow": {
     "slide_type": "subslide"
    }
   },
   "outputs": [
    {
     "ename": "NameError",
     "evalue": "name 'train_sparse_item_user' is not defined",
     "output_type": "error",
     "traceback": [
      "\u001b[0;31m---------------------------------------------------------------------------\u001b[0m",
      "\u001b[0;31mNameError\u001b[0m                                 Traceback (most recent call last)",
      "\u001b[0;32m<ipython-input-112-a2b3684fab8b>\u001b[0m in \u001b[0;36m<module>\u001b[0;34m()\u001b[0m\n\u001b[1;32m      2\u001b[0m \u001b[0mmodel\u001b[0m \u001b[0;34m=\u001b[0m \u001b[0mimplicit\u001b[0m\u001b[0;34m.\u001b[0m\u001b[0mals\u001b[0m\u001b[0;34m.\u001b[0m\u001b[0mAlternatingLeastSquares\u001b[0m\u001b[0;34m(\u001b[0m\u001b[0mfactors\u001b[0m \u001b[0;34m=\u001b[0m \u001b[0;36m25\u001b[0m\u001b[0;34m,\u001b[0m \u001b[0mregularization\u001b[0m\u001b[0;34m=\u001b[0m\u001b[0;36m0.0001\u001b[0m\u001b[0;34m,\u001b[0m \u001b[0miterations\u001b[0m\u001b[0;34m=\u001b[0m\u001b[0;36m5\u001b[0m\u001b[0;34m)\u001b[0m\u001b[0;34m\u001b[0m\u001b[0m\n\u001b[1;32m      3\u001b[0m \u001b[0;34m\u001b[0m\u001b[0m\n\u001b[0;32m----> 4\u001b[0;31m \u001b[0mtrain_data_conf\u001b[0m \u001b[0;34m=\u001b[0m \u001b[0;34m(\u001b[0m\u001b[0mtrain_sparse_item_user\u001b[0m \u001b[0;34m*\u001b[0m \u001b[0;36m1\u001b[0m \u001b[0;34m)\u001b[0m\u001b[0;34m.\u001b[0m\u001b[0mastype\u001b[0m\u001b[0;34m(\u001b[0m\u001b[0;34m'double'\u001b[0m\u001b[0;34m)\u001b[0m\u001b[0;34m\u001b[0m\u001b[0m\n\u001b[0m\u001b[1;32m      5\u001b[0m \u001b[0mmodel\u001b[0m\u001b[0;34m.\u001b[0m\u001b[0mfit\u001b[0m\u001b[0;34m(\u001b[0m\u001b[0mtrain_data_conf\u001b[0m\u001b[0;34m)\u001b[0m\u001b[0;34m\u001b[0m\u001b[0m\n\u001b[1;32m      6\u001b[0m \u001b[0;34m\u001b[0m\u001b[0m\n",
      "\u001b[0;31mNameError\u001b[0m: name 'train_sparse_item_user' is not defined"
     ]
    }
   ],
   "source": [
    "\n",
    "model = implicit.als.AlternatingLeastSquares(factors = 25, regularization=0.0001, iterations=5)\n",
    "\n",
    "train_data_conf = (train_sparse_item_user * 1 ).astype('double')\n",
    "model.fit(train_data_conf)\n",
    "\n",
    "user_id = 2093760\n",
    "top = 5\n",
    "for incremental_artist_id, score in model.recommend(userid = get_incrementalUserID(user_id), user_items = train_sparse_user_item, N =5):\n",
    "    print(\"Top\",top)\n",
    "    top -= 1\n",
    "    print(\"Artist Name:\",get_artist_name(get_artistID(incremental_artist_id)))\n",
    "    print(\"Score:\",score)\n",
    "    print(\"===========================\")"
   ]
  },
  {
   "cell_type": "code",
   "execution_count": 115,
   "metadata": {
    "scrolled": false
   },
   "outputs": [
    {
     "data": {
      "image/png": "[encoded data removed]",
      "text/plain": [
       "<Figure size 864x864 with 2 Axes>"
      ]
     },
     "metadata": {},
     "output_type": "display_data"
    }
   ],
   "source": [
    "#Create tuples (number of play counts, confidence of the 1st recomendation) for 149 users ranging from top to bottom play count\n",
    "'''\n",
    "The top ranked users were removed\n",
    "for the sake of making the plot more clear\n",
    "as their confidence are way higher that\n",
    "they ruin the confidence scale\n",
    "'''\n",
    "playCount_Confidence = [(rankedUsers.iloc[i]['playCount'], model.recommend(userid = get_incrementalUserID(userPlayCount.iloc[i]['userID']), user_items = sparse_user_item, N =1)[0][1])  for i in range(0, userPlayCount.count().values[0]-1, 1000)]\n",
    "\n",
    "\n",
    "\n",
    "#Plot PlayCounts and accuracy of the recommendation per user\n",
    "\n",
    "fig = plt.figure(1)\n",
    "\n",
    "\n",
    "ax1 = plt.subplot(2, 1, 1)\n",
    "\n",
    "ax1.semilogx()\n",
    "plt.scatter(*zip(*playCount_Confidence))\n",
    "ax1.set_xlabel('Number of Plays')\n",
    "ax1.set_ylabel('Recommendation Confidence')\n",
    "ax1.set_title('Relation between Play Count and Confidence in the Recommendation per User')\n",
    "\n",
    "\n",
    "#Create tuples (number of diferent artist the user has search, confidence of the 1st recomendation) for the 149 users ranging from top to bottom curiosity\n",
    "curiosity_Confidence = [(rankedUsersCuriosity.iloc[i]['realArtistID'], model.recommend(userid = get_incrementalUserID(rankedUsersCuriosity.iloc[i]['userID']), user_items = sparse_user_item, N =1)[0][1])  for i in range(0, userPlayCount.count().values[0]-1, 1000)]\n",
    "\n",
    "\n",
    "\n",
    "ax2 = plt.subplot(2, 1, 2)\n",
    "\n",
    "ax2.semilogx()\n",
    "plt.scatter(*zip(*curiosity_Confidence))\n",
    "ax2.set_xlabel('Number of Artists a User has Searched')\n",
    "ax2.set_ylabel('Recommendation Confidence')\n",
    "ax2.set_title('Relation between the Curiosity and Confidence in the Recommendation per User')\n",
    "\n",
    "fig.set_size_inches(w=12,h=12)\n",
    "\n",
    "plt.show()"
   ]
  },
  {
   "cell_type": "markdown",
   "metadata": {},
   "source": [
    "<div class=\"alert alert-success\" style=\"background-color: AliceBlue; border-color: CornflowerBlue \"> \n",
    "After tuning the parameters and training the model again, we've tried to re-observe the relation between the recommendation confidence with each of the user curiosity and the play count per user. However, we achieved more or less the same shapes as in the last case. The key difference was that after tuning the parameters, a higher general confidence was achieved for most of the users in both plots.\n",
    "</div>"
   ]
  },
  {
   "cell_type": "markdown",
   "metadata": {
    "slideshow": {
     "slide_type": "slide"
    }
   },
   "source": [
    "# Summary\n",
    "\n",
    "In this notebook, we introduce an algorithm to do matrix factorization and the way of using it to make recommendation. Further more, we studied how to build a large-scale recommender system using ALS algorithm and evaluate its quality. Finally, a simple approach to choose good parameters is mentioned."
   ]
  },
  {
   "cell_type": "markdown",
   "metadata": {},
   "source": [
    "# References\n",
    "\n",
    "- The example in section 2 is taken from [Recommender system](infolab.stanford.edu/~ullman/mmds/ch9.pdf)"
   ]
  },
  {
   "cell_type": "code",
   "execution_count": null,
   "metadata": {},
   "outputs": [],
   "source": []
  }
 ],
 "metadata": {
  "kernelspec": {
   "display_name": "Python 3",
   "language": "python",
   "name": "python3"
  },
  "language_info": {
   "codemirror_mode": {
    "name": "ipython",
    "version": 3
   },
   "file_extension": ".py",
   "mimetype": "text/x-python",
   "name": "python",
   "nbconvert_exporter": "python",
   "pygments_lexer": "ipython3",
   "version": "3.5.2"
  },
  "rise": {
   "scroll": true,
   "theme": "white",
   "transition": "zoom"
  }
 },
 "nbformat": 4,
 "nbformat_minor": 2
}
